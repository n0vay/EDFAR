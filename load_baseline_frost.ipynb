{
  "cells": [
    {
      "cell_type": "markdown",
      "metadata": {
        "id": "view-in-github",
        "colab_type": "text"
      },
      "source": [
        "<a href=\"https://colab.research.google.com/github/n0vay/EDFAR/blob/master/load_baseline_frost.ipynb\" target=\"_parent\"><img src=\"https://colab.research.google.com/assets/colab-badge.svg\" alt=\"Open In Colab\"/></a>"
      ]
    },
    {
      "cell_type": "markdown",
      "metadata": {
        "execution": {},
        "id": "GNKXCLinURdf"
      },
      "source": [
        "----\n",
        "# Objective\n",
        "\n",
        "Data augmentation refers to synthetically increasing the amount of training data by transforming the existing training examples. Data augmentation has been shown to be a very useful technique, especially in computer vision applications. However, there are multiple ways of performing data augmentation and it is yet to be understood which transformations are more effective and why, and how data augmentation interacts with other techniques. In fact, it is common to see different augmentation schemes and setups in different papers. For example, there are perceptually possible image transformations (related to human visual perception), simple synthetic transformations such as cutout, more artificial transformations such as mixup that even transform the class labels, among many others.  \n",
        "\n",
        "In this notebook, we will show how to train deep neural networks for image classification with data augmentation and analyse the results."
      ]
    },
    {
      "cell_type": "markdown",
      "metadata": {
        "execution": {},
        "id": "FhcK8oA3URdf"
      },
      "source": [
        "---\n",
        "# Setup\n"
      ]
    },
    {
      "cell_type": "code",
      "execution_count": 1,
      "metadata": {
        "execution": {},
        "id": "Gn823Bu7URdf"
      },
      "outputs": [],
      "source": [
        "# @title Install dependencies\n",
        "!pip install pandas --quiet"
      ]
    },
    {
      "cell_type": "code",
      "execution_count": 2,
      "metadata": {
        "execution": {},
        "id": "Vx8p24iVURdg"
      },
      "outputs": [],
      "source": [
        "# imports\n",
        "import os\n",
        "import csv\n",
        "import multiprocessing\n",
        "\n",
        "import numpy as np\n",
        "import pandas as pd\n",
        "import matplotlib.pyplot as plt\n",
        "\n",
        "import torch\n",
        "import torch.nn as nn\n",
        "import torch.optim as optim\n",
        "import torch.nn.functional as F\n",
        "import torch.backends.cudnn as cudnn\n",
        "from torch.autograd import Variable\n",
        "from torch.utils.data import Dataset, DataLoader\n",
        "\n",
        "import torchvision\n",
        "import torchvision.transforms as transforms"
      ]
    },
    {
      "cell_type": "code",
      "execution_count": 3,
      "metadata": {
        "cellView": "form",
        "execution": {},
        "id": "RmTxDJAzURdg"
      },
      "outputs": [],
      "source": [
        "# @title Set random seed\n",
        "\n",
        "# @markdown Executing `set_seed(seed=seed)` you are setting the seed\n",
        "\n",
        "# for DL its critical to set the random seed so that students can have a\n",
        "# baseline to compare their results to expected results.\n",
        "# Read more here: https://pytorch.org/docs/stable/notes/randomness.html\n",
        "\n",
        "# Call `set_seed` function in the exercises to ensure reproducibility.\n",
        "import random\n",
        "import torch\n",
        "\n",
        "def set_seed(seed=None, seed_torch=True):\n",
        "  if seed is None:\n",
        "    seed = np.random.choice(2 ** 32)\n",
        "  random.seed(seed)\n",
        "  np.random.seed(seed)\n",
        "  if seed_torch:\n",
        "    torch.manual_seed(seed)\n",
        "    torch.cuda.manual_seed_all(seed)\n",
        "    torch.cuda.manual_seed(seed)\n",
        "    torch.backends.cudnn.benchmark = False\n",
        "    torch.backends.cudnn.deterministic = True\n",
        "\n",
        "  print(f'Random seed {seed} has been set.')\n",
        "\n",
        "# In case that `DataLoader` is used\n",
        "def seed_worker(worker_id):\n",
        "  worker_seed = torch.initial_seed() % 2**32\n",
        "  np.random.seed(worker_seed)\n",
        "  random.seed(worker_seed)"
      ]
    },
    {
      "cell_type": "code",
      "execution_count": 4,
      "metadata": {
        "cellView": "form",
        "execution": {},
        "id": "GtSiItY6URdh"
      },
      "outputs": [],
      "source": [
        "# @title Set device (GPU or CPU)\n",
        "\n",
        "# inform the user if the notebook uses GPU or CPU.\n",
        "\n",
        "def set_device():\n",
        "  device = \"cuda\" if torch.cuda.is_available() else \"cpu\"\n",
        "  if device != \"cuda\":\n",
        "    print(\"WARNING: For this notebook to perform best, \"\n",
        "        \"if possible, in the menu under `Runtime` -> \"\n",
        "        \"`Change runtime type.`  select `GPU` \")\n",
        "  else:\n",
        "    print(\"GPU is enabled in this notebook.\")\n",
        "\n",
        "  return device"
      ]
    },
    {
      "cell_type": "code",
      "execution_count": 5,
      "metadata": {
        "execution": {},
        "id": "AVhp7kTdURdh",
        "outputId": "b2369345-4ca9-48a0-96ab-515cf1b1b6ea",
        "colab": {
          "base_uri": "https://localhost:8080/",
          "height": 71
        }
      },
      "outputs": [
        {
          "output_type": "stream",
          "name": "stdout",
          "text": [
            "Random seed 2021 has been set.\n",
            "GPU is enabled in this notebook.\n"
          ]
        },
        {
          "output_type": "execute_result",
          "data": {
            "text/plain": [
              "'cuda'"
            ],
            "application/vnd.google.colaboratory.intrinsic+json": {
              "type": "string"
            }
          },
          "metadata": {},
          "execution_count": 5
        }
      ],
      "source": [
        "set_seed(seed=2021)\n",
        "set_device()"
      ]
    },
    {
      "cell_type": "markdown",
      "metadata": {
        "execution": {},
        "id": "CYMv-0ayURdi"
      },
      "source": [
        "### Training hyperparameters\n",
        "\n",
        "**Note:** We have reduced the number of epochs, `end_epochs`. The value was set to 200. Please, change it back and run the code."
      ]
    },
    {
      "cell_type": "code",
      "execution_count": 20,
      "metadata": {
        "execution": {},
        "id": "oD3TTcyJURdi"
      },
      "outputs": [],
      "source": [
        "# hyper-parameters\n",
        "use_cuda = torch.cuda.is_available()\n",
        "alpha = 1  # alpha for mixup augmentation\n",
        "best_acc = 0  # best test accuracy\n",
        "start_epoch = 0  # start from epoch 0 or last checkpoint epoch\n",
        "batch_size = 128\n",
        "end_apochs = 25  # Please change this to 200\n",
        "base_learning_rate = 0.1\n",
        "n_holes = 1  # number of holes to cut out from image for cutout\n",
        "length = 16  # length of the holes for cutout augmentation"
      ]
    },
    {
      "cell_type": "markdown",
      "metadata": {
        "execution": {},
        "id": "DmpEXgLnURdk"
      },
      "source": [
        "---\n",
        "# Data"
      ]
    },
    {
      "cell_type": "markdown",
      "metadata": {
        "execution": {},
        "id": "85E5z7O7URdk"
      },
      "source": [
        "## Datasets\n",
        "\n",
        "We will start using CIFAR-10 data set from PyTorch, but with small tweaks we can get any other data we are interested in. "
      ]
    },
    {
      "cell_type": "code",
      "execution_count": 7,
      "metadata": {
        "execution": {},
        "id": "wDchup0qURdk",
        "outputId": "3ff725c4-4531-4763-9fe5-8cba6cbaeea3",
        "colab": {
          "base_uri": "https://localhost:8080/",
          "height": 120,
          "referenced_widgets": [
            "06ff427576014ce4bd3e0da2f60fa438",
            "84d58ad489e5415798531f11ffa43606",
            "089aa0bbdd804042a670380de1fc0776",
            "92235d8813114488ae9dad753070b87c",
            "74061c1f0ca346e08bac7a332ff81fae",
            "aa000062f2f04d5a9b0e585e2c84faf8",
            "d502118673d24808a5376517d5cfd4bb",
            "a4429bd59b894dae946b3dfbf664f434",
            "645d4a45ae7c48cf88c79e195235e5af",
            "d6d587022574492b84a39e8cae8a6048",
            "85d1b93a86514ed38d22cfb0969a40a1"
          ]
        }
      },
      "outputs": [
        {
          "output_type": "stream",
          "name": "stdout",
          "text": [
            "==> Preparing data...\n",
            "Downloading https://www.cs.toronto.edu/~kriz/cifar-10-python.tar.gz to ./CIFAR10/cifar-10-python.tar.gz\n"
          ]
        },
        {
          "output_type": "display_data",
          "data": {
            "text/plain": [
              "  0%|          | 0/170498071 [00:00<?, ?it/s]"
            ],
            "application/vnd.jupyter.widget-view+json": {
              "version_major": 2,
              "version_minor": 0,
              "model_id": "06ff427576014ce4bd3e0da2f60fa438"
            }
          },
          "metadata": {}
        },
        {
          "output_type": "stream",
          "name": "stdout",
          "text": [
            "Extracting ./CIFAR10/cifar-10-python.tar.gz to ./CIFAR10\n",
            "Files already downloaded and verified\n"
          ]
        }
      ],
      "source": [
        "# @markdown Download and prepare Data\n",
        "print('==> Preparing data...')\n",
        "def percentageSplit(full_dataset, percent=0.0):\n",
        "  set1_size = int(percent * len(full_dataset))\n",
        "  set2_size = len(full_dataset) - set1_size\n",
        "  final_dataset, _ = torch.utils.data.random_split(full_dataset,\n",
        "                                                   [set1_size, set2_size])\n",
        "  return final_dataset\n",
        "\n",
        "# CIFAR100 normalizing\n",
        "# mean = [0.5071, 0.4866, 0.4409]\n",
        "# std = [0.2673, 0.2564, 0.2762]\n",
        "\n",
        "# CIFAR10 normalizing\n",
        "mean = (0.4914, 0.4822, 0.4465)\n",
        "std = (0.2023, 0.1994, 0.2010)\n",
        "\n",
        "# torchvision transforms\n",
        "transform_train = transforms.Compose([])\n",
        "transform_train.transforms.append(transforms.ToTensor())\n",
        "transform_train.transforms.append(transforms.Normalize(mean, std))\n",
        "#transform_train.transforms.append(transforms.RandomCrop(32, padding=4))\n",
        "#transform_train.transforms.append(transforms.RandomHorizontalFlip())\n",
        "\n",
        "transform_test = transforms.Compose([\n",
        "    transforms.ToTensor(),\n",
        "    transforms.Normalize(mean, std),\n",
        "])\n",
        "\n",
        "trainset = torchvision.datasets.CIFAR10(\n",
        "    root='./CIFAR10', train=True, download=True,\n",
        "    transform=transform_train)\n",
        "\n",
        "testset = torchvision.datasets.CIFAR10(\n",
        "    root='./CIFAR10', train=False, download=True,\n",
        "    transform=transform_test)"
      ]
    },
    {
      "cell_type": "markdown",
      "metadata": {
        "execution": {},
        "id": "ZItQGvYBURdk"
      },
      "source": [
        "#### CIFAR-10\n",
        "\n",
        "CIFAR-10 is a data set of 50,000 colour (RGB) training images and 10,000 test images, of size 32 x 32 pixels. Each image is labelled as 1 of 10 possible classes: \n",
        "```\n",
        "'plane', 'car', 'bird', 'cat', 'deer', 'dog', 'frog', 'horse', 'ship', 'truck'\n",
        "```\n",
        "The data set is stored as a custom `torchvision.datasets.cifar.CIFAR` object. You can check some of its properties with the following code:"
      ]
    },
    {
      "cell_type": "code",
      "execution_count": 8,
      "metadata": {
        "execution": {},
        "id": "cGkVTyNfURdk",
        "outputId": "bebba83e-c5ab-46c1-9a7e-00022f2487d0",
        "colab": {
          "base_uri": "https://localhost:8080/"
        }
      },
      "outputs": [
        {
          "output_type": "stream",
          "name": "stdout",
          "text": [
            "Object type: <class 'torchvision.datasets.cifar.CIFAR10'>\n",
            "Training data shape: (50000, 32, 32, 3)\n",
            "Test data shape: (10000, 32, 32, 3)\n",
            "Number of classes: 10\n"
          ]
        }
      ],
      "source": [
        "print(f\"Object type: {type(trainset)}\")\n",
        "print(f\"Training data shape: {trainset.data.shape}\")\n",
        "print(f\"Test data shape: {testset.data.shape}\")\n",
        "print(f\"Number of classes: {np.unique(trainset.targets).shape[0]}\")"
      ]
    },
    {
      "cell_type": "code",
      "execution_count": 9,
      "metadata": {
        "execution": {},
        "id": "1XRIk7aFURdl",
        "outputId": "3095fb93-c397-4b0b-c9c4-0ca9aec6dfb8",
        "colab": {
          "base_uri": "https://localhost:8080/"
        }
      },
      "outputs": [
        {
          "output_type": "stream",
          "name": "stdout",
          "text": [
            "size of the new trainset: 50000\n"
          ]
        }
      ],
      "source": [
        "# choose percentage from the trainset. set percent = 1.0 to use the whole train data\n",
        "percent = 1.0\n",
        "trainset = percentageSplit(trainset, percent = percent)\n",
        "print(f\"size of the new trainset: {len(trainset)}\")"
      ]
    },
    {
      "cell_type": "markdown",
      "metadata": {
        "execution": {},
        "id": "EE86ghpOURdl"
      },
      "source": [
        "## Data loaders\n",
        "\n",
        "A dataloader is an optimized data iterator that provides functionality for efficient shuffling, transformation and batching of the data."
      ]
    },
    {
      "cell_type": "code",
      "execution_count": 10,
      "metadata": {
        "execution": {},
        "id": "hLJfLMLDURdl",
        "outputId": "bb465644-520a-4354-fd98-d8677e1d00f8",
        "colab": {
          "base_uri": "https://localhost:8080/"
        }
      },
      "outputs": [
        {
          "output_type": "stream",
          "name": "stdout",
          "text": [
            "----> number of workers: 2\n"
          ]
        }
      ],
      "source": [
        "# Dataloader\n",
        "num_workers = multiprocessing.cpu_count()\n",
        "\n",
        "print(f'----> number of workers: {num_workers}')\n",
        "\n",
        "trainloader = torch.utils.data.DataLoader(\n",
        "    trainset, batch_size=batch_size, shuffle=True, num_workers=num_workers)\n",
        "testloader = torch.utils.data.DataLoader(\n",
        "    testset, batch_size=batch_size, shuffle=False, num_workers=num_workers)"
      ]
    },
    {
      "cell_type": "markdown",
      "metadata": {
        "execution": {},
        "id": "lm0GkJGTURdl"
      },
      "source": [
        "## Visualization\n",
        "\n",
        "To visualize some of the augmentations, make sure you set to ```True``` their corresponding flags in the hyperparameters section"
      ]
    },
    {
      "cell_type": "code",
      "execution_count": 11,
      "metadata": {
        "execution": {},
        "id": "AbEW1I-aURdl"
      },
      "outputs": [],
      "source": [
        "# get batch of data\n",
        "batch_X, batch_Y =  next(iter(trainloader))"
      ]
    },
    {
      "cell_type": "code",
      "execution_count": 12,
      "metadata": {
        "execution": {},
        "id": "H1teXq0wURdl"
      },
      "outputs": [],
      "source": [
        "def plot_mixed_images(images):\n",
        "  inv_normalize = transforms.Normalize(\n",
        "                      mean= [-m/s for m, s in zip(mean, std)],\n",
        "                      std= [1/s for s in std]\n",
        "                      )\n",
        "  inv_PIL = transforms.ToPILImage()\n",
        "  fig = plt.figure(figsize=(10, 8))\n",
        "  for i in range(1, len(images) + 1):\n",
        "    image = images[i-1]\n",
        "    ax = fig.add_subplot(1, 4, i)\n",
        "    inv_tensor = inv_normalize(image).cpu()\n",
        "    ax.imshow(inv_PIL(inv_tensor))\n",
        "  plt.show()"
      ]
    },
    {
      "cell_type": "code",
      "source": [
        "plot_mixed_images(batch_X[:4])"
      ],
      "metadata": {
        "colab": {
          "base_uri": "https://localhost:8080/",
          "height": 171
        },
        "id": "HFJJL-E2tgu4",
        "outputId": "89d3562b-0602-45e2-f6ae-3b37898729e0"
      },
      "execution_count": 13,
      "outputs": [
        {
          "output_type": "display_data",
          "data": {
            "text/plain": [
              "<Figure size 720x576 with 4 Axes>"
            ],
            "image/png": "[encoded data removed]"
          },
          "metadata": {
            "needs_background": "light"
          }
        }
      ]
    },
    {
      "cell_type": "markdown",
      "metadata": {
        "execution": {},
        "id": "DR7kr7CfURdm"
      },
      "source": [
        "---\n",
        "# Model"
      ]
    },
    {
      "cell_type": "markdown",
      "metadata": {
        "execution": {},
        "id": "KshELBukURdm"
      },
      "source": [
        "## Architecture: ResNet\n",
        "\n",
        "ResNet is a family of network architectures whose main property is that the network is organised as a stack of _residual blocks_. Residual blocks consist of a stack of layers whose output is added the input, making a _shortcut connection_.\n",
        "\n",
        "See the [original paper](https://arxiv.org/abs/1512.03385) for more details.\n",
        "\n",
        "ResNet is just a popular choice out of many others, but data augmentation works well in general. We just picked ResNet for illustration purposes."
      ]
    },
    {
      "cell_type": "code",
      "execution_count": 14,
      "metadata": {
        "execution": {},
        "id": "luQpkUklURdm"
      },
      "outputs": [],
      "source": [
        "# @markdown ResNet model in PyTorch\n",
        "\n",
        "class BasicBlock(nn.Module):\n",
        "  \"\"\"ResNet in PyTorch.\n",
        "        Reference:\n",
        "        [1] Kaiming He, Xiangyu Zhang, Shaoqing Ren, Jian Sun\n",
        "        Deep Residual Learning for Image Recognition.\n",
        "        arXiv:1512.03385\n",
        "  \"\"\"\n",
        "  expansion = 1\n",
        "\n",
        "  def __init__(self, in_planes, planes, stride=1):\n",
        "    super(BasicBlock, self).__init__()\n",
        "    self.conv1 = nn.Conv2d(in_planes, planes, kernel_size=3, stride=stride, padding=1, bias=False)\n",
        "    self.bn1 = nn.BatchNorm2d(planes)\n",
        "    self.conv2 = nn.Conv2d(planes, planes, kernel_size=3, stride=1, padding=1, bias=False)\n",
        "    self.bn2 = nn.BatchNorm2d(planes)\n",
        "\n",
        "    self.shortcut = nn.Sequential()\n",
        "    if stride != 1 or in_planes != self.expansion*planes:\n",
        "        self.shortcut = nn.Sequential(\n",
        "            nn.Conv2d(in_planes, self.expansion*planes, kernel_size=1, stride=stride, bias=False),\n",
        "            nn.BatchNorm2d(self.expansion*planes)\n",
        "        )\n",
        "\n",
        "  def forward(self, x):\n",
        "    out = F.relu(self.bn1(self.conv1(x)))\n",
        "    out = self.bn2(self.conv2(out))\n",
        "    out += self.shortcut(x)\n",
        "    out = F.relu(out)\n",
        "    return out\n",
        "\n",
        "class Bottleneck(nn.Module):\n",
        "  expansion = 4\n",
        "\n",
        "  def __init__(self, in_planes, planes, stride=1):\n",
        "    super(Bottleneck, self).__init__()\n",
        "    self.conv1 = nn.Conv2d(in_planes, planes, kernel_size=1, bias=False)\n",
        "    self.bn1 = nn.BatchNorm2d(planes)\n",
        "    self.conv2 = nn.Conv2d(planes, planes, kernel_size=3, stride=stride, padding=1, bias=False)\n",
        "    self.bn2 = nn.BatchNorm2d(planes)\n",
        "    self.conv3 = nn.Conv2d(planes, self.expansion*planes, kernel_size=1, bias=False)\n",
        "    self.bn3 = nn.BatchNorm2d(self.expansion*planes)\n",
        "\n",
        "    self.shortcut = nn.Sequential()\n",
        "    if stride != 1 or in_planes != self.expansion*planes:\n",
        "      self.shortcut = nn.Sequential(\n",
        "          nn.Conv2d(in_planes, self.expansion*planes, kernel_size=1, stride=stride, bias=False),\n",
        "          nn.BatchNorm2d(self.expansion*planes)\n",
        "      )\n",
        "\n",
        "  def forward(self, x):\n",
        "    out = F.relu(self.bn1(self.conv1(x)))\n",
        "    out = F.relu(self.bn2(self.conv2(out)))\n",
        "    out = self.bn3(self.conv3(out))\n",
        "    out += self.shortcut(x)\n",
        "    out = F.relu(out)\n",
        "    return out\n",
        "\n",
        "\n",
        "class ResNet(nn.Module):\n",
        "  def __init__(self, block, num_blocks, num_classes=10):\n",
        "    super(ResNet, self).__init__()\n",
        "    self.in_planes = 64\n",
        "\n",
        "    self.conv1 = nn.Conv2d(3, 64, kernel_size=3, stride=1, padding=1, bias=False)\n",
        "    self.bn1 = nn.BatchNorm2d(64)\n",
        "    self.layer1 = self._make_layer(block, 64, num_blocks[0], stride=1)\n",
        "    self.layer2 = self._make_layer(block, 128, num_blocks[1], stride=2)\n",
        "    self.layer3 = self._make_layer(block, 256, num_blocks[2], stride=2)\n",
        "    self.layer4 = self._make_layer(block, 512, num_blocks[3], stride=2)\n",
        "    self.linear = nn.Linear(512*block.expansion, num_classes)\n",
        "\n",
        "  def _make_layer(self, block, planes, num_blocks, stride):\n",
        "    strides = [stride] + [1]*(num_blocks-1)\n",
        "    layers = []\n",
        "    for stride in strides:\n",
        "      layers.append(block(self.in_planes, planes, stride))\n",
        "      self.in_planes = planes * block.expansion\n",
        "    return nn.Sequential(*layers)\n",
        "\n",
        "  def forward(self, x):\n",
        "    out = F.relu(self.bn1(self.conv1(x)))\n",
        "    out = self.layer1(out)\n",
        "    out = self.layer2(out)\n",
        "    out = self.layer3(out)\n",
        "    out = self.layer4(out)\n",
        "    out = F.avg_pool2d(out, 4)\n",
        "    out = out.view(out.size(0), -1)\n",
        "    out = self.linear(out)\n",
        "    return out\n",
        "\n",
        "\n",
        "def ResNet18():\n",
        "  return ResNet(BasicBlock, [2, 2, 2, 2])\n",
        "\n",
        "\n",
        "def ResNet34():\n",
        "  return ResNet(BasicBlock, [3, 4, 6, 3])\n",
        "\n",
        "\n",
        "def ResNet50():\n",
        "  return ResNet(Bottleneck, [3, 4, 6, 3])"
      ]
    },
    {
      "cell_type": "markdown",
      "metadata": {
        "execution": {},
        "id": "nMfpns3wURdn"
      },
      "source": [
        "## Model setup and test"
      ]
    },
    {
      "cell_type": "code",
      "execution_count": 15,
      "metadata": {
        "execution": {},
        "id": "d77oMyG-URdn",
        "outputId": "c370f993-fd49-4630-ab48-f15dedbd46bd",
        "colab": {
          "base_uri": "https://localhost:8080/"
        }
      },
      "outputs": [
        {
          "output_type": "stream",
          "name": "stdout",
          "text": [
            "-----> verify if model is run on random data\n",
            "model loaded\n",
            "Using 1 GPUs.\n",
            "Using CUDA..\n"
          ]
        }
      ],
      "source": [
        "# load the Model\n",
        "net = ResNet18()\n",
        "print('-----> verify if model is run on random data')\n",
        "y = net(Variable(torch.randn(1,3,32,32)))\n",
        "print('model loaded')\n",
        "\n",
        "result_folder = './results/'\n",
        "if not os.path.exists(result_folder):\n",
        "    os.makedirs(result_folder)\n",
        "\n",
        "logname = result_folder + net.__class__.__name__ + '_' + '.csv'\n",
        "\n",
        "if use_cuda:\n",
        "  net.cuda()\n",
        "  net = torch.nn.DataParallel(net)\n",
        "  print('Using', torch.cuda.device_count(), 'GPUs.')\n",
        "  cudnn.benchmark = True\n",
        "  print('Using CUDA..')"
      ]
    },
    {
      "cell_type": "code",
      "source": [
        "# model = ResNet18()\n",
        "# model.load_state_dict(torch.load('model'))\n",
        "# model.eval()"
      ],
      "metadata": {
        "id": "xV6kQ-AVDRRk"
      },
      "execution_count": null,
      "outputs": []
    },
    {
      "cell_type": "markdown",
      "metadata": {
        "execution": {},
        "id": "Uv1NJjqJURdn"
      },
      "source": [
        "---\n",
        "# Training"
      ]
    },
    {
      "cell_type": "markdown",
      "metadata": {
        "execution": {},
        "id": "dI6G2zw5URdn"
      },
      "source": [
        "## Loss function and Optimizer\n",
        "\n",
        "We use the cross entropy loss, commonly used for classification, and stochastic gradient descent (SGD) as optimizer, with momentum and weight decay."
      ]
    },
    {
      "cell_type": "code",
      "execution_count": 16,
      "metadata": {
        "execution": {},
        "id": "OpJqp9kgURdn"
      },
      "outputs": [],
      "source": [
        "# optimizer and criterion\n",
        "\n",
        "criterion = nn.CrossEntropyLoss()  # only for test data\n",
        "optimizer = optim.SGD(net.parameters(), lr=base_learning_rate, momentum=0.9, weight_decay=1e-4)"
      ]
    },
    {
      "cell_type": "markdown",
      "metadata": {
        "execution": {},
        "id": "PTS3E3_eURdn"
      },
      "source": [
        "## Train and test loops"
      ]
    },
    {
      "cell_type": "code",
      "execution_count": 17,
      "metadata": {
        "execution": {},
        "id": "33Ju5_gvURdn"
      },
      "outputs": [],
      "source": [
        "# Training & Test functions\n",
        "def train(epoch, alpha, use_cuda=False):\n",
        "  print('\\nEpoch: %d' % epoch)\n",
        "  net.train()\n",
        "  train_loss = 0\n",
        "  correct = 0\n",
        "  total = 0\n",
        "  for batch_idx, (inputs, targets) in enumerate(trainloader):\n",
        "    if use_cuda:\n",
        "      inputs, targets = inputs.cuda(), targets.cuda()\n",
        "      optimizer.zero_grad()\n",
        "      inputs, targets = Variable(inputs), Variable(targets)\n",
        "      outputs = net(inputs)\n",
        "      loss = criterion(outputs, targets)\n",
        "\n",
        "    loss.backward()\n",
        "    optimizer.step()\n",
        "\n",
        "    train_loss += loss.item()\n",
        "    _, predicted = torch.max(outputs.data, 1)\n",
        "    total += targets.size(0)\n",
        "    correct += predicted.eq(targets.data).cpu().sum()\n",
        "\n",
        "    if batch_idx % 500 == 0:\n",
        "      print(batch_idx, len(trainloader), 'Loss: %.3f | Acc: %.3f%% (%d/%d)'\n",
        "          % (train_loss/(batch_idx+1), 100.*correct/total, correct, total))\n",
        "  return (train_loss/batch_idx, 100.*correct/total)\n",
        "\n",
        "\n",
        "def test(epoch, use_cuda=False):\n",
        "  global best_acc\n",
        "  net.eval()\n",
        "  test_loss = 0\n",
        "  correct = 0\n",
        "  total = 0\n",
        "  with torch.no_grad():\n",
        "    for batch_idx, (inputs, targets) in enumerate(testloader):\n",
        "      if use_cuda:\n",
        "        inputs, targets = inputs.cuda(), targets.cuda()\n",
        "      # inputs, targets = Variable(inputs, volatile=True), Variable(targets)\n",
        "      outputs = net(inputs)\n",
        "      loss = criterion(outputs, targets)\n",
        "\n",
        "      test_loss += loss.item()\n",
        "      _, predicted = torch.max(outputs.data, 1)\n",
        "      total += targets.size(0)\n",
        "      correct += predicted.eq(targets.data).cpu().sum()\n",
        "\n",
        "      if batch_idx % 200 == 0:\n",
        "        print(batch_idx, len(testloader), 'Loss: %.3f | Acc: %.3f%% (%d/%d)'\n",
        "            % (test_loss/(batch_idx+1), 100.*correct/total, correct, total))\n",
        "\n",
        "  # Save checkpoint.\n",
        "  acc = 100.*correct/total\n",
        "  if acc > best_acc:\n",
        "    best_acc = acc\n",
        "    checkpoint(acc, epoch)\n",
        "  return (test_loss/batch_idx, 100.*correct/total)"
      ]
    },
    {
      "cell_type": "markdown",
      "metadata": {
        "execution": {},
        "id": "TyGR3I-LURdn"
      },
      "source": [
        "### Auxiliary functions\n",
        "\n",
        "* `checkpoint()`: Store checkpoints of the model\n",
        "* `adjust_learning_rate()`: Decreases the learning rate (learning rate decay) at certain epochs of training."
      ]
    },
    {
      "cell_type": "code",
      "execution_count": 18,
      "metadata": {
        "execution": {},
        "id": "kd_YpvRGURdo"
      },
      "outputs": [],
      "source": [
        "# @markdown `checkpoint` and `adjust_learning_rate` functions\n",
        "def checkpoint(acc, epoch):\n",
        "  # Save checkpoint.\n",
        "  print('Saving..')\n",
        "  state = {\n",
        "      'net': net.state_dict(),\n",
        "      'acc': acc,\n",
        "      'epoch': epoch,\n",
        "      'rng_state': torch.get_rng_state()\n",
        "      }\n",
        "  if not os.path.isdir('checkpoint'):\n",
        "    os.mkdir('checkpoint')\n",
        "  torch.save(state, './checkpoint/ckpt.t7')\n",
        "\n",
        "\n",
        "def adjust_learning_rate(optimizer, epoch):\n",
        "  \"\"\"decrease the learning rate at 100 and 150 epoch\"\"\"\n",
        "  lr = base_learning_rate\n",
        "  if epoch <= 9 and lr > 0.1:\n",
        "    # warm-up training for large minibatch\n",
        "    lr = 0.1 + (base_learning_rate - 0.1) * epoch / 10.\n",
        "  if epoch >= 100:\n",
        "    lr /= 10\n",
        "  if epoch >= 150:\n",
        "    lr /= 10\n",
        "  for param_group in optimizer.param_groups:\n",
        "    param_group['lr'] = lr"
      ]
    },
    {
      "cell_type": "code",
      "execution_count": 21,
      "metadata": {
        "execution": {},
        "id": "I9ZH3gW2URdo",
        "outputId": "6575dc8b-95a8-4b30-a62e-566c17976250",
        "colab": {
          "base_uri": "https://localhost:8080/"
        }
      },
      "outputs": [
        {
          "output_type": "stream",
          "name": "stdout",
          "text": [
            "\n",
            "Epoch: 0\n",
            "0 391 Loss: 0.474 | Acc: 81.250% (104/128)\n",
            "0 79 Loss: 0.559 | Acc: 78.906% (101/128)\n",
            "Saving..\n",
            "Epoch: 0 | train acc: 79.79000091552734 | test acc: 75.91000366210938\n",
            "\n",
            "Epoch: 1\n",
            "0 391 Loss: 0.365 | Acc: 87.500% (112/128)\n",
            "0 79 Loss: 0.721 | Acc: 79.688% (102/128)\n",
            "Epoch: 1 | train acc: 84.08399963378906 | test acc: 75.91000366210938\n",
            "\n",
            "Epoch: 2\n",
            "0 391 Loss: 0.305 | Acc: 88.281% (113/128)\n",
            "0 79 Loss: 0.586 | Acc: 78.906% (101/128)\n",
            "Saving..\n",
            "Epoch: 2 | train acc: 87.4739990234375 | test acc: 77.62000274658203\n",
            "\n",
            "Epoch: 3\n",
            "0 391 Loss: 0.181 | Acc: 93.750% (120/128)\n",
            "0 79 Loss: 0.623 | Acc: 81.250% (104/128)\n",
            "Saving..\n",
            "Epoch: 3 | train acc: 90.37200164794922 | test acc: 79.19000244140625\n",
            "\n",
            "Epoch: 4\n",
            "0 391 Loss: 0.191 | Acc: 95.312% (122/128)\n",
            "0 79 Loss: 0.650 | Acc: 82.812% (106/128)\n",
            "Epoch: 4 | train acc: 92.75800323486328 | test acc: 78.23999786376953\n",
            "\n",
            "Epoch: 5\n",
            "0 391 Loss: 0.138 | Acc: 96.875% (124/128)\n",
            "0 79 Loss: 0.643 | Acc: 82.031% (105/128)\n",
            "Epoch: 5 | train acc: 94.38600158691406 | test acc: 77.81999969482422\n",
            "\n",
            "Epoch: 6\n",
            "0 391 Loss: 0.042 | Acc: 100.000% (128/128)\n",
            "0 79 Loss: 0.833 | Acc: 80.469% (103/128)\n",
            "Epoch: 6 | train acc: 95.95800018310547 | test acc: 78.44000244140625\n",
            "\n",
            "Epoch: 7\n",
            "0 391 Loss: 0.064 | Acc: 98.438% (126/128)\n",
            "0 79 Loss: 0.880 | Acc: 82.031% (105/128)\n",
            "Epoch: 7 | train acc: 96.22200012207031 | test acc: 77.7699966430664\n",
            "\n",
            "Epoch: 8\n",
            "0 391 Loss: 0.144 | Acc: 94.531% (121/128)\n",
            "0 79 Loss: 0.707 | Acc: 85.938% (110/128)\n",
            "Epoch: 8 | train acc: 96.91799926757812 | test acc: 78.69999694824219\n",
            "\n",
            "Epoch: 9\n",
            "0 391 Loss: 0.037 | Acc: 98.438% (126/128)\n",
            "0 79 Loss: 0.608 | Acc: 87.500% (112/128)\n",
            "Saving..\n",
            "Epoch: 9 | train acc: 97.67400360107422 | test acc: 79.22000122070312\n",
            "\n",
            "Epoch: 10\n",
            "0 391 Loss: 0.014 | Acc: 100.000% (128/128)\n",
            "0 79 Loss: 0.942 | Acc: 75.781% (97/128)\n",
            "Epoch: 10 | train acc: 97.84200286865234 | test acc: 78.94000244140625\n",
            "\n",
            "Epoch: 11\n",
            "0 391 Loss: 0.058 | Acc: 97.656% (125/128)\n",
            "0 79 Loss: 0.869 | Acc: 80.469% (103/128)\n",
            "Epoch: 11 | train acc: 97.81600189208984 | test acc: 78.62000274658203\n",
            "\n",
            "Epoch: 12\n",
            "0 391 Loss: 0.171 | Acc: 94.531% (121/128)\n",
            "0 79 Loss: 0.922 | Acc: 82.031% (105/128)\n",
            "Saving..\n",
            "Epoch: 12 | train acc: 98.18599700927734 | test acc: 79.6500015258789\n",
            "\n",
            "Epoch: 13\n",
            "0 391 Loss: 0.073 | Acc: 96.875% (124/128)\n",
            "0 79 Loss: 0.921 | Acc: 78.906% (101/128)\n",
            "Epoch: 13 | train acc: 98.25 | test acc: 77.68000030517578\n",
            "\n",
            "Epoch: 14\n",
            "0 391 Loss: 0.060 | Acc: 96.094% (123/128)\n",
            "0 79 Loss: 1.039 | Acc: 79.688% (102/128)\n",
            "Saving..\n",
            "Epoch: 14 | train acc: 98.26599884033203 | test acc: 79.75\n",
            "\n",
            "Epoch: 15\n",
            "0 391 Loss: 0.016 | Acc: 100.000% (128/128)\n",
            "0 79 Loss: 0.732 | Acc: 83.594% (107/128)\n",
            "Epoch: 15 | train acc: 98.27400207519531 | test acc: 79.12000274658203\n",
            "\n",
            "Epoch: 16\n",
            "0 391 Loss: 0.071 | Acc: 96.875% (124/128)\n",
            "0 79 Loss: 0.866 | Acc: 81.250% (104/128)\n",
            "Epoch: 16 | train acc: 98.302001953125 | test acc: 79.41000366210938\n",
            "\n",
            "Epoch: 17\n",
            "0 391 Loss: 0.053 | Acc: 96.094% (123/128)\n",
            "0 79 Loss: 0.791 | Acc: 79.688% (102/128)\n",
            "Epoch: 17 | train acc: 98.3740005493164 | test acc: 78.56999969482422\n",
            "\n",
            "Epoch: 18\n",
            "0 391 Loss: 0.041 | Acc: 99.219% (127/128)\n",
            "0 79 Loss: 1.036 | Acc: 79.688% (102/128)\n",
            "Epoch: 18 | train acc: 98.09600067138672 | test acc: 78.98999786376953\n",
            "\n",
            "Epoch: 19\n",
            "0 391 Loss: 0.066 | Acc: 98.438% (126/128)\n",
            "0 79 Loss: 0.899 | Acc: 82.812% (106/128)\n",
            "Saving..\n",
            "Epoch: 19 | train acc: 98.40399932861328 | test acc: 79.94000244140625\n",
            "\n",
            "Epoch: 20\n",
            "0 391 Loss: 0.044 | Acc: 98.438% (126/128)\n",
            "0 79 Loss: 0.863 | Acc: 80.469% (103/128)\n",
            "Epoch: 20 | train acc: 98.33999633789062 | test acc: 79.05999755859375\n",
            "\n",
            "Epoch: 21\n",
            "0 391 Loss: 0.080 | Acc: 96.094% (123/128)\n",
            "0 79 Loss: 0.884 | Acc: 79.688% (102/128)\n",
            "Epoch: 21 | train acc: 98.26399993896484 | test acc: 79.43000030517578\n",
            "\n",
            "Epoch: 22\n",
            "0 391 Loss: 0.047 | Acc: 98.438% (126/128)\n",
            "0 79 Loss: 0.880 | Acc: 83.594% (107/128)\n",
            "Saving..\n",
            "Epoch: 22 | train acc: 98.53199768066406 | test acc: 80.97000122070312\n",
            "\n",
            "Epoch: 23\n",
            "0 391 Loss: 0.025 | Acc: 99.219% (127/128)\n",
            "0 79 Loss: 0.883 | Acc: 82.812% (106/128)\n",
            "Epoch: 23 | train acc: 98.95800018310547 | test acc: 79.26000213623047\n",
            "\n",
            "Epoch: 24\n",
            "0 391 Loss: 0.050 | Acc: 99.219% (127/128)\n",
            "0 79 Loss: 1.090 | Acc: 80.469% (103/128)\n",
            "Epoch: 24 | train acc: 98.58599853515625 | test acc: 78.83000183105469\n"
          ]
        }
      ],
      "source": [
        "# start training\n",
        "if not os.path.exists(logname):\n",
        "  with open(logname, 'w') as logfile:\n",
        "    logwriter = csv.writer(logfile, delimiter=',')\n",
        "    logwriter.writerow(['epoch', 'train loss', 'train acc',\n",
        "                        'test loss', 'test acc'])\n",
        "\n",
        "for epoch in range(start_epoch, end_apochs):\n",
        "  adjust_learning_rate(optimizer, epoch)\n",
        "  train_loss, train_acc = train(epoch, alpha, use_cuda=use_cuda)\n",
        "  test_loss, test_acc = test(epoch, use_cuda=use_cuda)\n",
        "  with open(logname, 'a') as logfile:\n",
        "    logwriter = csv.writer(logfile, delimiter=',')\n",
        "    logwriter.writerow([epoch, train_loss, train_acc.item(),\n",
        "                        test_loss, test_acc.item()])\n",
        "  print(f'Epoch: {epoch} | train acc: {train_acc} | test acc: {test_acc}')"
      ]
    },
    {
      "cell_type": "code",
      "execution_count": 22,
      "metadata": {
        "execution": {},
        "id": "owclwlevURdo",
        "outputId": "918da36b-1c88-4713-8db8-0ca3be641198",
        "colab": {
          "base_uri": "https://localhost:8080/",
          "height": 206
        }
      },
      "outputs": [
        {
          "output_type": "execute_result",
          "data": {
            "text/plain": [
              "   epoch  train loss  train acc  test loss   test acc\n",
              "0      0    1.894971  33.964001   1.474300  46.169998\n",
              "1      1    1.323441  51.896000   1.303242  53.500000\n",
              "2      2    1.064466  62.152000   1.048412  63.639999\n",
              "3      3    0.859014  69.566002   0.908095  68.570000\n",
              "4      4    0.702719  75.195999   0.772812  73.540001"
            ],
            "text/html": [
              "\n",
              "  <div id=\"df-1a555533-2a71-4ad6-8876-1172304f26ab\">\n",
              "    <div class=\"colab-df-container\">\n",
              "      <div>\n",
              "<style scoped>\n",
              "    .dataframe tbody tr th:only-of-type {\n",
              "        vertical-align: middle;\n",
              "    }\n",
              "\n",
              "    .dataframe tbody tr th {\n",
              "        vertical-align: top;\n",
              "    }\n",
              "\n",
              "    .dataframe thead th {\n",
              "        text-align: right;\n",
              "    }\n",
              "</style>\n",
              "<table border=\"1\" class=\"dataframe\">\n",
              "  <thead>\n",
              "    <tr style=\"text-align: right;\">\n",
              "      <th></th>\n",
              "      <th>epoch</th>\n",
              "      <th>train loss</th>\n",
              "      <th>train acc</th>\n",
              "      <th>test loss</th>\n",
              "      <th>test acc</th>\n",
              "    </tr>\n",
              "  </thead>\n",
              "  <tbody>\n",
              "    <tr>\n",
              "      <th>0</th>\n",
              "      <td>0</td>\n",
              "      <td>1.894971</td>\n",
              "      <td>33.964001</td>\n",
              "      <td>1.474300</td>\n",
              "      <td>46.169998</td>\n",
              "    </tr>\n",
              "    <tr>\n",
              "      <th>1</th>\n",
              "      <td>1</td>\n",
              "      <td>1.323441</td>\n",
              "      <td>51.896000</td>\n",
              "      <td>1.303242</td>\n",
              "      <td>53.500000</td>\n",
              "    </tr>\n",
              "    <tr>\n",
              "      <th>2</th>\n",
              "      <td>2</td>\n",
              "      <td>1.064466</td>\n",
              "      <td>62.152000</td>\n",
              "      <td>1.048412</td>\n",
              "      <td>63.639999</td>\n",
              "    </tr>\n",
              "    <tr>\n",
              "      <th>3</th>\n",
              "      <td>3</td>\n",
              "      <td>0.859014</td>\n",
              "      <td>69.566002</td>\n",
              "      <td>0.908095</td>\n",
              "      <td>68.570000</td>\n",
              "    </tr>\n",
              "    <tr>\n",
              "      <th>4</th>\n",
              "      <td>4</td>\n",
              "      <td>0.702719</td>\n",
              "      <td>75.195999</td>\n",
              "      <td>0.772812</td>\n",
              "      <td>73.540001</td>\n",
              "    </tr>\n",
              "  </tbody>\n",
              "</table>\n",
              "</div>\n",
              "      <button class=\"colab-df-convert\" onclick=\"convertToInteractive('df-1a555533-2a71-4ad6-8876-1172304f26ab')\"\n",
              "              title=\"Convert this dataframe to an interactive table.\"\n",
              "              style=\"display:none;\">\n",
              "        \n",
              "  <svg xmlns=\"http://www.w3.org/2000/svg\" height=\"24px\"viewBox=\"0 0 24 24\"\n",
              "       width=\"24px\">\n",
              "    <path d=\"M0 0h24v24H0V0z\" fill=\"none\"/>\n",
              "    <path d=\"M18.56 5.44l.94 2.06.94-2.06 2.06-.94-2.06-.94-.94-2.06-.94 2.06-2.06.94zm-11 1L8.5 8.5l.94-2.06 2.06-.94-2.06-.94L8.5 2.5l-.94 2.06-2.06.94zm10 10l.94 2.06.94-2.06 2.06-.94-2.06-.94-.94-2.06-.94 2.06-2.06.94z\"/><path d=\"M17.41 7.96l-1.37-1.37c-.4-.4-.92-.59-1.43-.59-.52 0-1.04.2-1.43.59L10.3 9.45l-7.72 7.72c-.78.78-.78 2.05 0 2.83L4 21.41c.39.39.9.59 1.41.59.51 0 1.02-.2 1.41-.59l7.78-7.78 2.81-2.81c.8-.78.8-2.07 0-2.86zM5.41 20L4 18.59l7.72-7.72 1.47 1.35L5.41 20z\"/>\n",
              "  </svg>\n",
              "      </button>\n",
              "      \n",
              "  <style>\n",
              "    .colab-df-container {\n",
              "      display:flex;\n",
              "      flex-wrap:wrap;\n",
              "      gap: 12px;\n",
              "    }\n",
              "\n",
              "    .colab-df-convert {\n",
              "      background-color: #E8F0FE;\n",
              "      border: none;\n",
              "      border-radius: 50%;\n",
              "      cursor: pointer;\n",
              "      display: none;\n",
              "      fill: #1967D2;\n",
              "      height: 32px;\n",
              "      padding: 0 0 0 0;\n",
              "      width: 32px;\n",
              "    }\n",
              "\n",
              "    .colab-df-convert:hover {\n",
              "      background-color: #E2EBFA;\n",
              "      box-shadow: 0px 1px 2px rgba(60, 64, 67, 0.3), 0px 1px 3px 1px rgba(60, 64, 67, 0.15);\n",
              "      fill: #174EA6;\n",
              "    }\n",
              "\n",
              "    [theme=dark] .colab-df-convert {\n",
              "      background-color: #3B4455;\n",
              "      fill: #D2E3FC;\n",
              "    }\n",
              "\n",
              "    [theme=dark] .colab-df-convert:hover {\n",
              "      background-color: #434B5C;\n",
              "      box-shadow: 0px 1px 3px 1px rgba(0, 0, 0, 0.15);\n",
              "      filter: drop-shadow(0px 1px 2px rgba(0, 0, 0, 0.3));\n",
              "      fill: #FFFFFF;\n",
              "    }\n",
              "  </style>\n",
              "\n",
              "      <script>\n",
              "        const buttonEl =\n",
              "          document.querySelector('#df-1a555533-2a71-4ad6-8876-1172304f26ab button.colab-df-convert');\n",
              "        buttonEl.style.display =\n",
              "          google.colab.kernel.accessAllowed ? 'block' : 'none';\n",
              "\n",
              "        async function convertToInteractive(key) {\n",
              "          const element = document.querySelector('#df-1a555533-2a71-4ad6-8876-1172304f26ab');\n",
              "          const dataTable =\n",
              "            await google.colab.kernel.invokeFunction('convertToInteractive',\n",
              "                                                     [key], {});\n",
              "          if (!dataTable) return;\n",
              "\n",
              "          const docLinkHtml = 'Like what you see? Visit the ' +\n",
              "            '<a target=\"_blank\" href=https://colab.research.google.com/notebooks/data_table.ipynb>data table notebook</a>'\n",
              "            + ' to learn more about interactive tables.';\n",
              "          element.innerHTML = '';\n",
              "          dataTable['output_type'] = 'display_data';\n",
              "          await google.colab.output.renderOutput(dataTable, element);\n",
              "          const docLink = document.createElement('div');\n",
              "          docLink.innerHTML = docLinkHtml;\n",
              "          element.appendChild(docLink);\n",
              "        }\n",
              "      </script>\n",
              "    </div>\n",
              "  </div>\n",
              "  "
            ]
          },
          "metadata": {},
          "execution_count": 22
        }
      ],
      "source": [
        "# plot results\n",
        "results = pd.read_csv('/content/results/ResNet_.csv', sep=',')\n",
        "results.head()"
      ]
    },
    {
      "cell_type": "code",
      "execution_count": 23,
      "metadata": {
        "execution": {},
        "id": "Xt5nJPPWURdo",
        "outputId": "2ec1cff3-7b48-446f-9a38-c50de64d38bc",
        "colab": {
          "base_uri": "https://localhost:8080/"
        }
      },
      "outputs": [
        {
          "output_type": "stream",
          "name": "stdout",
          "text": [
            "Average test Accuracy over 25 epochs: 75.0\n",
            "best test accuraccy over 25 epochs: 80.97000122070312\n"
          ]
        }
      ],
      "source": [
        "train_accuracy = results['train acc'].values\n",
        "test_accuracy = results['test acc'].values\n",
        "\n",
        "print(f\"Average test Accuracy over {end_apochs} epochs: {sum(test_accuracy)//len(test_accuracy)}\")\n",
        "print(f\"best test accuraccy over {end_apochs} epochs: {max(test_accuracy)}\")"
      ]
    },
    {
      "cell_type": "code",
      "execution_count": 24,
      "metadata": {
        "execution": {},
        "id": "KX_QFkduURdo",
        "outputId": "712a0d37-18ff-4243-a83b-5c13ac0b5b93",
        "colab": {
          "base_uri": "https://localhost:8080/",
          "height": 404
        }
      },
      "outputs": [
        {
          "output_type": "display_data",
          "data": {
            "text/plain": [
              "<Figure size 648x432 with 1 Axes>"
            ],
            "image/png": "[encoded data removed]"
          },
          "metadata": {
            "needs_background": "light"
          }
        }
      ],
      "source": [
        "figureName = 'WithMixUp' # change figure name\n",
        "\n",
        "plt.figure(figsize=(9, 6))\n",
        "plt.plot(results['epoch'].values, train_accuracy, label='train')\n",
        "plt.plot(results['epoch'].values, test_accuracy, label='test')\n",
        "plt.xlabel('Number of epochs')\n",
        "plt.ylabel('Accuracy')\n",
        "plt.title(f'Train/Test Accuracy curve for {end_apochs} epochs')\n",
        "plt.savefig(f'/content/results/{figureName}.png')\n",
        "plt.legend()\n",
        "plt.show()"
      ]
    },
    {
      "cell_type": "code",
      "source": [],
      "metadata": {
        "id": "WBKrRwPZwcO_"
      },
      "execution_count": null,
      "outputs": []
    },
    {
      "cell_type": "markdown",
      "source": [
        "# Training with Corrupt Data"
      ],
      "metadata": {
        "id": "jgDf54YPITJU"
      }
    },
    {
      "cell_type": "code",
      "source": [
        "data = np.load('frost.npy')\n",
        "label = (np.load('labels.npy'))"
      ],
      "metadata": {
        "id": "nvfqPYrARcAv"
      },
      "execution_count": 25,
      "outputs": []
    },
    {
      "cell_type": "code",
      "source": [
        "data.shape"
      ],
      "metadata": {
        "colab": {
          "base_uri": "https://localhost:8080/"
        },
        "id": "n8fO1af4d6Nh",
        "outputId": "49ee9939-5942-4449-80ef-3ca6ad37ddea"
      },
      "execution_count": 26,
      "outputs": [
        {
          "output_type": "execute_result",
          "data": {
            "text/plain": [
              "(50000, 32, 32, 3)"
            ]
          },
          "metadata": {},
          "execution_count": 26
        }
      ]
    },
    {
      "cell_type": "code",
      "source": [
        "label.shape"
      ],
      "metadata": {
        "colab": {
          "base_uri": "https://localhost:8080/"
        },
        "id": "ITRgs9Yvd4i0",
        "outputId": "c60620e9-8102-40e7-bb91-8fa8841632aa"
      },
      "execution_count": 27,
      "outputs": [
        {
          "output_type": "execute_result",
          "data": {
            "text/plain": [
              "(50000,)"
            ]
          },
          "metadata": {},
          "execution_count": 27
        }
      ]
    },
    {
      "cell_type": "code",
      "source": [
        "ctrain = data[:40000]\n",
        "ctrainlabel = label[:40000]\n",
        "ctest = data[40000:50000]\n",
        "ctestlabel = label[40000:50000]"
      ],
      "metadata": {
        "id": "DXVMjxIVRmlF"
      },
      "execution_count": 28,
      "outputs": []
    },
    {
      "cell_type": "code",
      "source": [
        "plt.imshow(data[0])"
      ],
      "metadata": {
        "colab": {
          "base_uri": "https://localhost:8080/",
          "height": 284
        },
        "id": "ODrZTkUbSQlo",
        "outputId": "97af2f53-14e5-47fb-99c9-e0fd4dda6840"
      },
      "execution_count": 29,
      "outputs": [
        {
          "output_type": "execute_result",
          "data": {
            "text/plain": [
              "<matplotlib.image.AxesImage at 0x7f24e03d0130>"
            ]
          },
          "metadata": {},
          "execution_count": 29
        },
        {
          "output_type": "display_data",
          "data": {
            "text/plain": [
              "<Figure size 432x288 with 1 Axes>"
            ],
            "image/png": "[encoded data removed]"
          },
          "metadata": {
            "needs_background": "light"
          }
        }
      ]
    },
    {
      "cell_type": "code",
      "source": [
        "class CustomDataset(Dataset):\n",
        "  def __init__(self):\n",
        "    self.data = ctrain\n",
        "    self.labels = ctrainlabel\n",
        "    self.transform = transforms.Compose([\n",
        "      transforms.ToTensor(),\n",
        "      transforms.Normalize(mean, std),\n",
        "    ])\n",
        "  \n",
        "  def __getitem__(self,index):\n",
        "    return (self.transform(self.data[index]), torch.tensor(self.labels[index],dtype=torch.long))\n",
        "  \n",
        "  def __len__(self):\n",
        "    return len(self.labels)"
      ],
      "metadata": {
        "id": "dqgGeHoDSXcI"
      },
      "execution_count": 30,
      "outputs": []
    },
    {
      "cell_type": "code",
      "source": [
        "trainset = CustomDataset()"
      ],
      "metadata": {
        "id": "xWb6epyfyRx1"
      },
      "execution_count": 31,
      "outputs": []
    },
    {
      "cell_type": "code",
      "source": [
        "testset.data = ctest\n",
        "testset.targets = torch.LongTensor(ctestlabel)"
      ],
      "metadata": {
        "id": "-QnFWnTkfzXq"
      },
      "execution_count": 32,
      "outputs": []
    },
    {
      "cell_type": "code",
      "source": [
        "print(f\"Object type: {type(trainset)}\")\n",
        "print(f\"Training data shape: {trainset.data.shape}\")\n",
        "print(f\"Test data shape: {testset.data.shape}\")\n",
        "print(f\"Number of classes: {np.unique(testset.targets).shape[0]}\")"
      ],
      "metadata": {
        "colab": {
          "base_uri": "https://localhost:8080/"
        },
        "id": "qJ8rncaBIM7s",
        "outputId": "d80ff3ac-8fa7-4266-abe4-a03e68105e6e"
      },
      "execution_count": 33,
      "outputs": [
        {
          "output_type": "stream",
          "name": "stdout",
          "text": [
            "Object type: <class '__main__.CustomDataset'>\n",
            "Training data shape: (40000, 32, 32, 3)\n",
            "Test data shape: (10000, 32, 32, 3)\n",
            "Number of classes: 10\n"
          ]
        }
      ]
    },
    {
      "cell_type": "code",
      "source": [
        "# Dataloader\n",
        "num_workers = multiprocessing.cpu_count()\n",
        "\n",
        "print(f'----> number of workers: {num_workers}')\n",
        "\n",
        "trainloader = torch.utils.data.DataLoader(trainset, batch_size=batch_size, shuffle=True, num_workers=num_workers)\n",
        "testloader = torch.utils.data.DataLoader(testset, batch_size=batch_size, shuffle=False, num_workers=num_workers)"
      ],
      "metadata": {
        "colab": {
          "base_uri": "https://localhost:8080/"
        },
        "id": "_UZ4LZqcJaJ0",
        "outputId": "ced224b9-edcd-412e-d1d5-afc7897c2471"
      },
      "execution_count": 34,
      "outputs": [
        {
          "output_type": "stream",
          "name": "stdout",
          "text": [
            "----> number of workers: 2\n"
          ]
        }
      ]
    },
    {
      "cell_type": "markdown",
      "source": [
        "## Visualization\n",
        "\n",
        "To visualize some of the augmentations, make sure you set to ```True``` their corresponding flags in the hyperparameters section"
      ],
      "metadata": {
        "id": "okberFfZImk7"
      }
    },
    {
      "cell_type": "code",
      "source": [
        "# get batch of data\n",
        "itr = iter(trainloader)\n",
        "batch_X, batch_Y =  next(itr)"
      ],
      "metadata": {
        "id": "l4Qp4OmOIpAi"
      },
      "execution_count": 35,
      "outputs": []
    },
    {
      "cell_type": "code",
      "source": [
        "plot_mixed_images(batch_X[:4])"
      ],
      "metadata": {
        "colab": {
          "base_uri": "https://localhost:8080/",
          "height": 171
        },
        "id": "7R9A52uUIpDP",
        "outputId": "2de55b8f-0bd9-4808-e9a8-a12f82b1a0c5"
      },
      "execution_count": 36,
      "outputs": [
        {
          "output_type": "display_data",
          "data": {
            "text/plain": [
              "<Figure size 720x576 with 4 Axes>"
            ],
            "image/png": "[encoded data removed]"
          },
          "metadata": {
            "needs_background": "light"
          }
        }
      ]
    },
    {
      "cell_type": "code",
      "source": [
        "batch_X.type"
      ],
      "metadata": {
        "colab": {
          "base_uri": "https://localhost:8080/"
        },
        "id": "O4lJka2QM0JJ",
        "outputId": "d7f7f801-7ec2-41ea-b921-1851e5d43ba6"
      },
      "execution_count": 37,
      "outputs": [
        {
          "output_type": "execute_result",
          "data": {
            "text/plain": [
              "<function Tensor.type>"
            ]
          },
          "metadata": {},
          "execution_count": 37
        }
      ]
    },
    {
      "cell_type": "markdown",
      "source": [
        "# Training"
      ],
      "metadata": {
        "id": "M6cqu4_CI2Ne"
      }
    },
    {
      "cell_type": "code",
      "source": [
        "# start training\n",
        "if not os.path.exists(logname):\n",
        "  with open(logname, 'w') as logfile:\n",
        "    logwriter = csv.writer(logfile, delimiter=',')\n",
        "    logwriter.writerow(['epoch', 'train loss', 'train acc',\n",
        "                        'test loss', 'test acc'])\n",
        "\n",
        "for epoch in range(start_epoch, end_apochs):\n",
        "  adjust_learning_rate(optimizer, epoch)\n",
        "  train_loss, train_acc = train(epoch, alpha, use_cuda=use_cuda)\n",
        "  test_loss, test_acc = test(epoch, use_cuda=use_cuda)\n",
        "  with open(logname, 'a') as logfile:\n",
        "    logwriter = csv.writer(logfile, delimiter=',')\n",
        "    logwriter.writerow([epoch, train_loss, train_acc.item(),\n",
        "                        test_loss, test_acc.item()])\n",
        "  print(f'Epoch: {epoch} | train acc: {train_acc} | test acc: {test_acc}')"
      ],
      "metadata": {
        "colab": {
          "base_uri": "https://localhost:8080/"
        },
        "id": "2KFC0hKKIpFz",
        "outputId": "a68236ab-6a4f-4212-a995-509267584cfb"
      },
      "execution_count": 38,
      "outputs": [
        {
          "output_type": "stream",
          "name": "stdout",
          "text": [
            "\n",
            "Epoch: 0\n",
            "0 313 Loss: 1.303 | Acc: 70.312% (90/128)\n",
            "0 79 Loss: 0.259 | Acc: 91.406% (117/128)\n",
            "Saving..\n",
            "Epoch: 0 | train acc: 87.41500091552734 | test acc: 91.9800033569336\n",
            "\n",
            "Epoch: 1\n",
            "0 313 Loss: 0.089 | Acc: 96.875% (124/128)\n",
            "0 79 Loss: 0.074 | Acc: 96.875% (124/128)\n",
            "Saving..\n",
            "Epoch: 1 | train acc: 99.16500091552734 | test acc: 96.3499984741211\n",
            "\n",
            "Epoch: 2\n",
            "0 313 Loss: 0.004 | Acc: 100.000% (128/128)\n",
            "0 79 Loss: 0.035 | Acc: 98.438% (126/128)\n",
            "Saving..\n",
            "Epoch: 2 | train acc: 99.87750244140625 | test acc: 98.19000244140625\n",
            "\n",
            "Epoch: 3\n",
            "0 313 Loss: 0.001 | Acc: 100.000% (128/128)\n",
            "0 79 Loss: 0.034 | Acc: 99.219% (127/128)\n",
            "Saving..\n",
            "Epoch: 3 | train acc: 99.99250030517578 | test acc: 98.58000183105469\n",
            "\n",
            "Epoch: 4\n",
            "0 313 Loss: 0.000 | Acc: 100.000% (128/128)\n",
            "0 79 Loss: 0.030 | Acc: 99.219% (127/128)\n",
            "Saving..\n",
            "Epoch: 4 | train acc: 100.0 | test acc: 98.72000122070312\n",
            "\n",
            "Epoch: 5\n",
            "0 313 Loss: 0.000 | Acc: 100.000% (128/128)\n",
            "0 79 Loss: 0.032 | Acc: 99.219% (127/128)\n",
            "Epoch: 5 | train acc: 100.0 | test acc: 98.70999908447266\n",
            "\n",
            "Epoch: 6\n",
            "0 313 Loss: 0.000 | Acc: 100.000% (128/128)\n",
            "0 79 Loss: 0.028 | Acc: 99.219% (127/128)\n",
            "Epoch: 6 | train acc: 100.0 | test acc: 98.72000122070312\n",
            "\n",
            "Epoch: 7\n",
            "0 313 Loss: 0.000 | Acc: 100.000% (128/128)\n",
            "0 79 Loss: 0.024 | Acc: 99.219% (127/128)\n",
            "Saving..\n",
            "Epoch: 7 | train acc: 100.0 | test acc: 98.73999786376953\n",
            "\n",
            "Epoch: 8\n",
            "0 313 Loss: 0.000 | Acc: 100.000% (128/128)\n",
            "0 79 Loss: 0.026 | Acc: 99.219% (127/128)\n",
            "Epoch: 8 | train acc: 100.0 | test acc: 98.73999786376953\n",
            "\n",
            "Epoch: 9\n",
            "0 313 Loss: 0.000 | Acc: 100.000% (128/128)\n",
            "0 79 Loss: 0.023 | Acc: 99.219% (127/128)\n",
            "Saving..\n",
            "Epoch: 9 | train acc: 100.0 | test acc: 98.77999877929688\n",
            "\n",
            "Epoch: 10\n",
            "0 313 Loss: 0.000 | Acc: 100.000% (128/128)\n",
            "0 79 Loss: 0.024 | Acc: 99.219% (127/128)\n",
            "Epoch: 10 | train acc: 100.0 | test acc: 98.7699966430664\n",
            "\n",
            "Epoch: 11\n",
            "0 313 Loss: 0.001 | Acc: 100.000% (128/128)\n",
            "0 79 Loss: 0.021 | Acc: 99.219% (127/128)\n",
            "Saving..\n",
            "Epoch: 11 | train acc: 100.0 | test acc: 98.8499984741211\n",
            "\n",
            "Epoch: 12\n",
            "0 313 Loss: 0.000 | Acc: 100.000% (128/128)\n",
            "0 79 Loss: 0.021 | Acc: 99.219% (127/128)\n",
            "Saving..\n",
            "Epoch: 12 | train acc: 100.0 | test acc: 98.87000274658203\n",
            "\n",
            "Epoch: 13\n",
            "0 313 Loss: 0.001 | Acc: 100.000% (128/128)\n",
            "0 79 Loss: 0.020 | Acc: 99.219% (127/128)\n",
            "Saving..\n",
            "Epoch: 13 | train acc: 100.0 | test acc: 98.91999816894531\n",
            "\n",
            "Epoch: 14\n",
            "0 313 Loss: 0.000 | Acc: 100.000% (128/128)\n",
            "0 79 Loss: 0.021 | Acc: 99.219% (127/128)\n",
            "Epoch: 14 | train acc: 100.0 | test acc: 98.91000366210938\n",
            "\n",
            "Epoch: 15\n",
            "0 313 Loss: 0.000 | Acc: 100.000% (128/128)\n",
            "0 79 Loss: 0.017 | Acc: 99.219% (127/128)\n",
            "Saving..\n",
            "Epoch: 15 | train acc: 100.0 | test acc: 98.95999908447266\n",
            "\n",
            "Epoch: 16\n",
            "0 313 Loss: 0.000 | Acc: 100.000% (128/128)\n",
            "0 79 Loss: 0.018 | Acc: 99.219% (127/128)\n",
            "Epoch: 16 | train acc: 100.0 | test acc: 98.95999908447266\n",
            "\n",
            "Epoch: 17\n",
            "0 313 Loss: 0.000 | Acc: 100.000% (128/128)\n",
            "0 79 Loss: 0.015 | Acc: 99.219% (127/128)\n",
            "Saving..\n",
            "Epoch: 17 | train acc: 100.0 | test acc: 99.11000061035156\n",
            "\n",
            "Epoch: 18\n",
            "0 313 Loss: 0.001 | Acc: 100.000% (128/128)\n",
            "0 79 Loss: 0.018 | Acc: 99.219% (127/128)\n",
            "Epoch: 18 | train acc: 100.0 | test acc: 99.05999755859375\n",
            "\n",
            "Epoch: 19\n",
            "0 313 Loss: 0.000 | Acc: 100.000% (128/128)\n",
            "0 79 Loss: 0.013 | Acc: 99.219% (127/128)\n",
            "Saving..\n",
            "Epoch: 19 | train acc: 100.0 | test acc: 99.12000274658203\n",
            "\n",
            "Epoch: 20\n",
            "0 313 Loss: 0.000 | Acc: 100.000% (128/128)\n",
            "0 79 Loss: 0.012 | Acc: 100.000% (128/128)\n",
            "Epoch: 20 | train acc: 100.0 | test acc: 99.0999984741211\n",
            "\n",
            "Epoch: 21\n",
            "0 313 Loss: 0.000 | Acc: 100.000% (128/128)\n",
            "0 79 Loss: 0.013 | Acc: 100.000% (128/128)\n",
            "Saving..\n",
            "Epoch: 21 | train acc: 100.0 | test acc: 99.13999938964844\n",
            "\n",
            "Epoch: 22\n",
            "0 313 Loss: 0.000 | Acc: 100.000% (128/128)\n",
            "0 79 Loss: 0.012 | Acc: 100.000% (128/128)\n",
            "Saving..\n",
            "Epoch: 22 | train acc: 100.0 | test acc: 99.16000366210938\n",
            "\n",
            "Epoch: 23\n",
            "0 313 Loss: 0.000 | Acc: 100.000% (128/128)\n",
            "0 79 Loss: 0.012 | Acc: 99.219% (127/128)\n",
            "Saving..\n",
            "Epoch: 23 | train acc: 100.0 | test acc: 99.16999816894531\n",
            "\n",
            "Epoch: 24\n",
            "0 313 Loss: 0.000 | Acc: 100.000% (128/128)\n",
            "0 79 Loss: 0.010 | Acc: 100.000% (128/128)\n",
            "Saving..\n",
            "Epoch: 24 | train acc: 100.0 | test acc: 99.26000213623047\n"
          ]
        }
      ]
    },
    {
      "cell_type": "code",
      "source": [
        "# plot results\n",
        "results = pd.read_csv('/content/results/ResNet_.csv', sep=',')\n",
        "results.head()"
      ],
      "metadata": {
        "id": "XwwN7vFNIpIv",
        "colab": {
          "base_uri": "https://localhost:8080/",
          "height": 206
        },
        "outputId": "e6fa07de-9bb8-4dc0-d725-b8ebd962be13"
      },
      "execution_count": 39,
      "outputs": [
        {
          "output_type": "execute_result",
          "data": {
            "text/plain": [
              "   epoch  train loss  train acc  test loss   test acc\n",
              "0      0    1.894971  33.964001   1.474300  46.169998\n",
              "1      1    1.323441  51.896000   1.303242  53.500000\n",
              "2      2    1.064466  62.152000   1.048412  63.639999\n",
              "3      3    0.859014  69.566002   0.908095  68.570000\n",
              "4      4    0.702719  75.195999   0.772812  73.540001"
            ],
            "text/html": [
              "\n",
              "  <div id=\"df-5b744b30-97fc-4c38-aca5-cd768516a843\">\n",
              "    <div class=\"colab-df-container\">\n",
              "      <div>\n",
              "<style scoped>\n",
              "    .dataframe tbody tr th:only-of-type {\n",
              "        vertical-align: middle;\n",
              "    }\n",
              "\n",
              "    .dataframe tbody tr th {\n",
              "        vertical-align: top;\n",
              "    }\n",
              "\n",
              "    .dataframe thead th {\n",
              "        text-align: right;\n",
              "    }\n",
              "</style>\n",
              "<table border=\"1\" class=\"dataframe\">\n",
              "  <thead>\n",
              "    <tr style=\"text-align: right;\">\n",
              "      <th></th>\n",
              "      <th>epoch</th>\n",
              "      <th>train loss</th>\n",
              "      <th>train acc</th>\n",
              "      <th>test loss</th>\n",
              "      <th>test acc</th>\n",
              "    </tr>\n",
              "  </thead>\n",
              "  <tbody>\n",
              "    <tr>\n",
              "      <th>0</th>\n",
              "      <td>0</td>\n",
              "      <td>1.894971</td>\n",
              "      <td>33.964001</td>\n",
              "      <td>1.474300</td>\n",
              "      <td>46.169998</td>\n",
              "    </tr>\n",
              "    <tr>\n",
              "      <th>1</th>\n",
              "      <td>1</td>\n",
              "      <td>1.323441</td>\n",
              "      <td>51.896000</td>\n",
              "      <td>1.303242</td>\n",
              "      <td>53.500000</td>\n",
              "    </tr>\n",
              "    <tr>\n",
              "      <th>2</th>\n",
              "      <td>2</td>\n",
              "      <td>1.064466</td>\n",
              "      <td>62.152000</td>\n",
              "      <td>1.048412</td>\n",
              "      <td>63.639999</td>\n",
              "    </tr>\n",
              "    <tr>\n",
              "      <th>3</th>\n",
              "      <td>3</td>\n",
              "      <td>0.859014</td>\n",
              "      <td>69.566002</td>\n",
              "      <td>0.908095</td>\n",
              "      <td>68.570000</td>\n",
              "    </tr>\n",
              "    <tr>\n",
              "      <th>4</th>\n",
              "      <td>4</td>\n",
              "      <td>0.702719</td>\n",
              "      <td>75.195999</td>\n",
              "      <td>0.772812</td>\n",
              "      <td>73.540001</td>\n",
              "    </tr>\n",
              "  </tbody>\n",
              "</table>\n",
              "</div>\n",
              "      <button class=\"colab-df-convert\" onclick=\"convertToInteractive('df-5b744b30-97fc-4c38-aca5-cd768516a843')\"\n",
              "              title=\"Convert this dataframe to an interactive table.\"\n",
              "              style=\"display:none;\">\n",
              "        \n",
              "  <svg xmlns=\"http://www.w3.org/2000/svg\" height=\"24px\"viewBox=\"0 0 24 24\"\n",
              "       width=\"24px\">\n",
              "    <path d=\"M0 0h24v24H0V0z\" fill=\"none\"/>\n",
              "    <path d=\"M18.56 5.44l.94 2.06.94-2.06 2.06-.94-2.06-.94-.94-2.06-.94 2.06-2.06.94zm-11 1L8.5 8.5l.94-2.06 2.06-.94-2.06-.94L8.5 2.5l-.94 2.06-2.06.94zm10 10l.94 2.06.94-2.06 2.06-.94-2.06-.94-.94-2.06-.94 2.06-2.06.94z\"/><path d=\"M17.41 7.96l-1.37-1.37c-.4-.4-.92-.59-1.43-.59-.52 0-1.04.2-1.43.59L10.3 9.45l-7.72 7.72c-.78.78-.78 2.05 0 2.83L4 21.41c.39.39.9.59 1.41.59.51 0 1.02-.2 1.41-.59l7.78-7.78 2.81-2.81c.8-.78.8-2.07 0-2.86zM5.41 20L4 18.59l7.72-7.72 1.47 1.35L5.41 20z\"/>\n",
              "  </svg>\n",
              "      </button>\n",
              "      \n",
              "  <style>\n",
              "    .colab-df-container {\n",
              "      display:flex;\n",
              "      flex-wrap:wrap;\n",
              "      gap: 12px;\n",
              "    }\n",
              "\n",
              "    .colab-df-convert {\n",
              "      background-color: #E8F0FE;\n",
              "      border: none;\n",
              "      border-radius: 50%;\n",
              "      cursor: pointer;\n",
              "      display: none;\n",
              "      fill: #1967D2;\n",
              "      height: 32px;\n",
              "      padding: 0 0 0 0;\n",
              "      width: 32px;\n",
              "    }\n",
              "\n",
              "    .colab-df-convert:hover {\n",
              "      background-color: #E2EBFA;\n",
              "      box-shadow: 0px 1px 2px rgba(60, 64, 67, 0.3), 0px 1px 3px 1px rgba(60, 64, 67, 0.15);\n",
              "      fill: #174EA6;\n",
              "    }\n",
              "\n",
              "    [theme=dark] .colab-df-convert {\n",
              "      background-color: #3B4455;\n",
              "      fill: #D2E3FC;\n",
              "    }\n",
              "\n",
              "    [theme=dark] .colab-df-convert:hover {\n",
              "      background-color: #434B5C;\n",
              "      box-shadow: 0px 1px 3px 1px rgba(0, 0, 0, 0.15);\n",
              "      filter: drop-shadow(0px 1px 2px rgba(0, 0, 0, 0.3));\n",
              "      fill: #FFFFFF;\n",
              "    }\n",
              "  </style>\n",
              "\n",
              "      <script>\n",
              "        const buttonEl =\n",
              "          document.querySelector('#df-5b744b30-97fc-4c38-aca5-cd768516a843 button.colab-df-convert');\n",
              "        buttonEl.style.display =\n",
              "          google.colab.kernel.accessAllowed ? 'block' : 'none';\n",
              "\n",
              "        async function convertToInteractive(key) {\n",
              "          const element = document.querySelector('#df-5b744b30-97fc-4c38-aca5-cd768516a843');\n",
              "          const dataTable =\n",
              "            await google.colab.kernel.invokeFunction('convertToInteractive',\n",
              "                                                     [key], {});\n",
              "          if (!dataTable) return;\n",
              "\n",
              "          const docLinkHtml = 'Like what you see? Visit the ' +\n",
              "            '<a target=\"_blank\" href=https://colab.research.google.com/notebooks/data_table.ipynb>data table notebook</a>'\n",
              "            + ' to learn more about interactive tables.';\n",
              "          element.innerHTML = '';\n",
              "          dataTable['output_type'] = 'display_data';\n",
              "          await google.colab.output.renderOutput(dataTable, element);\n",
              "          const docLink = document.createElement('div');\n",
              "          docLink.innerHTML = docLinkHtml;\n",
              "          element.appendChild(docLink);\n",
              "        }\n",
              "      </script>\n",
              "    </div>\n",
              "  </div>\n",
              "  "
            ]
          },
          "metadata": {},
          "execution_count": 39
        }
      ]
    },
    {
      "cell_type": "code",
      "source": [
        "train_accuracy = results['train acc'].values\n",
        "test_accuracy = results['test acc'].values\n",
        "\n",
        "print(f\"Average test Accuracy over {end_apochs} epochs: {sum(test_accuracy)//len(test_accuracy)}\")\n",
        "print(f\"best test accuraccy over {end_apochs} epochs: {max(test_accuracy)}\")"
      ],
      "metadata": {
        "id": "Y9Q7MCiNIpLZ",
        "colab": {
          "base_uri": "https://localhost:8080/"
        },
        "outputId": "39e10a0a-2216-41a2-cb6c-9fd1a91933e3"
      },
      "execution_count": 40,
      "outputs": [
        {
          "output_type": "stream",
          "name": "stdout",
          "text": [
            "Average test Accuracy over 25 epochs: 86.0\n",
            "best test accuraccy over 25 epochs: 99.26000213623048\n"
          ]
        }
      ]
    },
    {
      "cell_type": "code",
      "source": [
        "figureName = 'WithCorruptdata' # change figure name\n",
        "\n",
        "plt.figure(figsize=(9, 6))\n",
        "plt.plot(results['epoch'].values, train_accuracy, label='train')\n",
        "plt.plot(results['epoch'].values, test_accuracy, label='test')\n",
        "plt.xlabel('Number of epochs')\n",
        "plt.ylabel('Accuracy')\n",
        "plt.title(f'Train/Test Accuracy curve for {end_apochs} epochs')\n",
        "plt.savefig(f'/content/results/{figureName}.png')\n",
        "plt.legend()\n",
        "plt.show()"
      ],
      "metadata": {
        "id": "iDqRPh4QoOcf",
        "colab": {
          "base_uri": "https://localhost:8080/",
          "height": 404
        },
        "outputId": "6a6f5203-cba7-464d-9b76-dc9be742d213"
      },
      "execution_count": 41,
      "outputs": [
        {
          "output_type": "display_data",
          "data": {
            "text/plain": [
              "<Figure size 648x432 with 1 Axes>"
            ],
            "image/png": "[encoded data removed]"
          },
          "metadata": {
            "needs_background": "light"
          }
        }
      ]
    },
    {
      "cell_type": "markdown",
      "source": [
        "# FGSM Attack\n"
      ],
      "metadata": {
        "id": "krAj5b2kH2j2"
      }
    },
    {
      "cell_type": "code",
      "source": [
        "import tqdm\n",
        "!pip install adversarial-robustness-toolbox"
      ],
      "metadata": {
        "colab": {
          "base_uri": "https://localhost:8080/"
        },
        "id": "sv0OzUlOw5ae",
        "outputId": "a65c53e7-6346-4f76-b70f-9f4afb539405"
      },
      "execution_count": 42,
      "outputs": [
        {
          "output_type": "stream",
          "name": "stdout",
          "text": [
            "Looking in indexes: https://pypi.org/simple, https://us-python.pkg.dev/colab-wheels/public/simple/\n",
            "Collecting adversarial-robustness-toolbox\n",
            "  Downloading adversarial_robustness_toolbox-1.13.0-py3-none-any.whl (1.4 MB)\n",
            "\u001b[K     |████████████████████████████████| 1.4 MB 38.1 MB/s \n",
            "\u001b[?25hRequirement already satisfied: six in /usr/local/lib/python3.8/dist-packages (from adversarial-robustness-toolbox) (1.15.0)\n",
            "Requirement already satisfied: setuptools in /usr/local/lib/python3.8/dist-packages (from adversarial-robustness-toolbox) (57.4.0)\n",
            "Requirement already satisfied: scikit-learn<1.2.0,>=0.22.2 in /usr/local/lib/python3.8/dist-packages (from adversarial-robustness-toolbox) (1.0.2)\n",
            "Requirement already satisfied: numpy>=1.18.0 in /usr/local/lib/python3.8/dist-packages (from adversarial-robustness-toolbox) (1.21.6)\n",
            "Requirement already satisfied: tqdm in /usr/local/lib/python3.8/dist-packages (from adversarial-robustness-toolbox) (4.64.1)\n",
            "Requirement already satisfied: scipy>=1.4.1 in /usr/local/lib/python3.8/dist-packages (from adversarial-robustness-toolbox) (1.7.3)\n",
            "Requirement already satisfied: joblib>=0.11 in /usr/local/lib/python3.8/dist-packages (from scikit-learn<1.2.0,>=0.22.2->adversarial-robustness-toolbox) (1.2.0)\n",
            "Requirement already satisfied: threadpoolctl>=2.0.0 in /usr/local/lib/python3.8/dist-packages (from scikit-learn<1.2.0,>=0.22.2->adversarial-robustness-toolbox) (3.1.0)\n",
            "Installing collected packages: adversarial-robustness-toolbox\n",
            "Successfully installed adversarial-robustness-toolbox-1.13.0\n"
          ]
        }
      ]
    },
    {
      "cell_type": "code",
      "source": [
        "from art.estimators.classification import PyTorchClassifier\n",
        "from skimage.metrics import structural_similarity as ssim\n",
        "\n",
        "from art.attacks.evasion import ProjectedGradientDescent\n",
        "from art.attacks.evasion import FastGradientMethod"
      ],
      "metadata": {
        "id": "5GQTZxmuw9nS"
      },
      "execution_count": 43,
      "outputs": []
    },
    {
      "cell_type": "code",
      "source": [
        "def softmax_activation(inputs): \n",
        "    inputs = inputs.tolist()\n",
        "    exp_values = np.exp(inputs - np.max(inputs)) \n",
        "    \n",
        "    # Normalize \n",
        "    probabilities = exp_values / np.sum(exp_values)\n",
        "    return probabilities "
      ],
      "metadata": {
        "id": "alN7__TixCN-"
      },
      "execution_count": 44,
      "outputs": []
    },
    {
      "cell_type": "code",
      "source": [
        "def compare_images(imageA, imageB):\n",
        "    return 1 - ssim(imageA, imageB, multichannel=True) "
      ],
      "metadata": {
        "id": "MujZNJ0KxCqk"
      },
      "execution_count": 45,
      "outputs": []
    },
    {
      "cell_type": "code",
      "source": [
        "def get_default_device():\n",
        "    \"\"\"Pick GPU if available, else CPU\"\"\"\n",
        "    if torch.cuda.is_available():\n",
        "        return torch.device('cuda')\n",
        "    else:\n",
        "        return torch.device('cpu')\n",
        "    \n",
        "def to_device(data, device):\n",
        "    \"\"\"Move tensor(s) to chosen device\"\"\"\n",
        "    if isinstance(data, (list,tuple)):\n",
        "        return [to_device(x, device) for x in data]\n",
        "    return data.to(device, non_blocking=True)\n",
        "\n",
        "class DeviceDataLoader():\n",
        "    \"\"\"Wrap a dataloader to move data to a device\"\"\"\n",
        "    def __init__(self, dl, device):\n",
        "        self.dl = dl\n",
        "        self.device = device\n",
        "        \n",
        "    def __iter__(self):\n",
        "        \"\"\"Yield a batch of data after moving it to device\"\"\"\n",
        "        for b in self.dl: \n",
        "            yield to_device(b, self.device)\n",
        "\n",
        "    def __len__(self):\n",
        "        \"\"\"Number of batches\"\"\"\n",
        "        return len(self.dl)"
      ],
      "metadata": {
        "id": "zX91NG8XyLhm"
      },
      "execution_count": 46,
      "outputs": []
    },
    {
      "cell_type": "code",
      "source": [
        "device = get_default_device()\n",
        "device"
      ],
      "metadata": {
        "colab": {
          "base_uri": "https://localhost:8080/"
        },
        "id": "2gF622Oqx6bJ",
        "outputId": "c4cd2cc0-c534-4e47-e35e-5b47aa1f46a1"
      },
      "execution_count": 47,
      "outputs": [
        {
          "output_type": "execute_result",
          "data": {
            "text/plain": [
              "device(type='cuda')"
            ]
          },
          "metadata": {},
          "execution_count": 47
        }
      ]
    },
    {
      "cell_type": "code",
      "source": [
        "model = net\n",
        "model.to(device)"
      ],
      "metadata": {
        "id": "oP-IyGcVxEsr",
        "colab": {
          "base_uri": "https://localhost:8080/"
        },
        "outputId": "1505cdbe-6f87-478b-e470-86ff2201d404"
      },
      "execution_count": 48,
      "outputs": [
        {
          "output_type": "execute_result",
          "data": {
            "text/plain": [
              "DataParallel(\n",
              "  (module): ResNet(\n",
              "    (conv1): Conv2d(3, 64, kernel_size=(3, 3), stride=(1, 1), padding=(1, 1), bias=False)\n",
              "    (bn1): BatchNorm2d(64, eps=1e-05, momentum=0.1, affine=True, track_running_stats=True)\n",
              "    (layer1): Sequential(\n",
              "      (0): BasicBlock(\n",
              "        (conv1): Conv2d(64, 64, kernel_size=(3, 3), stride=(1, 1), padding=(1, 1), bias=False)\n",
              "        (bn1): BatchNorm2d(64, eps=1e-05, momentum=0.1, affine=True, track_running_stats=True)\n",
              "        (conv2): Conv2d(64, 64, kernel_size=(3, 3), stride=(1, 1), padding=(1, 1), bias=False)\n",
              "        (bn2): BatchNorm2d(64, eps=1e-05, momentum=0.1, affine=True, track_running_stats=True)\n",
              "        (shortcut): Sequential()\n",
              "      )\n",
              "      (1): BasicBlock(\n",
              "        (conv1): Conv2d(64, 64, kernel_size=(3, 3), stride=(1, 1), padding=(1, 1), bias=False)\n",
              "        (bn1): BatchNorm2d(64, eps=1e-05, momentum=0.1, affine=True, track_running_stats=True)\n",
              "        (conv2): Conv2d(64, 64, kernel_size=(3, 3), stride=(1, 1), padding=(1, 1), bias=False)\n",
              "        (bn2): BatchNorm2d(64, eps=1e-05, momentum=0.1, affine=True, track_running_stats=True)\n",
              "        (shortcut): Sequential()\n",
              "      )\n",
              "    )\n",
              "    (layer2): Sequential(\n",
              "      (0): BasicBlock(\n",
              "        (conv1): Conv2d(64, 128, kernel_size=(3, 3), stride=(2, 2), padding=(1, 1), bias=False)\n",
              "        (bn1): BatchNorm2d(128, eps=1e-05, momentum=0.1, affine=True, track_running_stats=True)\n",
              "        (conv2): Conv2d(128, 128, kernel_size=(3, 3), stride=(1, 1), padding=(1, 1), bias=False)\n",
              "        (bn2): BatchNorm2d(128, eps=1e-05, momentum=0.1, affine=True, track_running_stats=True)\n",
              "        (shortcut): Sequential(\n",
              "          (0): Conv2d(64, 128, kernel_size=(1, 1), stride=(2, 2), bias=False)\n",
              "          (1): BatchNorm2d(128, eps=1e-05, momentum=0.1, affine=True, track_running_stats=True)\n",
              "        )\n",
              "      )\n",
              "      (1): BasicBlock(\n",
              "        (conv1): Conv2d(128, 128, kernel_size=(3, 3), stride=(1, 1), padding=(1, 1), bias=False)\n",
              "        (bn1): BatchNorm2d(128, eps=1e-05, momentum=0.1, affine=True, track_running_stats=True)\n",
              "        (conv2): Conv2d(128, 128, kernel_size=(3, 3), stride=(1, 1), padding=(1, 1), bias=False)\n",
              "        (bn2): BatchNorm2d(128, eps=1e-05, momentum=0.1, affine=True, track_running_stats=True)\n",
              "        (shortcut): Sequential()\n",
              "      )\n",
              "    )\n",
              "    (layer3): Sequential(\n",
              "      (0): BasicBlock(\n",
              "        (conv1): Conv2d(128, 256, kernel_size=(3, 3), stride=(2, 2), padding=(1, 1), bias=False)\n",
              "        (bn1): BatchNorm2d(256, eps=1e-05, momentum=0.1, affine=True, track_running_stats=True)\n",
              "        (conv2): Conv2d(256, 256, kernel_size=(3, 3), stride=(1, 1), padding=(1, 1), bias=False)\n",
              "        (bn2): BatchNorm2d(256, eps=1e-05, momentum=0.1, affine=True, track_running_stats=True)\n",
              "        (shortcut): Sequential(\n",
              "          (0): Conv2d(128, 256, kernel_size=(1, 1), stride=(2, 2), bias=False)\n",
              "          (1): BatchNorm2d(256, eps=1e-05, momentum=0.1, affine=True, track_running_stats=True)\n",
              "        )\n",
              "      )\n",
              "      (1): BasicBlock(\n",
              "        (conv1): Conv2d(256, 256, kernel_size=(3, 3), stride=(1, 1), padding=(1, 1), bias=False)\n",
              "        (bn1): BatchNorm2d(256, eps=1e-05, momentum=0.1, affine=True, track_running_stats=True)\n",
              "        (conv2): Conv2d(256, 256, kernel_size=(3, 3), stride=(1, 1), padding=(1, 1), bias=False)\n",
              "        (bn2): BatchNorm2d(256, eps=1e-05, momentum=0.1, affine=True, track_running_stats=True)\n",
              "        (shortcut): Sequential()\n",
              "      )\n",
              "    )\n",
              "    (layer4): Sequential(\n",
              "      (0): BasicBlock(\n",
              "        (conv1): Conv2d(256, 512, kernel_size=(3, 3), stride=(2, 2), padding=(1, 1), bias=False)\n",
              "        (bn1): BatchNorm2d(512, eps=1e-05, momentum=0.1, affine=True, track_running_stats=True)\n",
              "        (conv2): Conv2d(512, 512, kernel_size=(3, 3), stride=(1, 1), padding=(1, 1), bias=False)\n",
              "        (bn2): BatchNorm2d(512, eps=1e-05, momentum=0.1, affine=True, track_running_stats=True)\n",
              "        (shortcut): Sequential(\n",
              "          (0): Conv2d(256, 512, kernel_size=(1, 1), stride=(2, 2), bias=False)\n",
              "          (1): BatchNorm2d(512, eps=1e-05, momentum=0.1, affine=True, track_running_stats=True)\n",
              "        )\n",
              "      )\n",
              "      (1): BasicBlock(\n",
              "        (conv1): Conv2d(512, 512, kernel_size=(3, 3), stride=(1, 1), padding=(1, 1), bias=False)\n",
              "        (bn1): BatchNorm2d(512, eps=1e-05, momentum=0.1, affine=True, track_running_stats=True)\n",
              "        (conv2): Conv2d(512, 512, kernel_size=(3, 3), stride=(1, 1), padding=(1, 1), bias=False)\n",
              "        (bn2): BatchNorm2d(512, eps=1e-05, momentum=0.1, affine=True, track_running_stats=True)\n",
              "        (shortcut): Sequential()\n",
              "      )\n",
              "    )\n",
              "    (linear): Linear(in_features=512, out_features=10, bias=True)\n",
              "  )\n",
              ")"
            ]
          },
          "metadata": {},
          "execution_count": 48
        }
      ]
    },
    {
      "cell_type": "code",
      "source": [
        "criterion = nn.CrossEntropyLoss()\n",
        "\n",
        "classifier = PyTorchClassifier(\n",
        "    model=model,\n",
        "    loss=criterion,\n",
        "    input_shape=(3, 32, 32),\n",
        "    nb_classes=10,\n",
        "    device_type='gpu'\n",
        ")"
      ],
      "metadata": {
        "id": "EQkMTv-qxLCU"
      },
      "execution_count": 49,
      "outputs": []
    },
    {
      "cell_type": "code",
      "source": [
        "fgsm_attack = FastGradientMethod(estimator = classifier, eps=0.15)"
      ],
      "metadata": {
        "id": "wGm-YceYxfdq"
      },
      "execution_count": 50,
      "outputs": []
    },
    {
      "cell_type": "code",
      "source": [
        "from tqdm import tqdm\n",
        "import torchvision.transforms as transforms\n",
        "transform = transforms.Compose([transforms.ToTensor(),\n",
        "                                transforms.Normalize((0.4914, 0.4822, 0.4465), (0.2023, 0.1994, 0.2010))])\n",
        "validset = torchvision.datasets.CIFAR10(root='../input/cifar10-python/', train=False,\n",
        "                                       download=True, transform=transform)\n",
        "valid_loader = torch.utils.data.DataLoader(validset, batch_size=16,\n",
        "                                         shuffle=True, num_workers=2)"
      ],
      "metadata": {
        "colab": {
          "base_uri": "https://localhost:8080/",
          "height": 85,
          "referenced_widgets": [
            "eb18bbbb987b451fb70ed1f863f584e3",
            "712c3ce7598f405685037c22f7b8b424",
            "e5ff9b2bd4544065b4d386f58e11ebe6",
            "47dd19f551e84461a61f269867e1a5be",
            "b5fafe220f4b4463ad258c4cb23af814",
            "e66bf50e59924dccba5759cb0fc38a2f",
            "6f0c5f92d6104f329acf0c364c848812",
            "9cb74adbb67b4213b5ade8274d48f3c3",
            "23bb6f60b078495fad6cd30b5b5658f5",
            "da09aa916c104d8aa8dd6a43b358e8f9",
            "8d9f6cbb23a54b32af7444ac2293ff5d"
          ]
        },
        "id": "pC0R4Yt7ybtq",
        "outputId": "3c170de9-8d1e-48e9-d502-a3c4a51f7603"
      },
      "execution_count": 51,
      "outputs": [
        {
          "output_type": "stream",
          "name": "stdout",
          "text": [
            "Downloading https://www.cs.toronto.edu/~kriz/cifar-10-python.tar.gz to ../input/cifar10-python/cifar-10-python.tar.gz\n"
          ]
        },
        {
          "output_type": "display_data",
          "data": {
            "text/plain": [
              "  0%|          | 0/170498071 [00:00<?, ?it/s]"
            ],
            "application/vnd.jupyter.widget-view+json": {
              "version_major": 2,
              "version_minor": 0,
              "model_id": "eb18bbbb987b451fb70ed1f863f584e3"
            }
          },
          "metadata": {}
        },
        {
          "output_type": "stream",
          "name": "stdout",
          "text": [
            "Extracting ../input/cifar10-python/cifar-10-python.tar.gz to ../input/cifar10-python/\n"
          ]
        }
      ]
    },
    {
      "cell_type": "code",
      "source": [
        "eps = [0.001, 0.005, 0.01, 0.02, 0.03, 0.05, 0.1, 0.15, 0.20]\n",
        "for e in eps:\n",
        "  fgsm_attack = FastGradientMethod(estimator = classifier, eps = e)\n",
        "  preds = []\n",
        "  ans = []\n",
        "  for batch in tqdm(valid_loader):\n",
        "    imgs = batch[0]\n",
        "    #     plt.imshow(imgs[0].permute(1,2,0))\n",
        "    x_adv = fgsm_attack.generate(x=imgs.numpy())\n",
        "    #     plt.imshow(x_adv[0].transpose(1,2,0))\n",
        "    imgs_adv = torch.from_numpy(x_adv).to(device)\n",
        "    with torch.no_grad():\n",
        "      logits = model(imgs_adv)\n",
        "      #         print(nn.Softmax(dim=1)(logits))\n",
        "      #         break\n",
        "      logits = logits.argmax(dim=-1).cpu().tolist()\n",
        "      preds += logits\n",
        "      ans += batch[1]\n",
        "  cnt = 0\n",
        "  for pred, an in zip(preds, ans):\n",
        "      if pred == an:\n",
        "          cnt += 1\n",
        "  acc = cnt / len(preds)\n",
        "  print(f'ACC for eps = {eps} is: {acc}')"
      ],
      "metadata": {
        "colab": {
          "base_uri": "https://localhost:8080/"
        },
        "id": "w3mk0nETy2oj",
        "outputId": "7da72cbf-8353-4b4f-b443-a1a72aebe89e"
      },
      "execution_count": 52,
      "outputs": [
        {
          "output_type": "stream",
          "name": "stderr",
          "text": [
            "100%|██████████| 625/625 [00:29<00:00, 20.95it/s]\n"
          ]
        },
        {
          "output_type": "stream",
          "name": "stdout",
          "text": [
            "ACC for eps = [0.001, 0.005, 0.01, 0.02, 0.03, 0.05, 0.1, 0.15, 0.2] is: 1.0\n"
          ]
        },
        {
          "output_type": "stream",
          "name": "stderr",
          "text": [
            "100%|██████████| 625/625 [00:24<00:00, 25.26it/s]\n"
          ]
        },
        {
          "output_type": "stream",
          "name": "stdout",
          "text": [
            "ACC for eps = [0.001, 0.005, 0.01, 0.02, 0.03, 0.05, 0.1, 0.15, 0.2] is: 1.0\n"
          ]
        },
        {
          "output_type": "stream",
          "name": "stderr",
          "text": [
            "100%|██████████| 625/625 [00:24<00:00, 25.57it/s]\n"
          ]
        },
        {
          "output_type": "stream",
          "name": "stdout",
          "text": [
            "ACC for eps = [0.001, 0.005, 0.01, 0.02, 0.03, 0.05, 0.1, 0.15, 0.2] is: 0.9996\n"
          ]
        },
        {
          "output_type": "stream",
          "name": "stderr",
          "text": [
            "100%|██████████| 625/625 [00:24<00:00, 25.05it/s]\n"
          ]
        },
        {
          "output_type": "stream",
          "name": "stdout",
          "text": [
            "ACC for eps = [0.001, 0.005, 0.01, 0.02, 0.03, 0.05, 0.1, 0.15, 0.2] is: 0.9896\n"
          ]
        },
        {
          "output_type": "stream",
          "name": "stderr",
          "text": [
            "100%|██████████| 625/625 [00:24<00:00, 25.80it/s]\n"
          ]
        },
        {
          "output_type": "stream",
          "name": "stdout",
          "text": [
            "ACC for eps = [0.001, 0.005, 0.01, 0.02, 0.03, 0.05, 0.1, 0.15, 0.2] is: 0.9316\n"
          ]
        },
        {
          "output_type": "stream",
          "name": "stderr",
          "text": [
            "100%|██████████| 625/625 [00:24<00:00, 25.69it/s]\n"
          ]
        },
        {
          "output_type": "stream",
          "name": "stdout",
          "text": [
            "ACC for eps = [0.001, 0.005, 0.01, 0.02, 0.03, 0.05, 0.1, 0.15, 0.2] is: 0.6357\n"
          ]
        },
        {
          "output_type": "stream",
          "name": "stderr",
          "text": [
            "100%|██████████| 625/625 [00:23<00:00, 26.05it/s]\n"
          ]
        },
        {
          "output_type": "stream",
          "name": "stdout",
          "text": [
            "ACC for eps = [0.001, 0.005, 0.01, 0.02, 0.03, 0.05, 0.1, 0.15, 0.2] is: 0.1143\n"
          ]
        },
        {
          "output_type": "stream",
          "name": "stderr",
          "text": [
            "100%|██████████| 625/625 [00:24<00:00, 25.85it/s]\n"
          ]
        },
        {
          "output_type": "stream",
          "name": "stdout",
          "text": [
            "ACC for eps = [0.001, 0.005, 0.01, 0.02, 0.03, 0.05, 0.1, 0.15, 0.2] is: 0.0213\n"
          ]
        },
        {
          "output_type": "stream",
          "name": "stderr",
          "text": [
            "100%|██████████| 625/625 [00:24<00:00, 25.35it/s]\n"
          ]
        },
        {
          "output_type": "stream",
          "name": "stdout",
          "text": [
            "ACC for eps = [0.001, 0.005, 0.01, 0.02, 0.03, 0.05, 0.1, 0.15, 0.2] is: 0.0059\n"
          ]
        }
      ]
    },
    {
      "cell_type": "code",
      "source": [],
      "metadata": {
        "id": "acg0f_QXAakV"
      },
      "execution_count": null,
      "outputs": []
    }
  ],
  "metadata": {
    "accelerator": "GPU",
    "colab": {
      "machine_shape": "hm",
      "provenance": [],
      "include_colab_link": true
    },
    "kernel": {
      "display_name": "Python 3",
      "language": "python",
      "name": "python3"
    },
    "kernelspec": {
      "display_name": "Python 3",
      "name": "python3"
    },
    "language_info": {
      "name": "python"
    },
    "widgets": {
      "application/vnd.jupyter.widget-state+json": {
        "06ff427576014ce4bd3e0da2f60fa438": {
          "model_module": "@jupyter-widgets/controls",
          "model_name": "HBoxModel",
          "model_module_version": "1.5.0",
          "state": {
            "_dom_classes": [],
            "_model_module": "@jupyter-widgets/controls",
            "_model_module_version": "1.5.0",
            "_model_name": "HBoxModel",
            "_view_count": null,
            "_view_module": "@jupyter-widgets/controls",
            "_view_module_version": "1.5.0",
            "_view_name": "HBoxView",
            "box_style": "",
            "children": [
              "IPY_MODEL_84d58ad489e5415798531f11ffa43606",
              "IPY_MODEL_089aa0bbdd804042a670380de1fc0776",
              "IPY_MODEL_92235d8813114488ae9dad753070b87c"
            ],
            "layout": "IPY_MODEL_74061c1f0ca346e08bac7a332ff81fae"
          }
        },
        "84d58ad489e5415798531f11ffa43606": {
          "model_module": "@jupyter-widgets/controls",
          "model_name": "HTMLModel",
          "model_module_version": "1.5.0",
          "state": {
            "_dom_classes": [],
            "_model_module": "@jupyter-widgets/controls",
            "_model_module_version": "1.5.0",
            "_model_name": "HTMLModel",
            "_view_count": null,
            "_view_module": "@jupyter-widgets/controls",
            "_view_module_version": "1.5.0",
            "_view_name": "HTMLView",
            "description": "",
            "description_tooltip": null,
            "layout": "IPY_MODEL_aa000062f2f04d5a9b0e585e2c84faf8",
            "placeholder": "​",
            "style": "IPY_MODEL_d502118673d24808a5376517d5cfd4bb",
            "value": "100%"
          }
        },
        "089aa0bbdd804042a670380de1fc0776": {
          "model_module": "@jupyter-widgets/controls",
          "model_name": "FloatProgressModel",
          "model_module_version": "1.5.0",
          "state": {
            "_dom_classes": [],
            "_model_module": "@jupyter-widgets/controls",
            "_model_module_version": "1.5.0",
            "_model_name": "FloatProgressModel",
            "_view_count": null,
            "_view_module": "@jupyter-widgets/controls",
            "_view_module_version": "1.5.0",
            "_view_name": "ProgressView",
            "bar_style": "success",
            "description": "",
            "description_tooltip": null,
            "layout": "IPY_MODEL_a4429bd59b894dae946b3dfbf664f434",
            "max": 170498071,
            "min": 0,
            "orientation": "horizontal",
            "style": "IPY_MODEL_645d4a45ae7c48cf88c79e195235e5af",
            "value": 170498071
          }
        },
        "92235d8813114488ae9dad753070b87c": {
          "model_module": "@jupyter-widgets/controls",
          "model_name": "HTMLModel",
          "model_module_version": "1.5.0",
          "state": {
            "_dom_classes": [],
            "_model_module": "@jupyter-widgets/controls",
            "_model_module_version": "1.5.0",
            "_model_name": "HTMLModel",
            "_view_count": null,
            "_view_module": "@jupyter-widgets/controls",
            "_view_module_version": "1.5.0",
            "_view_name": "HTMLView",
            "description": "",
            "description_tooltip": null,
            "layout": "IPY_MODEL_d6d587022574492b84a39e8cae8a6048",
            "placeholder": "​",
            "style": "IPY_MODEL_85d1b93a86514ed38d22cfb0969a40a1",
            "value": " 170498071/170498071 [00:12&lt;00:00, 13752336.68it/s]"
          }
        },
        "74061c1f0ca346e08bac7a332ff81fae": {
          "model_module": "@jupyter-widgets/base",
          "model_name": "LayoutModel",
          "model_module_version": "1.2.0",
          "state": {
            "_model_module": "@jupyter-widgets/base",
            "_model_module_version": "1.2.0",
            "_model_name": "LayoutModel",
            "_view_count": null,
            "_view_module": "@jupyter-widgets/base",
            "_view_module_version": "1.2.0",
            "_view_name": "LayoutView",
            "align_content": null,
            "align_items": null,
            "align_self": null,
            "border": null,
            "bottom": null,
            "display": null,
            "flex": null,
            "flex_flow": null,
            "grid_area": null,
            "grid_auto_columns": null,
            "grid_auto_flow": null,
            "grid_auto_rows": null,
            "grid_column": null,
            "grid_gap": null,
            "grid_row": null,
            "grid_template_areas": null,
            "grid_template_columns": null,
            "grid_template_rows": null,
            "height": null,
            "justify_content": null,
            "justify_items": null,
            "left": null,
            "margin": null,
            "max_height": null,
            "max_width": null,
            "min_height": null,
            "min_width": null,
            "object_fit": null,
            "object_position": null,
            "order": null,
            "overflow": null,
            "overflow_x": null,
            "overflow_y": null,
            "padding": null,
            "right": null,
            "top": null,
            "visibility": null,
            "width": null
          }
        },
        "aa000062f2f04d5a9b0e585e2c84faf8": {
          "model_module": "@jupyter-widgets/base",
          "model_name": "LayoutModel",
          "model_module_version": "1.2.0",
          "state": {
            "_model_module": "@jupyter-widgets/base",
            "_model_module_version": "1.2.0",
            "_model_name": "LayoutModel",
            "_view_count": null,
            "_view_module": "@jupyter-widgets/base",
            "_view_module_version": "1.2.0",
            "_view_name": "LayoutView",
            "align_content": null,
            "align_items": null,
            "align_self": null,
            "border": null,
            "bottom": null,
            "display": null,
            "flex": null,
            "flex_flow": null,
            "grid_area": null,
            "grid_auto_columns": null,
            "grid_auto_flow": null,
            "grid_auto_rows": null,
            "grid_column": null,
            "grid_gap": null,
            "grid_row": null,
            "grid_template_areas": null,
            "grid_template_columns": null,
            "grid_template_rows": null,
            "height": null,
            "justify_content": null,
            "justify_items": null,
            "left": null,
            "margin": null,
            "max_height": null,
            "max_width": null,
            "min_height": null,
            "min_width": null,
            "object_fit": null,
            "object_position": null,
            "order": null,
            "overflow": null,
            "overflow_x": null,
            "overflow_y": null,
            "padding": null,
            "right": null,
            "top": null,
            "visibility": null,
            "width": null
          }
        },
        "d502118673d24808a5376517d5cfd4bb": {
          "model_module": "@jupyter-widgets/controls",
          "model_name": "DescriptionStyleModel",
          "model_module_version": "1.5.0",
          "state": {
            "_model_module": "@jupyter-widgets/controls",
            "_model_module_version": "1.5.0",
            "_model_name": "DescriptionStyleModel",
            "_view_count": null,
            "_view_module": "@jupyter-widgets/base",
            "_view_module_version": "1.2.0",
            "_view_name": "StyleView",
            "description_width": ""
          }
        },
        "a4429bd59b894dae946b3dfbf664f434": {
          "model_module": "@jupyter-widgets/base",
          "model_name": "LayoutModel",
          "model_module_version": "1.2.0",
          "state": {
            "_model_module": "@jupyter-widgets/base",
            "_model_module_version": "1.2.0",
            "_model_name": "LayoutModel",
            "_view_count": null,
            "_view_module": "@jupyter-widgets/base",
            "_view_module_version": "1.2.0",
            "_view_name": "LayoutView",
            "align_content": null,
            "align_items": null,
            "align_self": null,
            "border": null,
            "bottom": null,
            "display": null,
            "flex": null,
            "flex_flow": null,
            "grid_area": null,
            "grid_auto_columns": null,
            "grid_auto_flow": null,
            "grid_auto_rows": null,
            "grid_column": null,
            "grid_gap": null,
            "grid_row": null,
            "grid_template_areas": null,
            "grid_template_columns": null,
            "grid_template_rows": null,
            "height": null,
            "justify_content": null,
            "justify_items": null,
            "left": null,
            "margin": null,
            "max_height": null,
            "max_width": null,
            "min_height": null,
            "min_width": null,
            "object_fit": null,
            "object_position": null,
            "order": null,
            "overflow": null,
            "overflow_x": null,
            "overflow_y": null,
            "padding": null,
            "right": null,
            "top": null,
            "visibility": null,
            "width": null
          }
        },
        "645d4a45ae7c48cf88c79e195235e5af": {
          "model_module": "@jupyter-widgets/controls",
          "model_name": "ProgressStyleModel",
          "model_module_version": "1.5.0",
          "state": {
            "_model_module": "@jupyter-widgets/controls",
            "_model_module_version": "1.5.0",
            "_model_name": "ProgressStyleModel",
            "_view_count": null,
            "_view_module": "@jupyter-widgets/base",
            "_view_module_version": "1.2.0",
            "_view_name": "StyleView",
            "bar_color": null,
            "description_width": ""
          }
        },
        "d6d587022574492b84a39e8cae8a6048": {
          "model_module": "@jupyter-widgets/base",
          "model_name": "LayoutModel",
          "model_module_version": "1.2.0",
          "state": {
            "_model_module": "@jupyter-widgets/base",
            "_model_module_version": "1.2.0",
            "_model_name": "LayoutModel",
            "_view_count": null,
            "_view_module": "@jupyter-widgets/base",
            "_view_module_version": "1.2.0",
            "_view_name": "LayoutView",
            "align_content": null,
            "align_items": null,
            "align_self": null,
            "border": null,
            "bottom": null,
            "display": null,
            "flex": null,
            "flex_flow": null,
            "grid_area": null,
            "grid_auto_columns": null,
            "grid_auto_flow": null,
            "grid_auto_rows": null,
            "grid_column": null,
            "grid_gap": null,
            "grid_row": null,
            "grid_template_areas": null,
            "grid_template_columns": null,
            "grid_template_rows": null,
            "height": null,
            "justify_content": null,
            "justify_items": null,
            "left": null,
            "margin": null,
            "max_height": null,
            "max_width": null,
            "min_height": null,
            "min_width": null,
            "object_fit": null,
            "object_position": null,
            "order": null,
            "overflow": null,
            "overflow_x": null,
            "overflow_y": null,
            "padding": null,
            "right": null,
            "top": null,
            "visibility": null,
            "width": null
          }
        },
        "85d1b93a86514ed38d22cfb0969a40a1": {
          "model_module": "@jupyter-widgets/controls",
          "model_name": "DescriptionStyleModel",
          "model_module_version": "1.5.0",
          "state": {
            "_model_module": "@jupyter-widgets/controls",
            "_model_module_version": "1.5.0",
            "_model_name": "DescriptionStyleModel",
            "_view_count": null,
            "_view_module": "@jupyter-widgets/base",
            "_view_module_version": "1.2.0",
            "_view_name": "StyleView",
            "description_width": ""
          }
        },
        "eb18bbbb987b451fb70ed1f863f584e3": {
          "model_module": "@jupyter-widgets/controls",
          "model_name": "HBoxModel",
          "model_module_version": "1.5.0",
          "state": {
            "_dom_classes": [],
            "_model_module": "@jupyter-widgets/controls",
            "_model_module_version": "1.5.0",
            "_model_name": "HBoxModel",
            "_view_count": null,
            "_view_module": "@jupyter-widgets/controls",
            "_view_module_version": "1.5.0",
            "_view_name": "HBoxView",
            "box_style": "",
            "children": [
              "IPY_MODEL_712c3ce7598f405685037c22f7b8b424",
              "IPY_MODEL_e5ff9b2bd4544065b4d386f58e11ebe6",
              "IPY_MODEL_47dd19f551e84461a61f269867e1a5be"
            ],
            "layout": "IPY_MODEL_b5fafe220f4b4463ad258c4cb23af814"
          }
        },
        "712c3ce7598f405685037c22f7b8b424": {
          "model_module": "@jupyter-widgets/controls",
          "model_name": "HTMLModel",
          "model_module_version": "1.5.0",
          "state": {
            "_dom_classes": [],
            "_model_module": "@jupyter-widgets/controls",
            "_model_module_version": "1.5.0",
            "_model_name": "HTMLModel",
            "_view_count": null,
            "_view_module": "@jupyter-widgets/controls",
            "_view_module_version": "1.5.0",
            "_view_name": "HTMLView",
            "description": "",
            "description_tooltip": null,
            "layout": "IPY_MODEL_e66bf50e59924dccba5759cb0fc38a2f",
            "placeholder": "​",
            "style": "IPY_MODEL_6f0c5f92d6104f329acf0c364c848812",
            "value": "100%"
          }
        },
        "e5ff9b2bd4544065b4d386f58e11ebe6": {
          "model_module": "@jupyter-widgets/controls",
          "model_name": "FloatProgressModel",
          "model_module_version": "1.5.0",
          "state": {
            "_dom_classes": [],
            "_model_module": "@jupyter-widgets/controls",
            "_model_module_version": "1.5.0",
            "_model_name": "FloatProgressModel",
            "_view_count": null,
            "_view_module": "@jupyter-widgets/controls",
            "_view_module_version": "1.5.0",
            "_view_name": "ProgressView",
            "bar_style": "success",
            "description": "",
            "description_tooltip": null,
            "layout": "IPY_MODEL_9cb74adbb67b4213b5ade8274d48f3c3",
            "max": 170498071,
            "min": 0,
            "orientation": "horizontal",
            "style": "IPY_MODEL_23bb6f60b078495fad6cd30b5b5658f5",
            "value": 170498071
          }
        },
        "47dd19f551e84461a61f269867e1a5be": {
          "model_module": "@jupyter-widgets/controls",
          "model_name": "HTMLModel",
          "model_module_version": "1.5.0",
          "state": {
            "_dom_classes": [],
            "_model_module": "@jupyter-widgets/controls",
            "_model_module_version": "1.5.0",
            "_model_name": "HTMLModel",
            "_view_count": null,
            "_view_module": "@jupyter-widgets/controls",
            "_view_module_version": "1.5.0",
            "_view_name": "HTMLView",
            "description": "",
            "description_tooltip": null,
            "layout": "IPY_MODEL_da09aa916c104d8aa8dd6a43b358e8f9",
            "placeholder": "​",
            "style": "IPY_MODEL_8d9f6cbb23a54b32af7444ac2293ff5d",
            "value": " 170498071/170498071 [00:13&lt;00:00, 14756932.12it/s]"
          }
        },
        "b5fafe220f4b4463ad258c4cb23af814": {
          "model_module": "@jupyter-widgets/base",
          "model_name": "LayoutModel",
          "model_module_version": "1.2.0",
          "state": {
            "_model_module": "@jupyter-widgets/base",
            "_model_module_version": "1.2.0",
            "_model_name": "LayoutModel",
            "_view_count": null,
            "_view_module": "@jupyter-widgets/base",
            "_view_module_version": "1.2.0",
            "_view_name": "LayoutView",
            "align_content": null,
            "align_items": null,
            "align_self": null,
            "border": null,
            "bottom": null,
            "display": null,
            "flex": null,
            "flex_flow": null,
            "grid_area": null,
            "grid_auto_columns": null,
            "grid_auto_flow": null,
            "grid_auto_rows": null,
            "grid_column": null,
            "grid_gap": null,
            "grid_row": null,
            "grid_template_areas": null,
            "grid_template_columns": null,
            "grid_template_rows": null,
            "height": null,
            "justify_content": null,
            "justify_items": null,
            "left": null,
            "margin": null,
            "max_height": null,
            "max_width": null,
            "min_height": null,
            "min_width": null,
            "object_fit": null,
            "object_position": null,
            "order": null,
            "overflow": null,
            "overflow_x": null,
            "overflow_y": null,
            "padding": null,
            "right": null,
            "top": null,
            "visibility": null,
            "width": null
          }
        },
        "e66bf50e59924dccba5759cb0fc38a2f": {
          "model_module": "@jupyter-widgets/base",
          "model_name": "LayoutModel",
          "model_module_version": "1.2.0",
          "state": {
            "_model_module": "@jupyter-widgets/base",
            "_model_module_version": "1.2.0",
            "_model_name": "LayoutModel",
            "_view_count": null,
            "_view_module": "@jupyter-widgets/base",
            "_view_module_version": "1.2.0",
            "_view_name": "LayoutView",
            "align_content": null,
            "align_items": null,
            "align_self": null,
            "border": null,
            "bottom": null,
            "display": null,
            "flex": null,
            "flex_flow": null,
            "grid_area": null,
            "grid_auto_columns": null,
            "grid_auto_flow": null,
            "grid_auto_rows": null,
            "grid_column": null,
            "grid_gap": null,
            "grid_row": null,
            "grid_template_areas": null,
            "grid_template_columns": null,
            "grid_template_rows": null,
            "height": null,
            "justify_content": null,
            "justify_items": null,
            "left": null,
            "margin": null,
            "max_height": null,
            "max_width": null,
            "min_height": null,
            "min_width": null,
            "object_fit": null,
            "object_position": null,
            "order": null,
            "overflow": null,
            "overflow_x": null,
            "overflow_y": null,
            "padding": null,
            "right": null,
            "top": null,
            "visibility": null,
            "width": null
          }
        },
        "6f0c5f92d6104f329acf0c364c848812": {
          "model_module": "@jupyter-widgets/controls",
          "model_name": "DescriptionStyleModel",
          "model_module_version": "1.5.0",
          "state": {
            "_model_module": "@jupyter-widgets/controls",
            "_model_module_version": "1.5.0",
            "_model_name": "DescriptionStyleModel",
            "_view_count": null,
            "_view_module": "@jupyter-widgets/base",
            "_view_module_version": "1.2.0",
            "_view_name": "StyleView",
            "description_width": ""
          }
        },
        "9cb74adbb67b4213b5ade8274d48f3c3": {
          "model_module": "@jupyter-widgets/base",
          "model_name": "LayoutModel",
          "model_module_version": "1.2.0",
          "state": {
            "_model_module": "@jupyter-widgets/base",
            "_model_module_version": "1.2.0",
            "_model_name": "LayoutModel",
            "_view_count": null,
            "_view_module": "@jupyter-widgets/base",
            "_view_module_version": "1.2.0",
            "_view_name": "LayoutView",
            "align_content": null,
            "align_items": null,
            "align_self": null,
            "border": null,
            "bottom": null,
            "display": null,
            "flex": null,
            "flex_flow": null,
            "grid_area": null,
            "grid_auto_columns": null,
            "grid_auto_flow": null,
            "grid_auto_rows": null,
            "grid_column": null,
            "grid_gap": null,
            "grid_row": null,
            "grid_template_areas": null,
            "grid_template_columns": null,
            "grid_template_rows": null,
            "height": null,
            "justify_content": null,
            "justify_items": null,
            "left": null,
            "margin": null,
            "max_height": null,
            "max_width": null,
            "min_height": null,
            "min_width": null,
            "object_fit": null,
            "object_position": null,
            "order": null,
            "overflow": null,
            "overflow_x": null,
            "overflow_y": null,
            "padding": null,
            "right": null,
            "top": null,
            "visibility": null,
            "width": null
          }
        },
        "23bb6f60b078495fad6cd30b5b5658f5": {
          "model_module": "@jupyter-widgets/controls",
          "model_name": "ProgressStyleModel",
          "model_module_version": "1.5.0",
          "state": {
            "_model_module": "@jupyter-widgets/controls",
            "_model_module_version": "1.5.0",
            "_model_name": "ProgressStyleModel",
            "_view_count": null,
            "_view_module": "@jupyter-widgets/base",
            "_view_module_version": "1.2.0",
            "_view_name": "StyleView",
            "bar_color": null,
            "description_width": ""
          }
        },
        "da09aa916c104d8aa8dd6a43b358e8f9": {
          "model_module": "@jupyter-widgets/base",
          "model_name": "LayoutModel",
          "model_module_version": "1.2.0",
          "state": {
            "_model_module": "@jupyter-widgets/base",
            "_model_module_version": "1.2.0",
            "_model_name": "LayoutModel",
            "_view_count": null,
            "_view_module": "@jupyter-widgets/base",
            "_view_module_version": "1.2.0",
            "_view_name": "LayoutView",
            "align_content": null,
            "align_items": null,
            "align_self": null,
            "border": null,
            "bottom": null,
            "display": null,
            "flex": null,
            "flex_flow": null,
            "grid_area": null,
            "grid_auto_columns": null,
            "grid_auto_flow": null,
            "grid_auto_rows": null,
            "grid_column": null,
            "grid_gap": null,
            "grid_row": null,
            "grid_template_areas": null,
            "grid_template_columns": null,
            "grid_template_rows": null,
            "height": null,
            "justify_content": null,
            "justify_items": null,
            "left": null,
            "margin": null,
            "max_height": null,
            "max_width": null,
            "min_height": null,
            "min_width": null,
            "object_fit": null,
            "object_position": null,
            "order": null,
            "overflow": null,
            "overflow_x": null,
            "overflow_y": null,
            "padding": null,
            "right": null,
            "top": null,
            "visibility": null,
            "width": null
          }
        },
        "8d9f6cbb23a54b32af7444ac2293ff5d": {
          "model_module": "@jupyter-widgets/controls",
          "model_name": "DescriptionStyleModel",
          "model_module_version": "1.5.0",
          "state": {
            "_model_module": "@jupyter-widgets/controls",
            "_model_module_version": "1.5.0",
            "_model_name": "DescriptionStyleModel",
            "_view_count": null,
            "_view_module": "@jupyter-widgets/base",
            "_view_module_version": "1.2.0",
            "_view_name": "StyleView",
            "description_width": ""
          }
        }
      }
    }
  },
  "nbformat": 4,
  "nbformat_minor": 0
}