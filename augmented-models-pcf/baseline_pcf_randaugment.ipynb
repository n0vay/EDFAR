{
  "cells": [
    {
      "cell_type": "markdown",
      "metadata": {
        "id": "view-in-github",
        "colab_type": "text"
      },
      "source": [
        "<a href=\"https://colab.research.google.com/github/n0vay/EDFAR/blob/master/baseline_pcf_randaugment.ipynb\" target=\"_parent\"><img src=\"https://colab.research.google.com/assets/colab-badge.svg\" alt=\"Open In Colab\"/></a>"
      ]
    },
    {
      "cell_type": "markdown",
      "metadata": {
        "execution": {},
        "id": "GNKXCLinURdf"
      },
      "source": [
        "----\n",
        "# Objective\n",
        "\n",
        "Data augmentation refers to synthetically increasing the amount of training data by transforming the existing training examples. Data augmentation has been shown to be a very useful technique, especially in computer vision applications. However, there are multiple ways of performing data augmentation and it is yet to be understood which transformations are more effective and why, and how data augmentation interacts with other techniques. In fact, it is common to see different augmentation schemes and setups in different papers. For example, there are perceptually possible image transformations (related to human visual perception), simple synthetic transformations such as cutout, more artificial transformations such as mixup that even transform the class labels, among many others.  \n",
        "\n",
        "In this notebook, we will show how to train deep neural networks for image classification with data augmentation and analyse the results."
      ]
    },
    {
      "cell_type": "code",
      "source": [],
      "metadata": {
        "id": "5FugTQFLWTT9"
      },
      "execution_count": null,
      "outputs": []
    },
    {
      "cell_type": "markdown",
      "metadata": {
        "execution": {},
        "id": "FhcK8oA3URdf"
      },
      "source": [
        "---\n",
        "# Setup\n"
      ]
    },
    {
      "cell_type": "code",
      "execution_count": 1,
      "metadata": {
        "execution": {},
        "id": "Gn823Bu7URdf"
      },
      "outputs": [],
      "source": [
        "# @title Install dependencies\n",
        "!pip install pandas --quiet"
      ]
    },
    {
      "cell_type": "code",
      "execution_count": 2,
      "metadata": {
        "execution": {},
        "id": "Vx8p24iVURdg"
      },
      "outputs": [],
      "source": [
        "# imports\n",
        "import os\n",
        "import csv\n",
        "import multiprocessing\n",
        "\n",
        "import numpy as np\n",
        "import pandas as pd\n",
        "import matplotlib.pyplot as plt\n",
        "\n",
        "import torch\n",
        "import torch.nn as nn\n",
        "import torch.optim as optim\n",
        "import torch.nn.functional as F\n",
        "import torch.backends.cudnn as cudnn\n",
        "from torch.autograd import Variable\n",
        "\n",
        "import torchvision\n",
        "import torchvision.transforms as transforms"
      ]
    },
    {
      "cell_type": "code",
      "execution_count": 3,
      "metadata": {
        "cellView": "form",
        "execution": {},
        "id": "RmTxDJAzURdg"
      },
      "outputs": [],
      "source": [
        "# @title Set random seed\n",
        "\n",
        "# @markdown Executing `set_seed(seed=seed)` you are setting the seed\n",
        "\n",
        "# for DL its critical to set the random seed so that students can have a\n",
        "# baseline to compare their results to expected results.\n",
        "# Read more here: https://pytorch.org/docs/stable/notes/randomness.html\n",
        "\n",
        "# Call `set_seed` function in the exercises to ensure reproducibility.\n",
        "import random\n",
        "import torch\n",
        "\n",
        "def set_seed(seed=None, seed_torch=True):\n",
        "  if seed is None:\n",
        "    seed = np.random.choice(2 ** 32)\n",
        "  random.seed(seed)\n",
        "  np.random.seed(seed)\n",
        "  if seed_torch:\n",
        "    torch.manual_seed(seed)\n",
        "    torch.cuda.manual_seed_all(seed)\n",
        "    torch.cuda.manual_seed(seed)\n",
        "    torch.backends.cudnn.benchmark = False\n",
        "    torch.backends.cudnn.deterministic = True\n",
        "\n",
        "  print(f'Random seed {seed} has been set.')\n",
        "\n",
        "# In case that `DataLoader` is used\n",
        "def seed_worker(worker_id):\n",
        "  worker_seed = torch.initial_seed() % 2**32\n",
        "  np.random.seed(worker_seed)\n",
        "  random.seed(worker_seed)"
      ]
    },
    {
      "cell_type": "code",
      "execution_count": 4,
      "metadata": {
        "cellView": "form",
        "execution": {},
        "id": "GtSiItY6URdh"
      },
      "outputs": [],
      "source": [
        "# @title Set device (GPU or CPU)\n",
        "\n",
        "# inform the user if the notebook uses GPU or CPU.\n",
        "\n",
        "def set_device():\n",
        "  device = \"cuda\" if torch.cuda.is_available() else \"cpu\"\n",
        "  if device != \"cuda\":\n",
        "    print(\"WARNING: For this notebook to perform best, \"\n",
        "        \"if possible, in the menu under `Runtime` -> \"\n",
        "        \"`Change runtime type.`  select `GPU` \")\n",
        "  else:\n",
        "    print(\"GPU is enabled in this notebook.\")\n",
        "\n",
        "  return device"
      ]
    },
    {
      "cell_type": "code",
      "execution_count": 5,
      "metadata": {
        "execution": {},
        "id": "AVhp7kTdURdh",
        "outputId": "4398853b-8037-47a5-dea9-914f480950e1",
        "colab": {
          "base_uri": "https://localhost:8080/",
          "height": 71
        }
      },
      "outputs": [
        {
          "output_type": "stream",
          "name": "stdout",
          "text": [
            "Random seed 2021 has been set.\n",
            "GPU is enabled in this notebook.\n"
          ]
        },
        {
          "output_type": "execute_result",
          "data": {
            "text/plain": [
              "'cuda'"
            ],
            "application/vnd.google.colaboratory.intrinsic+json": {
              "type": "string"
            }
          },
          "metadata": {},
          "execution_count": 5
        }
      ],
      "source": [
        "set_seed(seed=2021)\n",
        "set_device()"
      ]
    },
    {
      "cell_type": "markdown",
      "metadata": {
        "execution": {},
        "id": "CYMv-0ayURdi"
      },
      "source": [
        "### Training hyperparameters\n",
        "\n",
        "**Note:** We have reduced the number of epochs, `end_epochs`. The value was set to 200. Please, change it back and run the code."
      ]
    },
    {
      "cell_type": "code",
      "execution_count": 6,
      "metadata": {
        "execution": {},
        "id": "oD3TTcyJURdi"
      },
      "outputs": [],
      "source": [
        "# hyper-parameters\n",
        "use_cuda = torch.cuda.is_available()\n",
        "alpha = 1  # alpha for mixup augmentation\n",
        "best_acc = 0  # best test accuracy\n",
        "start_epoch = 0  # start from epoch 0 or last checkpoint epoch\n",
        "batch_size = 128\n",
        "end_apochs = 25  # Please change this to 200\n",
        "base_learning_rate = 0.1\n",
        "cutout = False  # True/False if you want to use cutout augmentation\n",
        "#mixup = False  # True/False if you want to use mixup augmentation\n",
        "n_holes = 1  # number of holes to cut out from image for cutout\n",
        "length = 16  # length of the holes for cutout augmentation\n",
        "#torchvision_transforms = False  # True/False if you want use torchvision augmentations"
      ]
    },
    {
      "cell_type": "markdown",
      "metadata": {
        "execution": {},
        "id": "DmpEXgLnURdk"
      },
      "source": [
        "---\n",
        "# Data"
      ]
    },
    {
      "cell_type": "markdown",
      "metadata": {
        "execution": {},
        "id": "85E5z7O7URdk"
      },
      "source": [
        "## Datasets\n",
        "\n",
        "We will start using CIFAR-10 data set from PyTorch, but with small tweaks we can get any other data we are interested in. "
      ]
    },
    {
      "cell_type": "code",
      "execution_count": 7,
      "metadata": {
        "execution": {},
        "id": "wDchup0qURdk",
        "outputId": "7c7f5a18-1ce5-4053-ec2e-407e85048474",
        "colab": {
          "base_uri": "https://localhost:8080/",
          "height": 120,
          "referenced_widgets": [
            "9ff3e35ac852438f9b719011aa500aba",
            "81658d3d3dbd4954ad6115ba74e13fb1",
            "82a86317ce7a49ef9b269b395ff275c7",
            "1c80528b6c0e43e58b250b2d6fed8ffa",
            "7651db91de6442a3952df9abd8fd74a4",
            "d064859e3328425c948bd2a0fd68ffb3",
            "1b3915869be4459eadc20ca38da363ca",
            "3611a6896ec84aff8099b75072e74699",
            "16a84057f9a54e4d8e043bf7b34ee185",
            "45c75a2f2fdb423e9cba8f4304345ed1",
            "ff1331d2a2ba42e798071e353e085cc1"
          ]
        }
      },
      "outputs": [
        {
          "output_type": "stream",
          "name": "stdout",
          "text": [
            "==> Preparing data...\n",
            "Downloading https://www.cs.toronto.edu/~kriz/cifar-10-python.tar.gz to ./CIFAR10/cifar-10-python.tar.gz\n"
          ]
        },
        {
          "output_type": "display_data",
          "data": {
            "text/plain": [
              "  0%|          | 0/170498071 [00:00<?, ?it/s]"
            ],
            "application/vnd.jupyter.widget-view+json": {
              "version_major": 2,
              "version_minor": 0,
              "model_id": "9ff3e35ac852438f9b719011aa500aba"
            }
          },
          "metadata": {}
        },
        {
          "output_type": "stream",
          "name": "stdout",
          "text": [
            "Extracting ./CIFAR10/cifar-10-python.tar.gz to ./CIFAR10\n",
            "Files already downloaded and verified\n"
          ]
        }
      ],
      "source": [
        "# @markdown Download and prepare Data\n",
        "print('==> Preparing data...')\n",
        "def percentageSplit(full_dataset, percent=0.0):\n",
        "  set1_size = int(percent * len(full_dataset))\n",
        "  set2_size = len(full_dataset) - set1_size\n",
        "  final_dataset, _ = torch.utils.data.random_split(full_dataset,\n",
        "                                                   [set1_size, set2_size])\n",
        "  return final_dataset\n",
        "\n",
        "\n",
        "# CIFAR10 normalizing\n",
        "mean = (0.4914, 0.4822, 0.4465)\n",
        "std = (0.2023, 0.1994, 0.2010)\n",
        "\n",
        "# torchvision transforms\n",
        "transform_train = transforms.Compose([])\n",
        "transform_train.transforms.append(transforms.RandomCrop(32, padding=4))\n",
        "transform_train.transforms.append(transforms.RandomHorizontalFlip())\n",
        "\n",
        "transform_train.transforms.append(transforms.ToTensor())\n",
        "transform_train.transforms.append(transforms.Normalize(mean, std))\n",
        "#if cutout:\n",
        "#transform_train.transforms.append(Cutout(n_holes=n_holes, length=length))\n",
        "\n",
        "transform_test = transforms.Compose([\n",
        "    transforms.ToTensor(),\n",
        "    transforms.Normalize(mean, std),\n",
        "])\n",
        "\n",
        "trainset = torchvision.datasets.CIFAR10(\n",
        "    root='./CIFAR10', train=True, download=True,\n",
        "    transform=transform_train)\n",
        "\n",
        "testset = torchvision.datasets.CIFAR10(\n",
        "    root='./CIFAR10', train=False, download=True,\n",
        "    transform=transform_test)"
      ]
    },
    {
      "cell_type": "markdown",
      "metadata": {
        "execution": {},
        "id": "ZItQGvYBURdk"
      },
      "source": [
        "#### CIFAR-10\n",
        "\n",
        "CIFAR-10 is a data set of 50,000 colour (RGB) training images and 10,000 test images, of size 32 x 32 pixels. Each image is labelled as 1 of 10 possible classes: \n",
        "```\n",
        "'plane', 'car', 'bird', 'cat', 'deer', 'dog', 'frog', 'horse', 'ship', 'truck'\n",
        "```\n",
        "The data set is stored as a custom `torchvision.datasets.cifar.CIFAR` object. You can check some of its properties with the following code:"
      ]
    },
    {
      "cell_type": "code",
      "execution_count": 8,
      "metadata": {
        "execution": {},
        "id": "cGkVTyNfURdk",
        "outputId": "fa3b71bc-add5-44f7-eb8b-cb09761d9373",
        "colab": {
          "base_uri": "https://localhost:8080/"
        }
      },
      "outputs": [
        {
          "output_type": "stream",
          "name": "stdout",
          "text": [
            "Object type: <class 'torchvision.datasets.cifar.CIFAR10'>\n",
            "Training data shape: (50000, 32, 32, 3)\n",
            "Test data shape: (10000, 32, 32, 3)\n",
            "Number of classes: 10\n"
          ]
        }
      ],
      "source": [
        "print(f\"Object type: {type(trainset)}\")\n",
        "print(f\"Training data shape: {trainset.data.shape}\")\n",
        "print(f\"Test data shape: {testset.data.shape}\")\n",
        "print(f\"Number of classes: {np.unique(trainset.targets).shape[0]}\")"
      ]
    },
    {
      "cell_type": "code",
      "execution_count": 9,
      "metadata": {
        "execution": {},
        "id": "1XRIk7aFURdl",
        "outputId": "e6d7b4d1-069f-4c35-aee0-71472cd446aa",
        "colab": {
          "base_uri": "https://localhost:8080/"
        }
      },
      "outputs": [
        {
          "output_type": "stream",
          "name": "stdout",
          "text": [
            "size of the new trainset: 50000\n"
          ]
        }
      ],
      "source": [
        "# choose percentage from the trainset. set percent = 1.0 to use the whole train data\n",
        "percent = 1.0\n",
        "trainset = percentageSplit(trainset, percent = percent)\n",
        "print(f\"size of the new trainset: {len(trainset)}\")"
      ]
    },
    {
      "cell_type": "markdown",
      "metadata": {
        "execution": {},
        "id": "EE86ghpOURdl"
      },
      "source": [
        "## Data loaders\n",
        "\n",
        "A dataloader is an optimized data iterator that provides functionality for efficient shuffling, transformation and batching of the data."
      ]
    },
    {
      "cell_type": "code",
      "execution_count": 10,
      "metadata": {
        "execution": {},
        "id": "hLJfLMLDURdl",
        "outputId": "3881e6d6-daf2-4c0f-cc60-01d37e722801",
        "colab": {
          "base_uri": "https://localhost:8080/"
        }
      },
      "outputs": [
        {
          "output_type": "stream",
          "name": "stdout",
          "text": [
            "----> number of workers: 2\n"
          ]
        }
      ],
      "source": [
        "# Dataloader\n",
        "num_workers = multiprocessing.cpu_count()\n",
        "\n",
        "print(f'----> number of workers: {num_workers}')\n",
        "\n",
        "trainloader = torch.utils.data.DataLoader(\n",
        "    trainset, batch_size=batch_size, shuffle=True, num_workers=num_workers)\n",
        "testloader = torch.utils.data.DataLoader(\n",
        "    testset, batch_size=batch_size, shuffle=False, num_workers=num_workers)"
      ]
    },
    {
      "cell_type": "markdown",
      "metadata": {
        "execution": {},
        "id": "lm0GkJGTURdl"
      },
      "source": [
        "## Visualization\n",
        "\n",
        "To visualize some of the augmentations, make sure you set to ```True``` their corresponding flags in the hyperparameters section"
      ]
    },
    {
      "cell_type": "code",
      "execution_count": 11,
      "metadata": {
        "execution": {},
        "id": "AbEW1I-aURdl"
      },
      "outputs": [],
      "source": [
        "# get batch of data\n",
        "batch_X, batch_Y =  next(iter(trainloader))"
      ]
    },
    {
      "cell_type": "code",
      "execution_count": 12,
      "metadata": {
        "execution": {},
        "id": "H1teXq0wURdl"
      },
      "outputs": [],
      "source": [
        "def plot_mixed_images(images):\n",
        "  inv_normalize = transforms.Normalize(\n",
        "                      mean= [-m/s for m, s in zip(mean, std)],\n",
        "                      std= [1/s for s in std]\n",
        "                      )\n",
        "  inv_PIL = transforms.ToPILImage()\n",
        "  fig = plt.figure(figsize=(10, 8))\n",
        "  for i in range(1, len(images) + 1):\n",
        "    image = images[i-1]\n",
        "    ax = fig.add_subplot(1, 4, i)\n",
        "    inv_tensor = inv_normalize(image).cpu()\n",
        "    ax.imshow(inv_PIL(inv_tensor))\n",
        "  plt.show()"
      ]
    },
    {
      "cell_type": "code",
      "source": [
        "plot_mixed_images(batch_X[:4])"
      ],
      "metadata": {
        "colab": {
          "base_uri": "https://localhost:8080/",
          "height": 171
        },
        "id": "HFJJL-E2tgu4",
        "outputId": "f3e0b8d4-3faa-4177-a589-a5a2bb6e9bb6"
      },
      "execution_count": 13,
      "outputs": [
        {
          "output_type": "display_data",
          "data": {
            "text/plain": [
              "<Figure size 720x576 with 4 Axes>"
            ],
            "image/png": "[encoded data removed]"
          },
          "metadata": {
            "needs_background": "light"
          }
        }
      ]
    },
    {
      "cell_type": "markdown",
      "metadata": {
        "execution": {},
        "id": "DR7kr7CfURdm"
      },
      "source": [
        "---\n",
        "# Model"
      ]
    },
    {
      "cell_type": "markdown",
      "metadata": {
        "execution": {},
        "id": "KshELBukURdm"
      },
      "source": [
        "## Architecture: ResNet\n",
        "\n",
        "ResNet is a family of network architectures whose main property is that the network is organised as a stack of _residual blocks_. Residual blocks consist of a stack of layers whose output is added the input, making a _shortcut connection_.\n",
        "\n",
        "See the [original paper](https://arxiv.org/abs/1512.03385) for more details.\n",
        "\n",
        "ResNet is just a popular choice out of many others, but data augmentation works well in general. We just picked ResNet for illustration purposes."
      ]
    },
    {
      "cell_type": "code",
      "execution_count": 14,
      "metadata": {
        "execution": {},
        "id": "luQpkUklURdm"
      },
      "outputs": [],
      "source": [
        "# @markdown ResNet model in PyTorch\n",
        "\n",
        "class BasicBlock(nn.Module):\n",
        "  \"\"\"ResNet in PyTorch.\n",
        "        Reference:\n",
        "        [1] Kaiming He, Xiangyu Zhang, Shaoqing Ren, Jian Sun\n",
        "        Deep Residual Learning for Image Recognition.\n",
        "        arXiv:1512.03385\n",
        "  \"\"\"\n",
        "  expansion = 1\n",
        "\n",
        "  def __init__(self, in_planes, planes, stride=1):\n",
        "    super(BasicBlock, self).__init__()\n",
        "    self.conv1 = nn.Conv2d(in_planes, planes, kernel_size=3, stride=stride, padding=1, bias=False)\n",
        "    self.bn1 = nn.BatchNorm2d(planes)\n",
        "    self.conv2 = nn.Conv2d(planes, planes, kernel_size=3, stride=1, padding=1, bias=False)\n",
        "    self.bn2 = nn.BatchNorm2d(planes)\n",
        "\n",
        "    self.shortcut = nn.Sequential()\n",
        "    if stride != 1 or in_planes != self.expansion*planes:\n",
        "        self.shortcut = nn.Sequential(\n",
        "            nn.Conv2d(in_planes, self.expansion*planes, kernel_size=1, stride=stride, bias=False),\n",
        "            nn.BatchNorm2d(self.expansion*planes)\n",
        "        )\n",
        "\n",
        "  def forward(self, x):\n",
        "    out = F.relu(self.bn1(self.conv1(x)))\n",
        "    out = self.bn2(self.conv2(out))\n",
        "    out += self.shortcut(x)\n",
        "    out = F.relu(out)\n",
        "    return out\n",
        "\n",
        "class Bottleneck(nn.Module):\n",
        "  expansion = 4\n",
        "\n",
        "  def __init__(self, in_planes, planes, stride=1):\n",
        "    super(Bottleneck, self).__init__()\n",
        "    self.conv1 = nn.Conv2d(in_planes, planes, kernel_size=1, bias=False)\n",
        "    self.bn1 = nn.BatchNorm2d(planes)\n",
        "    self.conv2 = nn.Conv2d(planes, planes, kernel_size=3, stride=stride, padding=1, bias=False)\n",
        "    self.bn2 = nn.BatchNorm2d(planes)\n",
        "    self.conv3 = nn.Conv2d(planes, self.expansion*planes, kernel_size=1, bias=False)\n",
        "    self.bn3 = nn.BatchNorm2d(self.expansion*planes)\n",
        "\n",
        "    self.shortcut = nn.Sequential()\n",
        "    if stride != 1 or in_planes != self.expansion*planes:\n",
        "      self.shortcut = nn.Sequential(\n",
        "          nn.Conv2d(in_planes, self.expansion*planes, kernel_size=1, stride=stride, bias=False),\n",
        "          nn.BatchNorm2d(self.expansion*planes)\n",
        "      )\n",
        "\n",
        "  def forward(self, x):\n",
        "    out = F.relu(self.bn1(self.conv1(x)))\n",
        "    out = F.relu(self.bn2(self.conv2(out)))\n",
        "    out = self.bn3(self.conv3(out))\n",
        "    out += self.shortcut(x)\n",
        "    out = F.relu(out)\n",
        "    return out\n",
        "\n",
        "\n",
        "class ResNet(nn.Module):\n",
        "  def __init__(self, block, num_blocks, num_classes=10):\n",
        "    super(ResNet, self).__init__()\n",
        "    self.in_planes = 64\n",
        "\n",
        "    self.conv1 = nn.Conv2d(3, 64, kernel_size=3, stride=1, padding=1, bias=False)\n",
        "    self.bn1 = nn.BatchNorm2d(64)\n",
        "    self.layer1 = self._make_layer(block, 64, num_blocks[0], stride=1)\n",
        "    self.layer2 = self._make_layer(block, 128, num_blocks[1], stride=2)\n",
        "    self.layer3 = self._make_layer(block, 256, num_blocks[2], stride=2)\n",
        "    self.layer4 = self._make_layer(block, 512, num_blocks[3], stride=2)\n",
        "    self.linear = nn.Linear(512*block.expansion, num_classes)\n",
        "\n",
        "  def _make_layer(self, block, planes, num_blocks, stride):\n",
        "    strides = [stride] + [1]*(num_blocks-1)\n",
        "    layers = []\n",
        "    for stride in strides:\n",
        "      layers.append(block(self.in_planes, planes, stride))\n",
        "      self.in_planes = planes * block.expansion\n",
        "    return nn.Sequential(*layers)\n",
        "\n",
        "  def forward(self, x):\n",
        "    out = F.relu(self.bn1(self.conv1(x)))\n",
        "    out = self.layer1(out)\n",
        "    out = self.layer2(out)\n",
        "    out = self.layer3(out)\n",
        "    out = self.layer4(out)\n",
        "    out = F.avg_pool2d(out, 4)\n",
        "    out = out.view(out.size(0), -1)\n",
        "    out = self.linear(out)\n",
        "    return out\n",
        "\n",
        "\n",
        "def ResNet18():\n",
        "  return ResNet(BasicBlock, [2, 2, 2, 2])\n"
      ]
    },
    {
      "cell_type": "markdown",
      "metadata": {
        "execution": {},
        "id": "nMfpns3wURdn"
      },
      "source": [
        "## Model setup and test"
      ]
    },
    {
      "cell_type": "code",
      "execution_count": 15,
      "metadata": {
        "execution": {},
        "id": "d77oMyG-URdn",
        "outputId": "ddd900bb-c980-4003-809e-4970c346a1e4",
        "colab": {
          "base_uri": "https://localhost:8080/"
        }
      },
      "outputs": [
        {
          "output_type": "stream",
          "name": "stdout",
          "text": [
            "-----> verify if model is run on random data\n",
            "model loaded\n",
            "Using 1 GPUs.\n",
            "Using CUDA..\n"
          ]
        }
      ],
      "source": [
        "# load the Model\n",
        "net = ResNet18()\n",
        "print('-----> verify if model is run on random data')\n",
        "y = net(Variable(torch.randn(1,3,32,32)))\n",
        "print('model loaded')\n",
        "\n",
        "result_folder = './results/'\n",
        "if not os.path.exists(result_folder):\n",
        "    os.makedirs(result_folder)\n",
        "\n",
        "logname = result_folder + net.__class__.__name__ + '_' + '.csv'\n",
        "\n",
        "if use_cuda:\n",
        "  net.cuda()\n",
        "  net = torch.nn.DataParallel(net)\n",
        "  print('Using', torch.cuda.device_count(), 'GPUs.')\n",
        "  cudnn.benchmark = True\n",
        "  print('Using CUDA..')"
      ]
    },
    {
      "cell_type": "code",
      "source": [],
      "metadata": {
        "id": "-MJOSyppFBLR"
      },
      "execution_count": null,
      "outputs": []
    },
    {
      "cell_type": "markdown",
      "metadata": {
        "execution": {},
        "id": "Uv1NJjqJURdn"
      },
      "source": [
        "---\n",
        "# Training"
      ]
    },
    {
      "cell_type": "markdown",
      "metadata": {
        "execution": {},
        "id": "dI6G2zw5URdn"
      },
      "source": [
        "## Loss function and Optimizer\n",
        "\n",
        "We use the cross entropy loss, commonly used for classification, and stochastic gradient descent (SGD) as optimizer, with momentum and weight decay."
      ]
    },
    {
      "cell_type": "code",
      "execution_count": 16,
      "metadata": {
        "execution": {},
        "id": "OpJqp9kgURdn"
      },
      "outputs": [],
      "source": [
        "# optimizer and criterion\n",
        "\n",
        "criterion = nn.CrossEntropyLoss()  # only for test data\n",
        "optimizer = optim.SGD(net.parameters(), lr=base_learning_rate, momentum=0.9, weight_decay=1e-4)"
      ]
    },
    {
      "cell_type": "markdown",
      "metadata": {
        "execution": {},
        "id": "PTS3E3_eURdn"
      },
      "source": [
        "## Train and test loops"
      ]
    },
    {
      "cell_type": "code",
      "execution_count": 17,
      "metadata": {
        "execution": {},
        "id": "33Ju5_gvURdn"
      },
      "outputs": [],
      "source": [
        "# Training & Test functions\n",
        "def train(epoch, alpha, use_cuda=False):\n",
        "  print('\\nEpoch: %d' % epoch)\n",
        "  net.train()\n",
        "  train_loss = 0\n",
        "  correct = 0\n",
        "  total = 0\n",
        "  for batch_idx, (inputs, targets) in enumerate(trainloader):\n",
        "    if use_cuda:\n",
        "      inputs, targets = inputs.cuda(), targets.cuda()\n",
        "      optimizer.zero_grad()\n",
        "      inputs, targets = Variable(inputs), Variable(targets)\n",
        "      outputs = net(inputs)\n",
        "      loss = criterion(outputs, targets)\n",
        "\n",
        "    loss.backward()\n",
        "    optimizer.step()\n",
        "\n",
        "    train_loss += loss.item()\n",
        "    _, predicted = torch.max(outputs.data, 1)\n",
        "    total += targets.size(0)\n",
        "    correct += predicted.eq(targets.data).cpu().sum()\n",
        "\n",
        "    if batch_idx % 500 == 0:\n",
        "      print(batch_idx, len(trainloader), 'Loss: %.3f | Acc: %.3f%% (%d/%d)'\n",
        "          % (train_loss/(batch_idx+1), 100.*correct/total, correct, total))\n",
        "  return (train_loss/batch_idx, 100.*correct/total)\n",
        "\n",
        "\n",
        "def test(epoch, use_cuda=False):\n",
        "  global best_acc\n",
        "  net.eval()\n",
        "  test_loss = 0\n",
        "  correct = 0\n",
        "  total = 0\n",
        "  with torch.no_grad():\n",
        "    for batch_idx, (inputs, targets) in enumerate(testloader):\n",
        "      if use_cuda:\n",
        "        inputs, targets = inputs.cuda(), targets.cuda()\n",
        "      # inputs, targets = Variable(inputs, volatile=True), Variable(targets)\n",
        "      outputs = net(inputs)\n",
        "      loss = criterion(outputs, targets)\n",
        "\n",
        "      test_loss += loss.item()\n",
        "      _, predicted = torch.max(outputs.data, 1)\n",
        "      total += targets.size(0)\n",
        "      correct += predicted.eq(targets.data).cpu().sum()\n",
        "\n",
        "      if batch_idx % 200 == 0:\n",
        "        print(batch_idx, len(testloader), 'Loss: %.3f | Acc: %.3f%% (%d/%d)'\n",
        "            % (test_loss/(batch_idx+1), 100.*correct/total, correct, total))\n",
        "\n",
        "  # Save checkpoint.\n",
        "  acc = 100.*correct/total\n",
        "  if acc > best_acc:\n",
        "    best_acc = acc\n",
        "    checkpoint(acc, epoch)\n",
        "  return (test_loss/batch_idx, 100.*correct/total)"
      ]
    },
    {
      "cell_type": "markdown",
      "metadata": {
        "execution": {},
        "id": "TyGR3I-LURdn"
      },
      "source": [
        "### Auxiliary functions\n",
        "\n",
        "* `checkpoint()`: Store checkpoints of the model\n",
        "* `adjust_learning_rate()`: Decreases the learning rate (learning rate decay) at certain epochs of training."
      ]
    },
    {
      "cell_type": "code",
      "execution_count": 18,
      "metadata": {
        "execution": {},
        "id": "kd_YpvRGURdo"
      },
      "outputs": [],
      "source": [
        "# @markdown `checkpoint` and `adjust_learning_rate` functions\n",
        "def checkpoint(acc, epoch):\n",
        "  # Save checkpoint.\n",
        "  print('Saving..')\n",
        "  state = {\n",
        "      'net': net.state_dict(),\n",
        "      'acc': acc,\n",
        "      'epoch': epoch,\n",
        "      'rng_state': torch.get_rng_state()\n",
        "      }\n",
        "  if not os.path.isdir('checkpoint'):\n",
        "    os.mkdir('checkpoint')\n",
        "  torch.save(state, './checkpoint/ckpt.t7')\n",
        "\n",
        "\n",
        "def adjust_learning_rate(optimizer, epoch):\n",
        "  \"\"\"decrease the learning rate at 100 and 150 epoch\"\"\"\n",
        "  lr = base_learning_rate\n",
        "  if epoch <= 9 and lr > 0.1:\n",
        "    # warm-up training for large minibatch\n",
        "    lr = 0.1 + (base_learning_rate - 0.1) * epoch / 10.\n",
        "  if epoch >= 100:\n",
        "    lr /= 10\n",
        "  if epoch >= 150:\n",
        "    lr /= 10\n",
        "  for param_group in optimizer.param_groups:\n",
        "    param_group['lr'] = lr"
      ]
    },
    {
      "cell_type": "code",
      "execution_count": 19,
      "metadata": {
        "execution": {},
        "id": "I9ZH3gW2URdo",
        "outputId": "347eda09-3892-4a73-8b1d-6e080ad3252e",
        "colab": {
          "base_uri": "https://localhost:8080/"
        }
      },
      "outputs": [
        {
          "output_type": "stream",
          "name": "stdout",
          "text": [
            "\n",
            "Epoch: 0\n",
            "0 391 Loss: 2.425 | Acc: 10.938% (14/128)\n",
            "0 79 Loss: 1.544 | Acc: 44.531% (57/128)\n",
            "Saving..\n",
            "Epoch: 0 | train acc: 33.25600051879883 | test acc: 44.959999084472656\n",
            "\n",
            "Epoch: 1\n",
            "0 391 Loss: 1.596 | Acc: 46.094% (59/128)\n",
            "0 79 Loss: 1.201 | Acc: 60.938% (78/128)\n",
            "Saving..\n",
            "Epoch: 1 | train acc: 50.38199996948242 | test acc: 56.22999954223633\n",
            "\n",
            "Epoch: 2\n",
            "0 391 Loss: 1.182 | Acc: 57.031% (73/128)\n",
            "0 79 Loss: 1.051 | Acc: 60.938% (78/128)\n",
            "Saving..\n",
            "Epoch: 2 | train acc: 61.4739990234375 | test acc: 60.5099983215332\n",
            "\n",
            "Epoch: 3\n",
            "0 391 Loss: 1.003 | Acc: 63.281% (81/128)\n",
            "0 79 Loss: 0.742 | Acc: 70.312% (90/128)\n",
            "Saving..\n",
            "Epoch: 3 | train acc: 68.11399841308594 | test acc: 70.79000091552734\n",
            "\n",
            "Epoch: 4\n",
            "0 391 Loss: 0.809 | Acc: 69.531% (89/128)\n",
            "0 79 Loss: 0.756 | Acc: 71.094% (91/128)\n",
            "Epoch: 4 | train acc: 72.35600280761719 | test acc: 70.44000244140625\n",
            "\n",
            "Epoch: 5\n",
            "0 391 Loss: 0.653 | Acc: 77.344% (99/128)\n",
            "0 79 Loss: 0.568 | Acc: 78.125% (100/128)\n",
            "Saving..\n",
            "Epoch: 5 | train acc: 76.05599975585938 | test acc: 77.9800033569336\n",
            "\n",
            "Epoch: 6\n",
            "0 391 Loss: 0.630 | Acc: 79.688% (102/128)\n",
            "0 79 Loss: 0.539 | Acc: 82.031% (105/128)\n",
            "Saving..\n",
            "Epoch: 6 | train acc: 79.18199920654297 | test acc: 78.61000061035156\n",
            "\n",
            "Epoch: 7\n",
            "0 391 Loss: 0.533 | Acc: 80.469% (103/128)\n",
            "0 79 Loss: 0.448 | Acc: 83.594% (107/128)\n",
            "Saving..\n",
            "Epoch: 7 | train acc: 81.69999694824219 | test acc: 81.11000061035156\n",
            "\n",
            "Epoch: 8\n",
            "0 391 Loss: 0.482 | Acc: 83.594% (107/128)\n",
            "0 79 Loss: 0.575 | Acc: 78.906% (101/128)\n",
            "Epoch: 8 | train acc: 83.30400085449219 | test acc: 80.18000030517578\n",
            "\n",
            "Epoch: 9\n",
            "0 391 Loss: 0.445 | Acc: 82.812% (106/128)\n",
            "0 79 Loss: 0.504 | Acc: 79.688% (102/128)\n",
            "Saving..\n",
            "Epoch: 9 | train acc: 84.68399810791016 | test acc: 81.7300033569336\n",
            "\n",
            "Epoch: 10\n",
            "0 391 Loss: 0.433 | Acc: 85.156% (109/128)\n",
            "0 79 Loss: 0.376 | Acc: 85.156% (109/128)\n",
            "Saving..\n",
            "Epoch: 10 | train acc: 85.89399719238281 | test acc: 84.54000091552734\n",
            "\n",
            "Epoch: 11\n",
            "0 391 Loss: 0.234 | Acc: 91.406% (117/128)\n",
            "0 79 Loss: 0.449 | Acc: 84.375% (108/128)\n",
            "Epoch: 11 | train acc: 86.78399658203125 | test acc: 83.54000091552734\n",
            "\n",
            "Epoch: 12\n",
            "0 391 Loss: 0.199 | Acc: 93.750% (120/128)\n",
            "0 79 Loss: 0.383 | Acc: 85.156% (109/128)\n",
            "Epoch: 12 | train acc: 87.59600067138672 | test acc: 83.66000366210938\n",
            "\n",
            "Epoch: 13\n",
            "0 391 Loss: 0.326 | Acc: 89.062% (114/128)\n",
            "0 79 Loss: 0.442 | Acc: 81.250% (104/128)\n",
            "Epoch: 13 | train acc: 88.4540023803711 | test acc: 83.25\n",
            "\n",
            "Epoch: 14\n",
            "0 391 Loss: 0.242 | Acc: 91.406% (117/128)\n",
            "0 79 Loss: 0.418 | Acc: 86.719% (111/128)\n",
            "Epoch: 14 | train acc: 89.09200286865234 | test acc: 84.33999633789062\n",
            "\n",
            "Epoch: 15\n",
            "0 391 Loss: 0.203 | Acc: 92.969% (119/128)\n",
            "0 79 Loss: 0.428 | Acc: 82.812% (106/128)\n",
            "Epoch: 15 | train acc: 89.78399658203125 | test acc: 83.73999786376953\n",
            "\n",
            "Epoch: 16\n",
            "0 391 Loss: 0.247 | Acc: 92.969% (119/128)\n",
            "0 79 Loss: 0.457 | Acc: 85.156% (109/128)\n",
            "Saving..\n",
            "Epoch: 16 | train acc: 90.31199645996094 | test acc: 86.2699966430664\n",
            "\n",
            "Epoch: 17\n",
            "0 391 Loss: 0.217 | Acc: 91.406% (117/128)\n",
            "0 79 Loss: 0.337 | Acc: 89.844% (115/128)\n",
            "Saving..\n",
            "Epoch: 17 | train acc: 90.53800201416016 | test acc: 86.72000122070312\n",
            "\n",
            "Epoch: 18\n",
            "0 391 Loss: 0.269 | Acc: 89.844% (115/128)\n",
            "0 79 Loss: 0.511 | Acc: 84.375% (108/128)\n",
            "Epoch: 18 | train acc: 91.31800079345703 | test acc: 84.5199966430664\n",
            "\n",
            "Epoch: 19\n",
            "0 391 Loss: 0.301 | Acc: 88.281% (113/128)\n",
            "0 79 Loss: 0.308 | Acc: 87.500% (112/128)\n",
            "Saving..\n",
            "Epoch: 19 | train acc: 91.31600189208984 | test acc: 87.37000274658203\n",
            "\n",
            "Epoch: 20\n",
            "0 391 Loss: 0.209 | Acc: 94.531% (121/128)\n",
            "0 79 Loss: 0.320 | Acc: 87.500% (112/128)\n",
            "Epoch: 20 | train acc: 92.0 | test acc: 87.18000030517578\n",
            "\n",
            "Epoch: 21\n",
            "0 391 Loss: 0.267 | Acc: 90.625% (116/128)\n",
            "0 79 Loss: 0.354 | Acc: 88.281% (113/128)\n",
            "Saving..\n",
            "Epoch: 21 | train acc: 92.23600006103516 | test acc: 87.58999633789062\n",
            "\n",
            "Epoch: 22\n",
            "0 391 Loss: 0.244 | Acc: 88.281% (113/128)\n",
            "0 79 Loss: 0.429 | Acc: 84.375% (108/128)\n",
            "Epoch: 22 | train acc: 92.58200073242188 | test acc: 85.81999969482422\n",
            "\n",
            "Epoch: 23\n",
            "0 391 Loss: 0.170 | Acc: 94.531% (121/128)\n",
            "0 79 Loss: 0.356 | Acc: 86.719% (111/128)\n",
            "Saving..\n",
            "Epoch: 23 | train acc: 92.86399841308594 | test acc: 88.37000274658203\n",
            "\n",
            "Epoch: 24\n",
            "0 391 Loss: 0.115 | Acc: 95.312% (122/128)\n",
            "0 79 Loss: 0.347 | Acc: 86.719% (111/128)\n",
            "Epoch: 24 | train acc: 92.81199645996094 | test acc: 86.69000244140625\n"
          ]
        }
      ],
      "source": [
        "# start training\n",
        "if not os.path.exists(logname):\n",
        "  with open(logname, 'w') as logfile:\n",
        "    logwriter = csv.writer(logfile, delimiter=',')\n",
        "    logwriter.writerow(['epoch', 'train loss', 'train acc',\n",
        "                        'test loss', 'test acc'])\n",
        "\n",
        "for epoch in range(start_epoch, end_apochs):\n",
        "  adjust_learning_rate(optimizer, epoch)\n",
        "  train_loss, train_acc = train(epoch, alpha, use_cuda=use_cuda)\n",
        "  test_loss, test_acc = test(epoch, use_cuda=use_cuda)\n",
        "  with open(logname, 'a') as logfile:\n",
        "    logwriter = csv.writer(logfile, delimiter=',')\n",
        "    logwriter.writerow([epoch, train_loss, train_acc.item(),\n",
        "                        test_loss, test_acc.item()])\n",
        "  print(f'Epoch: {epoch} | train acc: {train_acc} | test acc: {test_acc}')"
      ]
    },
    {
      "cell_type": "code",
      "execution_count": 20,
      "metadata": {
        "execution": {},
        "id": "owclwlevURdo",
        "colab": {
          "base_uri": "https://localhost:8080/",
          "height": 206
        },
        "outputId": "6c259b28-e66f-46a2-a7b2-dcbca0921c18"
      },
      "outputs": [
        {
          "output_type": "execute_result",
          "data": {
            "text/plain": [
              "   epoch  train loss  train acc  test loss   test acc\n",
              "0      0    1.855285  33.256001   1.534558  44.959999\n",
              "1      1    1.365636  50.382000   1.232484  56.230000\n",
              "2      2    1.078431  61.473999   1.149040  60.509998\n",
              "3      3    0.901467  68.113998   0.849608  70.790001\n",
              "4      4    0.779526  72.356003   0.850589  70.440002"
            ],
            "text/html": [
              "\n",
              "  <div id=\"df-7834d764-6572-4764-8ea5-1a0ff6ee45c1\">\n",
              "    <div class=\"colab-df-container\">\n",
              "      <div>\n",
              "<style scoped>\n",
              "    .dataframe tbody tr th:only-of-type {\n",
              "        vertical-align: middle;\n",
              "    }\n",
              "\n",
              "    .dataframe tbody tr th {\n",
              "        vertical-align: top;\n",
              "    }\n",
              "\n",
              "    .dataframe thead th {\n",
              "        text-align: right;\n",
              "    }\n",
              "</style>\n",
              "<table border=\"1\" class=\"dataframe\">\n",
              "  <thead>\n",
              "    <tr style=\"text-align: right;\">\n",
              "      <th></th>\n",
              "      <th>epoch</th>\n",
              "      <th>train loss</th>\n",
              "      <th>train acc</th>\n",
              "      <th>test loss</th>\n",
              "      <th>test acc</th>\n",
              "    </tr>\n",
              "  </thead>\n",
              "  <tbody>\n",
              "    <tr>\n",
              "      <th>0</th>\n",
              "      <td>0</td>\n",
              "      <td>1.855285</td>\n",
              "      <td>33.256001</td>\n",
              "      <td>1.534558</td>\n",
              "      <td>44.959999</td>\n",
              "    </tr>\n",
              "    <tr>\n",
              "      <th>1</th>\n",
              "      <td>1</td>\n",
              "      <td>1.365636</td>\n",
              "      <td>50.382000</td>\n",
              "      <td>1.232484</td>\n",
              "      <td>56.230000</td>\n",
              "    </tr>\n",
              "    <tr>\n",
              "      <th>2</th>\n",
              "      <td>2</td>\n",
              "      <td>1.078431</td>\n",
              "      <td>61.473999</td>\n",
              "      <td>1.149040</td>\n",
              "      <td>60.509998</td>\n",
              "    </tr>\n",
              "    <tr>\n",
              "      <th>3</th>\n",
              "      <td>3</td>\n",
              "      <td>0.901467</td>\n",
              "      <td>68.113998</td>\n",
              "      <td>0.849608</td>\n",
              "      <td>70.790001</td>\n",
              "    </tr>\n",
              "    <tr>\n",
              "      <th>4</th>\n",
              "      <td>4</td>\n",
              "      <td>0.779526</td>\n",
              "      <td>72.356003</td>\n",
              "      <td>0.850589</td>\n",
              "      <td>70.440002</td>\n",
              "    </tr>\n",
              "  </tbody>\n",
              "</table>\n",
              "</div>\n",
              "      <button class=\"colab-df-convert\" onclick=\"convertToInteractive('df-7834d764-6572-4764-8ea5-1a0ff6ee45c1')\"\n",
              "              title=\"Convert this dataframe to an interactive table.\"\n",
              "              style=\"display:none;\">\n",
              "        \n",
              "  <svg xmlns=\"http://www.w3.org/2000/svg\" height=\"24px\"viewBox=\"0 0 24 24\"\n",
              "       width=\"24px\">\n",
              "    <path d=\"M0 0h24v24H0V0z\" fill=\"none\"/>\n",
              "    <path d=\"M18.56 5.44l.94 2.06.94-2.06 2.06-.94-2.06-.94-.94-2.06-.94 2.06-2.06.94zm-11 1L8.5 8.5l.94-2.06 2.06-.94-2.06-.94L8.5 2.5l-.94 2.06-2.06.94zm10 10l.94 2.06.94-2.06 2.06-.94-2.06-.94-.94-2.06-.94 2.06-2.06.94z\"/><path d=\"M17.41 7.96l-1.37-1.37c-.4-.4-.92-.59-1.43-.59-.52 0-1.04.2-1.43.59L10.3 9.45l-7.72 7.72c-.78.78-.78 2.05 0 2.83L4 21.41c.39.39.9.59 1.41.59.51 0 1.02-.2 1.41-.59l7.78-7.78 2.81-2.81c.8-.78.8-2.07 0-2.86zM5.41 20L4 18.59l7.72-7.72 1.47 1.35L5.41 20z\"/>\n",
              "  </svg>\n",
              "      </button>\n",
              "      \n",
              "  <style>\n",
              "    .colab-df-container {\n",
              "      display:flex;\n",
              "      flex-wrap:wrap;\n",
              "      gap: 12px;\n",
              "    }\n",
              "\n",
              "    .colab-df-convert {\n",
              "      background-color: #E8F0FE;\n",
              "      border: none;\n",
              "      border-radius: 50%;\n",
              "      cursor: pointer;\n",
              "      display: none;\n",
              "      fill: #1967D2;\n",
              "      height: 32px;\n",
              "      padding: 0 0 0 0;\n",
              "      width: 32px;\n",
              "    }\n",
              "\n",
              "    .colab-df-convert:hover {\n",
              "      background-color: #E2EBFA;\n",
              "      box-shadow: 0px 1px 2px rgba(60, 64, 67, 0.3), 0px 1px 3px 1px rgba(60, 64, 67, 0.15);\n",
              "      fill: #174EA6;\n",
              "    }\n",
              "\n",
              "    [theme=dark] .colab-df-convert {\n",
              "      background-color: #3B4455;\n",
              "      fill: #D2E3FC;\n",
              "    }\n",
              "\n",
              "    [theme=dark] .colab-df-convert:hover {\n",
              "      background-color: #434B5C;\n",
              "      box-shadow: 0px 1px 3px 1px rgba(0, 0, 0, 0.15);\n",
              "      filter: drop-shadow(0px 1px 2px rgba(0, 0, 0, 0.3));\n",
              "      fill: #FFFFFF;\n",
              "    }\n",
              "  </style>\n",
              "\n",
              "      <script>\n",
              "        const buttonEl =\n",
              "          document.querySelector('#df-7834d764-6572-4764-8ea5-1a0ff6ee45c1 button.colab-df-convert');\n",
              "        buttonEl.style.display =\n",
              "          google.colab.kernel.accessAllowed ? 'block' : 'none';\n",
              "\n",
              "        async function convertToInteractive(key) {\n",
              "          const element = document.querySelector('#df-7834d764-6572-4764-8ea5-1a0ff6ee45c1');\n",
              "          const dataTable =\n",
              "            await google.colab.kernel.invokeFunction('convertToInteractive',\n",
              "                                                     [key], {});\n",
              "          if (!dataTable) return;\n",
              "\n",
              "          const docLinkHtml = 'Like what you see? Visit the ' +\n",
              "            '<a target=\"_blank\" href=https://colab.research.google.com/notebooks/data_table.ipynb>data table notebook</a>'\n",
              "            + ' to learn more about interactive tables.';\n",
              "          element.innerHTML = '';\n",
              "          dataTable['output_type'] = 'display_data';\n",
              "          await google.colab.output.renderOutput(dataTable, element);\n",
              "          const docLink = document.createElement('div');\n",
              "          docLink.innerHTML = docLinkHtml;\n",
              "          element.appendChild(docLink);\n",
              "        }\n",
              "      </script>\n",
              "    </div>\n",
              "  </div>\n",
              "  "
            ]
          },
          "metadata": {},
          "execution_count": 20
        }
      ],
      "source": [
        "# plot results\n",
        "results = pd.read_csv('/content/results/ResNet_.csv', sep=',')\n",
        "results.head()"
      ]
    },
    {
      "cell_type": "code",
      "execution_count": 21,
      "metadata": {
        "execution": {},
        "id": "Xt5nJPPWURdo",
        "colab": {
          "base_uri": "https://localhost:8080/"
        },
        "outputId": "33b732c5-e43d-4e0c-f5f6-bf201b4c6ef9"
      },
      "outputs": [
        {
          "output_type": "stream",
          "name": "stdout",
          "text": [
            "Average test Accuracy over 25 epochs: 79.0\n",
            "best test accuraccy over 25 epochs: 88.37000274658203\n"
          ]
        }
      ],
      "source": [
        "train_accuracy = results['train acc'].values\n",
        "test_accuracy = results['test acc'].values\n",
        "\n",
        "print(f\"Average test Accuracy over {end_apochs} epochs: {sum(test_accuracy)//len(test_accuracy)}\")\n",
        "print(f\"best test accuraccy over {end_apochs} epochs: {max(test_accuracy)}\")"
      ]
    },
    {
      "cell_type": "code",
      "execution_count": 22,
      "metadata": {
        "execution": {},
        "id": "KX_QFkduURdo",
        "colab": {
          "base_uri": "https://localhost:8080/",
          "height": 404
        },
        "outputId": "3aa27bc1-6675-4f3a-b030-de3cdd4d7623"
      },
      "outputs": [
        {
          "output_type": "display_data",
          "data": {
            "text/plain": [
              "<Figure size 648x432 with 1 Axes>"
            ],
            "image/png": "[encoded data removed]"
          },
          "metadata": {
            "needs_background": "light"
          }
        }
      ],
      "source": [
        "figureName = 'WithMixUp' # change figure name\n",
        "\n",
        "plt.figure(figsize=(9, 6))\n",
        "plt.plot(results['epoch'].values, train_accuracy, label='train')\n",
        "plt.plot(results['epoch'].values, test_accuracy, label='test')\n",
        "plt.xlabel('Number of epochs')\n",
        "plt.ylabel('Accuracy')\n",
        "plt.title(f'Train/Test Accuracy curve for {end_apochs} epochs')\n",
        "plt.savefig(f'/content/results/{figureName}.png')\n",
        "plt.legend()\n",
        "plt.show()"
      ]
    },
    {
      "cell_type": "markdown",
      "source": [
        "#Training with Augmented Data"
      ],
      "metadata": {
        "id": "mfOeOZavLfgf"
      }
    },
    {
      "cell_type": "code",
      "source": [
        "# class Cutout(object):\n",
        "#   \"\"\"\n",
        "#   code from: https://github.com/uoguelph-mlrg/Cutout\n",
        "\n",
        "#   Randomly mask out one or more patches from an image.\n",
        "#   Args:\n",
        "#       n_holes (int): Number of patches to cut out of each image.\n",
        "#       length (int): The length (in pixels) of each square patch.\n",
        "#   \"\"\"\n",
        "#   def __init__(self, n_holes, length):\n",
        "#     self.n_holes = n_holes\n",
        "#     self.length = length\n",
        "\n",
        "#   def __call__(self, img):\n",
        "#     \"\"\"\n",
        "#     Args:\n",
        "#         img (Tensor): Tensor image of size (C, H, W).\n",
        "#     Returns:\n",
        "#         Tensor: Image with n_holes of dimension length x length cut out of it.\n",
        "#     \"\"\"\n",
        "#     h = img.size(1)\n",
        "#     w = img.size(2)\n",
        "\n",
        "#     mask = np.ones((h, w), np.float32)\n",
        "\n",
        "#     for n in range(self.n_holes):\n",
        "#       y = np.random.randint(h)\n",
        "#       x = np.random.randint(w)\n",
        "\n",
        "#       y1 = np.clip(y - self.length // 2, 0, h)\n",
        "#       y2 = np.clip(y + self.length // 2, 0, h)\n",
        "#       x1 = np.clip(x - self.length // 2, 0, w)\n",
        "#       x2 = np.clip(x + self.length // 2, 0, w)\n",
        "\n",
        "#       mask[y1: y2, x1: x2] = 0.\n",
        "\n",
        "#     mask = torch.from_numpy(mask)\n",
        "#     mask = mask.expand_as(img)\n",
        "#     img = img * mask\n",
        "\n",
        "#     return img"
      ],
      "metadata": {
        "id": "j5uRbl0nwfYB"
      },
      "execution_count": null,
      "outputs": []
    },
    {
      "cell_type": "code",
      "source": [
        "# class ToTensor(object): \n",
        "#   def _call_(self, image, target): \n",
        "#     image = F.to_tensor(image) \n",
        "#     target = torch.as_tensor(np.asarray(target), dtype=torch.uint8) \n",
        "#     return image, target"
      ],
      "metadata": {
        "id": "_bpvUb7ujmRc"
      },
      "execution_count": null,
      "outputs": []
    },
    {
      "cell_type": "code",
      "source": [
        "# @markdown Download and prepare Data\n",
        "print('==> Preparing data...')\n",
        "def percentageSplit(full_dataset, percent=0.0):\n",
        "  set1_size = int(percent * len(full_dataset))\n",
        "  set2_size = len(full_dataset) - set1_size\n",
        "  final_dataset, _ = torch.utils.data.random_split(full_dataset,\n",
        "                                                   [set1_size, set2_size])\n",
        "  return final_dataset\n",
        "\n",
        "\n",
        "# CIFAR10 normalizing\n",
        "mean = (0.4914, 0.4822, 0.4465)\n",
        "std = (0.2023, 0.1994, 0.2010)\n",
        "\n",
        "# torchvision transforms\n",
        "transform_train = transforms.Compose([])\n",
        "transform_train.transforms.append(transforms.RandAugment())\n",
        "transform_train.transforms.append(transforms.RandomCrop(32, padding=4))\n",
        "transform_train.transforms.append(transforms.RandomHorizontalFlip())\n",
        "\n",
        "transform_train.transforms.append(transforms.ToTensor())\n",
        "transform_train.transforms.append(transforms.Normalize(mean, std))\n",
        "\n",
        "\n",
        "transform_test = transforms.Compose([\n",
        "    transforms.ToTensor(),\n",
        "    transforms.Normalize(mean, std),\n",
        "])\n",
        "\n",
        "trainset = torchvision.datasets.CIFAR10(\n",
        "    root='./CIFAR10', train=True, download=True,\n",
        "    transform=transform_train)\n",
        "\n",
        "testset = torchvision.datasets.CIFAR10(\n",
        "    root='./CIFAR10', train=False, download=True,\n",
        "    transform=transform_test)"
      ],
      "metadata": {
        "id": "a4OPpyV9t75h",
        "colab": {
          "base_uri": "https://localhost:8080/"
        },
        "outputId": "f5fc60d1-9e5b-42a1-91db-3a9712a17a0b"
      },
      "execution_count": 23,
      "outputs": [
        {
          "output_type": "stream",
          "name": "stdout",
          "text": [
            "==> Preparing data...\n",
            "Files already downloaded and verified\n",
            "Files already downloaded and verified\n"
          ]
        }
      ]
    },
    {
      "cell_type": "code",
      "source": [
        "# Dataloader\n",
        "num_workers = multiprocessing.cpu_count()\n",
        "\n",
        "print(f'----> number of workers: {num_workers}')\n",
        "\n",
        "trainloader = torch.utils.data.DataLoader(\n",
        "    trainset, batch_size=batch_size, shuffle=True, num_workers=num_workers)\n",
        "testloader = torch.utils.data.DataLoader(\n",
        "    testset, batch_size=batch_size, shuffle=False, num_workers=num_workers)"
      ],
      "metadata": {
        "colab": {
          "base_uri": "https://localhost:8080/"
        },
        "id": "Y4wlIiuuw12V",
        "outputId": "1766ac2e-889b-49d0-edf8-b3e200c7e3b6"
      },
      "execution_count": 24,
      "outputs": [
        {
          "output_type": "stream",
          "name": "stdout",
          "text": [
            "----> number of workers: 2\n"
          ]
        }
      ]
    },
    {
      "cell_type": "code",
      "source": [
        "batch_X, batch_Y =  next(iter(trainloader))"
      ],
      "metadata": {
        "id": "rXVBxMFawv96"
      },
      "execution_count": 25,
      "outputs": []
    },
    {
      "cell_type": "code",
      "source": [
        "plot_mixed_images(batch_X[:4])"
      ],
      "metadata": {
        "colab": {
          "base_uri": "https://localhost:8080/",
          "height": 171
        },
        "id": "c_zB8UZSw9u3",
        "outputId": "81c37956-6b52-43a9-cf6f-856aae06cfa8"
      },
      "execution_count": 26,
      "outputs": [
        {
          "output_type": "display_data",
          "data": {
            "text/plain": [
              "<Figure size 720x576 with 4 Axes>"
            ],
            "image/png": "[encoded data removed]"
          },
          "metadata": {
            "needs_background": "light"
          }
        }
      ]
    },
    {
      "cell_type": "code",
      "source": [
        "# Training & Test functions\n",
        "def train(epoch, alpha, use_cuda=False):\n",
        "  print('\\nEpoch: %d' % epoch)\n",
        "  net.train()\n",
        "  train_loss = 0\n",
        "  correct = 0\n",
        "  total = 0\n",
        "  for batch_idx, (inputs, targets) in enumerate(trainloader):\n",
        "    if use_cuda:\n",
        "      inputs, targets = inputs.cuda(), targets.cuda()\n",
        "    optimizer.zero_grad()\n",
        "    \n",
        "    inputs, targets = Variable(inputs), Variable(targets)\n",
        "    outputs = net(inputs)\n",
        "    loss = criterion(outputs, targets)\n",
        "\n",
        "    loss.backward()\n",
        "    optimizer.step()\n",
        "\n",
        "    train_loss += loss.item()\n",
        "    _, predicted = torch.max(outputs.data, 1)\n",
        "    total += targets.size(0)\n",
        "\n",
        "    correct += predicted.eq(targets.data).cpu().sum()\n",
        "\n",
        "    if batch_idx % 500 == 0:\n",
        "      print(batch_idx, len(trainloader), 'Loss: %.3f | Acc: %.3f%% (%d/%d)'\n",
        "          % (train_loss/(batch_idx+1), 100.*correct/total, correct, total))\n",
        "  return (train_loss/batch_idx, 100.*correct/total)\n",
        "\n",
        "\n",
        "def test(epoch, use_cuda=False):\n",
        "  global best_acc\n",
        "  net.eval()\n",
        "  test_loss = 0\n",
        "  correct = 0\n",
        "  total = 0\n",
        "  with torch.no_grad():\n",
        "    for batch_idx, (inputs, targets) in enumerate(testloader):\n",
        "      if use_cuda:\n",
        "        inputs, targets = inputs.cuda(), targets.cuda()\n",
        "      # inputs, targets = Variable(inputs, volatile=True), Variable(targets)\n",
        "      outputs = net(inputs)\n",
        "      loss = criterion(outputs, targets)\n",
        "\n",
        "      test_loss += loss.item()\n",
        "      _, predicted = torch.max(outputs.data, 1)\n",
        "      total += targets.size(0)\n",
        "      correct += predicted.eq(targets.data).cpu().sum()\n",
        "\n",
        "      if batch_idx % 200 == 0:\n",
        "        print(batch_idx, len(testloader), 'Loss: %.3f | Acc: %.3f%% (%d/%d)'\n",
        "            % (test_loss/(batch_idx+1), 100.*correct/total, correct, total))\n",
        "\n",
        "  # Save checkpoint.\n",
        "  acc = 100.*correct/total\n",
        "  if acc > best_acc:\n",
        "    best_acc = acc\n",
        "    checkpoint(acc, epoch)\n",
        "  return (test_loss/batch_idx, 100.*correct/total)"
      ],
      "metadata": {
        "id": "zmcXoxTNw9x3"
      },
      "execution_count": 27,
      "outputs": []
    },
    {
      "cell_type": "code",
      "source": [
        "# start training\n",
        "if not os.path.exists(logname):\n",
        "  with open(logname, 'w') as logfile:\n",
        "    logwriter = csv.writer(logfile, delimiter=',')\n",
        "    logwriter.writerow(['epoch', 'train loss', 'train acc',\n",
        "                        'test loss', 'test acc'])\n",
        "\n",
        "for epoch in range(start_epoch, end_apochs):\n",
        "  adjust_learning_rate(optimizer, epoch)\n",
        "  train_loss, train_acc = train(epoch, alpha, use_cuda=use_cuda)\n",
        "  test_loss, test_acc = test(epoch, use_cuda=use_cuda)\n",
        "  with open(logname, 'a') as logfile:\n",
        "    logwriter = csv.writer(logfile, delimiter=',')\n",
        "    logwriter.writerow([epoch, train_loss, train_acc.item(),\n",
        "                        test_loss, test_acc.item()])\n",
        "  print(f'Epoch: {epoch} | train acc: {train_acc} | test acc: {test_acc}')"
      ],
      "metadata": {
        "colab": {
          "base_uri": "https://localhost:8080/"
        },
        "id": "WjzhmZ7Nw90n",
        "outputId": "f56d8e27-4caa-49f1-acf2-32b62c1e0a65"
      },
      "execution_count": 28,
      "outputs": [
        {
          "output_type": "stream",
          "name": "stdout",
          "text": [
            "\n",
            "Epoch: 0\n",
            "0 391 Loss: 0.464 | Acc: 84.375% (108/128)\n",
            "0 79 Loss: 0.282 | Acc: 88.281% (113/128)\n",
            "Epoch: 0 | train acc: 85.9260025024414 | test acc: 87.76000213623047\n",
            "\n",
            "Epoch: 1\n",
            "0 391 Loss: 0.368 | Acc: 88.281% (113/128)\n",
            "0 79 Loss: 0.304 | Acc: 91.406% (117/128)\n",
            "Epoch: 1 | train acc: 87.0979995727539 | test acc: 87.93000030517578\n",
            "\n",
            "Epoch: 2\n",
            "0 391 Loss: 0.381 | Acc: 85.938% (110/128)\n",
            "0 79 Loss: 0.199 | Acc: 90.625% (116/128)\n",
            "Epoch: 2 | train acc: 87.78800201416016 | test acc: 88.11000061035156\n",
            "\n",
            "Epoch: 3\n",
            "0 391 Loss: 0.188 | Acc: 93.750% (120/128)\n",
            "0 79 Loss: 0.199 | Acc: 93.750% (120/128)\n",
            "Saving..\n",
            "Epoch: 3 | train acc: 88.03399658203125 | test acc: 88.9800033569336\n",
            "\n",
            "Epoch: 4\n",
            "0 391 Loss: 0.227 | Acc: 92.969% (119/128)\n",
            "0 79 Loss: 0.294 | Acc: 86.719% (111/128)\n",
            "Saving..\n",
            "Epoch: 4 | train acc: 88.4000015258789 | test acc: 89.02999877929688\n",
            "\n",
            "Epoch: 5\n",
            "0 391 Loss: 0.266 | Acc: 91.406% (117/128)\n",
            "0 79 Loss: 0.299 | Acc: 90.625% (116/128)\n",
            "Epoch: 5 | train acc: 88.63400268554688 | test acc: 88.22000122070312\n",
            "\n",
            "Epoch: 6\n",
            "0 391 Loss: 0.259 | Acc: 92.188% (118/128)\n",
            "0 79 Loss: 0.298 | Acc: 90.625% (116/128)\n",
            "Epoch: 6 | train acc: 88.97799682617188 | test acc: 87.9800033569336\n",
            "\n",
            "Epoch: 7\n",
            "0 391 Loss: 0.278 | Acc: 89.844% (115/128)\n",
            "0 79 Loss: 0.351 | Acc: 88.281% (113/128)\n",
            "Epoch: 7 | train acc: 89.0199966430664 | test acc: 88.13999938964844\n",
            "\n",
            "Epoch: 8\n",
            "0 391 Loss: 0.213 | Acc: 92.188% (118/128)\n",
            "0 79 Loss: 0.216 | Acc: 90.625% (116/128)\n",
            "Saving..\n",
            "Epoch: 8 | train acc: 89.2760009765625 | test acc: 89.77999877929688\n",
            "\n",
            "Epoch: 9\n",
            "0 391 Loss: 0.310 | Acc: 88.281% (113/128)\n",
            "0 79 Loss: 0.262 | Acc: 92.188% (118/128)\n",
            "Epoch: 9 | train acc: 89.37200164794922 | test acc: 88.5199966430664\n",
            "\n",
            "Epoch: 10\n",
            "0 391 Loss: 0.296 | Acc: 89.844% (115/128)\n",
            "0 79 Loss: 0.243 | Acc: 90.625% (116/128)\n",
            "Epoch: 10 | train acc: 89.7959976196289 | test acc: 89.26000213623047\n",
            "\n",
            "Epoch: 11\n",
            "0 391 Loss: 0.353 | Acc: 87.500% (112/128)\n",
            "0 79 Loss: 0.262 | Acc: 91.406% (117/128)\n",
            "Epoch: 11 | train acc: 90.0199966430664 | test acc: 89.68000030517578\n",
            "\n",
            "Epoch: 12\n",
            "0 391 Loss: 0.223 | Acc: 92.188% (118/128)\n",
            "0 79 Loss: 0.201 | Acc: 91.406% (117/128)\n",
            "Saving..\n",
            "Epoch: 12 | train acc: 90.13999938964844 | test acc: 90.1500015258789\n",
            "\n",
            "Epoch: 13\n",
            "0 391 Loss: 0.316 | Acc: 88.281% (113/128)\n",
            "0 79 Loss: 0.375 | Acc: 88.281% (113/128)\n",
            "Epoch: 13 | train acc: 90.3499984741211 | test acc: 88.44999694824219\n",
            "\n",
            "Epoch: 14\n",
            "0 391 Loss: 0.229 | Acc: 92.188% (118/128)\n",
            "0 79 Loss: 0.231 | Acc: 90.625% (116/128)\n",
            "Saving..\n",
            "Epoch: 14 | train acc: 90.4800033569336 | test acc: 90.26000213623047\n",
            "\n",
            "Epoch: 15\n",
            "0 391 Loss: 0.231 | Acc: 89.844% (115/128)\n",
            "0 79 Loss: 0.211 | Acc: 94.531% (121/128)\n",
            "Epoch: 15 | train acc: 90.38400268554688 | test acc: 88.9800033569336\n",
            "\n",
            "Epoch: 16\n",
            "0 391 Loss: 0.276 | Acc: 91.406% (117/128)\n",
            "0 79 Loss: 0.242 | Acc: 90.625% (116/128)\n",
            "Epoch: 16 | train acc: 90.51599884033203 | test acc: 89.58999633789062\n",
            "\n",
            "Epoch: 17\n",
            "0 391 Loss: 0.259 | Acc: 90.625% (116/128)\n",
            "0 79 Loss: 0.312 | Acc: 87.500% (112/128)\n",
            "Epoch: 17 | train acc: 90.9020004272461 | test acc: 88.79000091552734\n",
            "\n",
            "Epoch: 18\n",
            "0 391 Loss: 0.201 | Acc: 92.188% (118/128)\n",
            "0 79 Loss: 0.288 | Acc: 92.188% (118/128)\n",
            "Epoch: 18 | train acc: 90.8499984741211 | test acc: 90.25\n",
            "\n",
            "Epoch: 19\n",
            "0 391 Loss: 0.267 | Acc: 90.625% (116/128)\n",
            "0 79 Loss: 0.358 | Acc: 89.062% (114/128)\n",
            "Epoch: 19 | train acc: 90.79199981689453 | test acc: 90.05000305175781\n",
            "\n",
            "Epoch: 20\n",
            "0 391 Loss: 0.231 | Acc: 90.625% (116/128)\n",
            "0 79 Loss: 0.188 | Acc: 95.312% (122/128)\n",
            "Epoch: 20 | train acc: 90.947998046875 | test acc: 89.94000244140625\n",
            "\n",
            "Epoch: 21\n",
            "0 391 Loss: 0.292 | Acc: 89.062% (114/128)\n",
            "0 79 Loss: 0.262 | Acc: 90.625% (116/128)\n",
            "Saving..\n",
            "Epoch: 21 | train acc: 90.96399688720703 | test acc: 90.69999694824219\n",
            "\n",
            "Epoch: 22\n",
            "0 391 Loss: 0.304 | Acc: 90.625% (116/128)\n",
            "0 79 Loss: 0.270 | Acc: 91.406% (117/128)\n",
            "Epoch: 22 | train acc: 90.97000122070312 | test acc: 89.29000091552734\n",
            "\n",
            "Epoch: 23\n",
            "0 391 Loss: 0.236 | Acc: 92.188% (118/128)\n",
            "0 79 Loss: 0.167 | Acc: 93.750% (120/128)\n",
            "Saving..\n",
            "Epoch: 23 | train acc: 91.26599884033203 | test acc: 90.83000183105469\n",
            "\n",
            "Epoch: 24\n",
            "0 391 Loss: 0.232 | Acc: 90.625% (116/128)\n",
            "0 79 Loss: 0.271 | Acc: 91.406% (117/128)\n",
            "Epoch: 24 | train acc: 91.49400329589844 | test acc: 89.44000244140625\n"
          ]
        }
      ]
    },
    {
      "cell_type": "code",
      "source": [
        "# plot results\n",
        "results = pd.read_csv('/content/results/ResNet_.csv', sep=',')\n",
        "results.head(10)"
      ],
      "metadata": {
        "colab": {
          "base_uri": "https://localhost:8080/",
          "height": 363
        },
        "id": "NViu8oryw93d",
        "outputId": "493e892a-9ebb-451a-de4c-d5250c76e676"
      },
      "execution_count": 29,
      "outputs": [
        {
          "output_type": "execute_result",
          "data": {
            "text/plain": [
              "   epoch  train loss  train acc  test loss   test acc\n",
              "0      0    1.855285  33.256001   1.534558  44.959999\n",
              "1      1    1.365636  50.382000   1.232484  56.230000\n",
              "2      2    1.078431  61.473999   1.149040  60.509998\n",
              "3      3    0.901467  68.113998   0.849608  70.790001\n",
              "4      4    0.779526  72.356003   0.850589  70.440002\n",
              "5      5    0.685593  76.056000   0.638307  77.980003\n",
              "6      6    0.596779  79.181999   0.626024  78.610001\n",
              "7      7    0.530655  81.699997   0.551536  81.110001\n",
              "8      8    0.479776  83.304001   0.584081  80.180000\n",
              "9      9    0.441911  84.683998   0.544439  81.730003"
            ],
            "text/html": [
              "\n",
              "  <div id=\"df-832292ec-d042-4807-8875-b79237b6a901\">\n",
              "    <div class=\"colab-df-container\">\n",
              "      <div>\n",
              "<style scoped>\n",
              "    .dataframe tbody tr th:only-of-type {\n",
              "        vertical-align: middle;\n",
              "    }\n",
              "\n",
              "    .dataframe tbody tr th {\n",
              "        vertical-align: top;\n",
              "    }\n",
              "\n",
              "    .dataframe thead th {\n",
              "        text-align: right;\n",
              "    }\n",
              "</style>\n",
              "<table border=\"1\" class=\"dataframe\">\n",
              "  <thead>\n",
              "    <tr style=\"text-align: right;\">\n",
              "      <th></th>\n",
              "      <th>epoch</th>\n",
              "      <th>train loss</th>\n",
              "      <th>train acc</th>\n",
              "      <th>test loss</th>\n",
              "      <th>test acc</th>\n",
              "    </tr>\n",
              "  </thead>\n",
              "  <tbody>\n",
              "    <tr>\n",
              "      <th>0</th>\n",
              "      <td>0</td>\n",
              "      <td>1.855285</td>\n",
              "      <td>33.256001</td>\n",
              "      <td>1.534558</td>\n",
              "      <td>44.959999</td>\n",
              "    </tr>\n",
              "    <tr>\n",
              "      <th>1</th>\n",
              "      <td>1</td>\n",
              "      <td>1.365636</td>\n",
              "      <td>50.382000</td>\n",
              "      <td>1.232484</td>\n",
              "      <td>56.230000</td>\n",
              "    </tr>\n",
              "    <tr>\n",
              "      <th>2</th>\n",
              "      <td>2</td>\n",
              "      <td>1.078431</td>\n",
              "      <td>61.473999</td>\n",
              "      <td>1.149040</td>\n",
              "      <td>60.509998</td>\n",
              "    </tr>\n",
              "    <tr>\n",
              "      <th>3</th>\n",
              "      <td>3</td>\n",
              "      <td>0.901467</td>\n",
              "      <td>68.113998</td>\n",
              "      <td>0.849608</td>\n",
              "      <td>70.790001</td>\n",
              "    </tr>\n",
              "    <tr>\n",
              "      <th>4</th>\n",
              "      <td>4</td>\n",
              "      <td>0.779526</td>\n",
              "      <td>72.356003</td>\n",
              "      <td>0.850589</td>\n",
              "      <td>70.440002</td>\n",
              "    </tr>\n",
              "    <tr>\n",
              "      <th>5</th>\n",
              "      <td>5</td>\n",
              "      <td>0.685593</td>\n",
              "      <td>76.056000</td>\n",
              "      <td>0.638307</td>\n",
              "      <td>77.980003</td>\n",
              "    </tr>\n",
              "    <tr>\n",
              "      <th>6</th>\n",
              "      <td>6</td>\n",
              "      <td>0.596779</td>\n",
              "      <td>79.181999</td>\n",
              "      <td>0.626024</td>\n",
              "      <td>78.610001</td>\n",
              "    </tr>\n",
              "    <tr>\n",
              "      <th>7</th>\n",
              "      <td>7</td>\n",
              "      <td>0.530655</td>\n",
              "      <td>81.699997</td>\n",
              "      <td>0.551536</td>\n",
              "      <td>81.110001</td>\n",
              "    </tr>\n",
              "    <tr>\n",
              "      <th>8</th>\n",
              "      <td>8</td>\n",
              "      <td>0.479776</td>\n",
              "      <td>83.304001</td>\n",
              "      <td>0.584081</td>\n",
              "      <td>80.180000</td>\n",
              "    </tr>\n",
              "    <tr>\n",
              "      <th>9</th>\n",
              "      <td>9</td>\n",
              "      <td>0.441911</td>\n",
              "      <td>84.683998</td>\n",
              "      <td>0.544439</td>\n",
              "      <td>81.730003</td>\n",
              "    </tr>\n",
              "  </tbody>\n",
              "</table>\n",
              "</div>\n",
              "      <button class=\"colab-df-convert\" onclick=\"convertToInteractive('df-832292ec-d042-4807-8875-b79237b6a901')\"\n",
              "              title=\"Convert this dataframe to an interactive table.\"\n",
              "              style=\"display:none;\">\n",
              "        \n",
              "  <svg xmlns=\"http://www.w3.org/2000/svg\" height=\"24px\"viewBox=\"0 0 24 24\"\n",
              "       width=\"24px\">\n",
              "    <path d=\"M0 0h24v24H0V0z\" fill=\"none\"/>\n",
              "    <path d=\"M18.56 5.44l.94 2.06.94-2.06 2.06-.94-2.06-.94-.94-2.06-.94 2.06-2.06.94zm-11 1L8.5 8.5l.94-2.06 2.06-.94-2.06-.94L8.5 2.5l-.94 2.06-2.06.94zm10 10l.94 2.06.94-2.06 2.06-.94-2.06-.94-.94-2.06-.94 2.06-2.06.94z\"/><path d=\"M17.41 7.96l-1.37-1.37c-.4-.4-.92-.59-1.43-.59-.52 0-1.04.2-1.43.59L10.3 9.45l-7.72 7.72c-.78.78-.78 2.05 0 2.83L4 21.41c.39.39.9.59 1.41.59.51 0 1.02-.2 1.41-.59l7.78-7.78 2.81-2.81c.8-.78.8-2.07 0-2.86zM5.41 20L4 18.59l7.72-7.72 1.47 1.35L5.41 20z\"/>\n",
              "  </svg>\n",
              "      </button>\n",
              "      \n",
              "  <style>\n",
              "    .colab-df-container {\n",
              "      display:flex;\n",
              "      flex-wrap:wrap;\n",
              "      gap: 12px;\n",
              "    }\n",
              "\n",
              "    .colab-df-convert {\n",
              "      background-color: #E8F0FE;\n",
              "      border: none;\n",
              "      border-radius: 50%;\n",
              "      cursor: pointer;\n",
              "      display: none;\n",
              "      fill: #1967D2;\n",
              "      height: 32px;\n",
              "      padding: 0 0 0 0;\n",
              "      width: 32px;\n",
              "    }\n",
              "\n",
              "    .colab-df-convert:hover {\n",
              "      background-color: #E2EBFA;\n",
              "      box-shadow: 0px 1px 2px rgba(60, 64, 67, 0.3), 0px 1px 3px 1px rgba(60, 64, 67, 0.15);\n",
              "      fill: #174EA6;\n",
              "    }\n",
              "\n",
              "    [theme=dark] .colab-df-convert {\n",
              "      background-color: #3B4455;\n",
              "      fill: #D2E3FC;\n",
              "    }\n",
              "\n",
              "    [theme=dark] .colab-df-convert:hover {\n",
              "      background-color: #434B5C;\n",
              "      box-shadow: 0px 1px 3px 1px rgba(0, 0, 0, 0.15);\n",
              "      filter: drop-shadow(0px 1px 2px rgba(0, 0, 0, 0.3));\n",
              "      fill: #FFFFFF;\n",
              "    }\n",
              "  </style>\n",
              "\n",
              "      <script>\n",
              "        const buttonEl =\n",
              "          document.querySelector('#df-832292ec-d042-4807-8875-b79237b6a901 button.colab-df-convert');\n",
              "        buttonEl.style.display =\n",
              "          google.colab.kernel.accessAllowed ? 'block' : 'none';\n",
              "\n",
              "        async function convertToInteractive(key) {\n",
              "          const element = document.querySelector('#df-832292ec-d042-4807-8875-b79237b6a901');\n",
              "          const dataTable =\n",
              "            await google.colab.kernel.invokeFunction('convertToInteractive',\n",
              "                                                     [key], {});\n",
              "          if (!dataTable) return;\n",
              "\n",
              "          const docLinkHtml = 'Like what you see? Visit the ' +\n",
              "            '<a target=\"_blank\" href=https://colab.research.google.com/notebooks/data_table.ipynb>data table notebook</a>'\n",
              "            + ' to learn more about interactive tables.';\n",
              "          element.innerHTML = '';\n",
              "          dataTable['output_type'] = 'display_data';\n",
              "          await google.colab.output.renderOutput(dataTable, element);\n",
              "          const docLink = document.createElement('div');\n",
              "          docLink.innerHTML = docLinkHtml;\n",
              "          element.appendChild(docLink);\n",
              "        }\n",
              "      </script>\n",
              "    </div>\n",
              "  </div>\n",
              "  "
            ]
          },
          "metadata": {},
          "execution_count": 29
        }
      ]
    },
    {
      "cell_type": "code",
      "source": [
        "train_accuracy = results['train acc'].values\n",
        "test_accuracy = results['test acc'].values\n",
        "\n",
        "print(f\"Average test Accuracy over {end_apochs} epochs: {sum(test_accuracy)//len(test_accuracy)}\")\n",
        "print(f\"best test accuraccy over {end_apochs} epochs: {max(test_accuracy)}\")"
      ],
      "metadata": {
        "colab": {
          "base_uri": "https://localhost:8080/"
        },
        "id": "GEsak_wuw96M",
        "outputId": "abbc4195-622d-462d-8ad0-b3d98397aa2a"
      },
      "execution_count": 30,
      "outputs": [
        {
          "output_type": "stream",
          "name": "stdout",
          "text": [
            "Average test Accuracy over 25 epochs: 84.0\n",
            "best test accuraccy over 25 epochs: 90.83000183105467\n"
          ]
        }
      ]
    },
    {
      "cell_type": "code",
      "source": [
        "figureName = 'WithCutout' # change figure name\n",
        "\n",
        "plt.figure(figsize=(9, 6))\n",
        "plt.plot(results['epoch'].values, train_accuracy, label='train')\n",
        "plt.plot(results['epoch'].values, test_accuracy, label='test')\n",
        "plt.xlabel('Number of epochs')\n",
        "plt.ylabel('Accuracy')\n",
        "plt.title(f'Train/Test Accuracy curve for {end_apochs} epochs')\n",
        "plt.savefig(f'/content/results/{figureName}.png')\n",
        "plt.legend()\n",
        "plt.show()"
      ],
      "metadata": {
        "colab": {
          "base_uri": "https://localhost:8080/",
          "height": 404
        },
        "id": "TKwR5FiMyDb4",
        "outputId": "082b1696-430d-4803-8a1d-24feed0a52f1"
      },
      "execution_count": 31,
      "outputs": [
        {
          "output_type": "display_data",
          "data": {
            "text/plain": [
              "<Figure size 648x432 with 1 Axes>"
            ],
            "image/png": "[encoded data removed]"
          },
          "metadata": {
            "needs_background": "light"
          }
        }
      ]
    },
    {
      "cell_type": "code",
      "source": [],
      "metadata": {
        "id": "MyAwM5lOyDeh"
      },
      "execution_count": null,
      "outputs": []
    },
    {
      "cell_type": "code",
      "source": [],
      "metadata": {
        "id": "qn6y8BY3yDhH"
      },
      "execution_count": null,
      "outputs": []
    },
    {
      "cell_type": "code",
      "source": [],
      "metadata": {
        "id": "Tjy-BkKTyDj2"
      },
      "execution_count": null,
      "outputs": []
    },
    {
      "cell_type": "code",
      "source": [],
      "metadata": {
        "id": "IVIjKG08yDml"
      },
      "execution_count": null,
      "outputs": []
    },
    {
      "cell_type": "code",
      "source": [],
      "metadata": {
        "id": "Od7LnWk4yDpN"
      },
      "execution_count": null,
      "outputs": []
    },
    {
      "cell_type": "code",
      "source": [],
      "metadata": {
        "id": "UQP7NolGyDsC"
      },
      "execution_count": null,
      "outputs": []
    },
    {
      "cell_type": "code",
      "source": [],
      "metadata": {
        "id": "WBKrRwPZwcO_"
      },
      "execution_count": null,
      "outputs": []
    },
    {
      "cell_type": "code",
      "source": [],
      "metadata": {
        "id": "3dmYSU7Qw5Xq"
      },
      "execution_count": null,
      "outputs": []
    },
    {
      "cell_type": "code",
      "source": [],
      "metadata": {
        "id": "xWb6epyfyRx1"
      },
      "execution_count": null,
      "outputs": []
    },
    {
      "cell_type": "markdown",
      "source": [
        "#Adversial Attack"
      ],
      "metadata": {
        "id": "dUn8npbfLr1q"
      }
    },
    {
      "cell_type": "code",
      "source": [
        "import tqdm\n",
        "!pip install adversarial-robustness-toolbox"
      ],
      "metadata": {
        "id": "sv0OzUlOw5ae",
        "colab": {
          "base_uri": "https://localhost:8080/"
        },
        "outputId": "93199a30-3ce2-4e4c-ccdf-cdca56119385"
      },
      "execution_count": 32,
      "outputs": [
        {
          "output_type": "stream",
          "name": "stdout",
          "text": [
            "Looking in indexes: https://pypi.org/simple, https://us-python.pkg.dev/colab-wheels/public/simple/\n",
            "Collecting adversarial-robustness-toolbox\n",
            "  Downloading adversarial_robustness_toolbox-1.13.0-py3-none-any.whl (1.4 MB)\n",
            "\u001b[K     |████████████████████████████████| 1.4 MB 32.1 MB/s \n",
            "\u001b[?25hRequirement already satisfied: scikit-learn<1.2.0,>=0.22.2 in /usr/local/lib/python3.8/dist-packages (from adversarial-robustness-toolbox) (1.0.2)\n",
            "Requirement already satisfied: numpy>=1.18.0 in /usr/local/lib/python3.8/dist-packages (from adversarial-robustness-toolbox) (1.21.6)\n",
            "Requirement already satisfied: six in /usr/local/lib/python3.8/dist-packages (from adversarial-robustness-toolbox) (1.15.0)\n",
            "Requirement already satisfied: tqdm in /usr/local/lib/python3.8/dist-packages (from adversarial-robustness-toolbox) (4.64.1)\n",
            "Requirement already satisfied: setuptools in /usr/local/lib/python3.8/dist-packages (from adversarial-robustness-toolbox) (57.4.0)\n",
            "Requirement already satisfied: scipy>=1.4.1 in /usr/local/lib/python3.8/dist-packages (from adversarial-robustness-toolbox) (1.7.3)\n",
            "Requirement already satisfied: joblib>=0.11 in /usr/local/lib/python3.8/dist-packages (from scikit-learn<1.2.0,>=0.22.2->adversarial-robustness-toolbox) (1.2.0)\n",
            "Requirement already satisfied: threadpoolctl>=2.0.0 in /usr/local/lib/python3.8/dist-packages (from scikit-learn<1.2.0,>=0.22.2->adversarial-robustness-toolbox) (3.1.0)\n",
            "Installing collected packages: adversarial-robustness-toolbox\n",
            "Successfully installed adversarial-robustness-toolbox-1.13.0\n"
          ]
        }
      ]
    },
    {
      "cell_type": "code",
      "source": [
        "from art.estimators.classification import PyTorchClassifier\n",
        "from skimage.metrics import structural_similarity as ssim\n",
        "\n",
        "from art.attacks.evasion import ProjectedGradientDescent\n",
        "from art.attacks.evasion import FastGradientMethod"
      ],
      "metadata": {
        "id": "5GQTZxmuw9nS"
      },
      "execution_count": 33,
      "outputs": []
    },
    {
      "cell_type": "code",
      "source": [
        "def softmax_activation(inputs): \n",
        "    inputs = inputs.tolist()\n",
        "    exp_values = np.exp(inputs - np.max(inputs)) \n",
        "    \n",
        "    # Normalize \n",
        "    probabilities = exp_values / np.sum(exp_values)\n",
        "    return probabilities "
      ],
      "metadata": {
        "id": "alN7__TixCN-"
      },
      "execution_count": 34,
      "outputs": []
    },
    {
      "cell_type": "code",
      "source": [
        "def compare_images(imageA, imageB):\n",
        "    return 1 - ssim(imageA, imageB, multichannel=True) "
      ],
      "metadata": {
        "id": "MujZNJ0KxCqk"
      },
      "execution_count": 35,
      "outputs": []
    },
    {
      "cell_type": "code",
      "source": [
        "def get_default_device():\n",
        "    \"\"\"Pick GPU if available, else CPU\"\"\"\n",
        "    if torch.cuda.is_available():\n",
        "        return torch.device('cuda')\n",
        "    else:\n",
        "        return torch.device('cpu')\n",
        "    \n",
        "def to_device(data, device):\n",
        "    \"\"\"Move tensor(s) to chosen device\"\"\"\n",
        "    if isinstance(data, (list,tuple)):\n",
        "        return [to_device(x, device) for x in data]\n",
        "    return data.to(device, non_blocking=True)\n",
        "\n",
        "class DeviceDataLoader():\n",
        "    \"\"\"Wrap a dataloader to move data to a device\"\"\"\n",
        "    def __init__(self, dl, device):\n",
        "        self.dl = dl\n",
        "        self.device = device\n",
        "        \n",
        "    def __iter__(self):\n",
        "        \"\"\"Yield a batch of data after moving it to device\"\"\"\n",
        "        for b in self.dl: \n",
        "            yield to_device(b, self.device)\n",
        "\n",
        "    def __len__(self):\n",
        "        \"\"\"Number of batches\"\"\"\n",
        "        return len(self.dl)"
      ],
      "metadata": {
        "id": "zX91NG8XyLhm"
      },
      "execution_count": 36,
      "outputs": []
    },
    {
      "cell_type": "code",
      "source": [
        "device = get_default_device()\n",
        "device"
      ],
      "metadata": {
        "id": "2gF622Oqx6bJ",
        "colab": {
          "base_uri": "https://localhost:8080/"
        },
        "outputId": "1a9a2faa-fa9b-42a8-cceb-f133ef519307"
      },
      "execution_count": 37,
      "outputs": [
        {
          "output_type": "execute_result",
          "data": {
            "text/plain": [
              "device(type='cuda')"
            ]
          },
          "metadata": {},
          "execution_count": 37
        }
      ]
    },
    {
      "cell_type": "code",
      "source": [
        "model = net\n",
        "model.to(device)"
      ],
      "metadata": {
        "id": "oP-IyGcVxEsr",
        "colab": {
          "base_uri": "https://localhost:8080/"
        },
        "outputId": "e5950a45-8f57-41fd-bab2-e98cf4987181"
      },
      "execution_count": 38,
      "outputs": [
        {
          "output_type": "execute_result",
          "data": {
            "text/plain": [
              "DataParallel(\n",
              "  (module): ResNet(\n",
              "    (conv1): Conv2d(3, 64, kernel_size=(3, 3), stride=(1, 1), padding=(1, 1), bias=False)\n",
              "    (bn1): BatchNorm2d(64, eps=1e-05, momentum=0.1, affine=True, track_running_stats=True)\n",
              "    (layer1): Sequential(\n",
              "      (0): BasicBlock(\n",
              "        (conv1): Conv2d(64, 64, kernel_size=(3, 3), stride=(1, 1), padding=(1, 1), bias=False)\n",
              "        (bn1): BatchNorm2d(64, eps=1e-05, momentum=0.1, affine=True, track_running_stats=True)\n",
              "        (conv2): Conv2d(64, 64, kernel_size=(3, 3), stride=(1, 1), padding=(1, 1), bias=False)\n",
              "        (bn2): BatchNorm2d(64, eps=1e-05, momentum=0.1, affine=True, track_running_stats=True)\n",
              "        (shortcut): Sequential()\n",
              "      )\n",
              "      (1): BasicBlock(\n",
              "        (conv1): Conv2d(64, 64, kernel_size=(3, 3), stride=(1, 1), padding=(1, 1), bias=False)\n",
              "        (bn1): BatchNorm2d(64, eps=1e-05, momentum=0.1, affine=True, track_running_stats=True)\n",
              "        (conv2): Conv2d(64, 64, kernel_size=(3, 3), stride=(1, 1), padding=(1, 1), bias=False)\n",
              "        (bn2): BatchNorm2d(64, eps=1e-05, momentum=0.1, affine=True, track_running_stats=True)\n",
              "        (shortcut): Sequential()\n",
              "      )\n",
              "    )\n",
              "    (layer2): Sequential(\n",
              "      (0): BasicBlock(\n",
              "        (conv1): Conv2d(64, 128, kernel_size=(3, 3), stride=(2, 2), padding=(1, 1), bias=False)\n",
              "        (bn1): BatchNorm2d(128, eps=1e-05, momentum=0.1, affine=True, track_running_stats=True)\n",
              "        (conv2): Conv2d(128, 128, kernel_size=(3, 3), stride=(1, 1), padding=(1, 1), bias=False)\n",
              "        (bn2): BatchNorm2d(128, eps=1e-05, momentum=0.1, affine=True, track_running_stats=True)\n",
              "        (shortcut): Sequential(\n",
              "          (0): Conv2d(64, 128, kernel_size=(1, 1), stride=(2, 2), bias=False)\n",
              "          (1): BatchNorm2d(128, eps=1e-05, momentum=0.1, affine=True, track_running_stats=True)\n",
              "        )\n",
              "      )\n",
              "      (1): BasicBlock(\n",
              "        (conv1): Conv2d(128, 128, kernel_size=(3, 3), stride=(1, 1), padding=(1, 1), bias=False)\n",
              "        (bn1): BatchNorm2d(128, eps=1e-05, momentum=0.1, affine=True, track_running_stats=True)\n",
              "        (conv2): Conv2d(128, 128, kernel_size=(3, 3), stride=(1, 1), padding=(1, 1), bias=False)\n",
              "        (bn2): BatchNorm2d(128, eps=1e-05, momentum=0.1, affine=True, track_running_stats=True)\n",
              "        (shortcut): Sequential()\n",
              "      )\n",
              "    )\n",
              "    (layer3): Sequential(\n",
              "      (0): BasicBlock(\n",
              "        (conv1): Conv2d(128, 256, kernel_size=(3, 3), stride=(2, 2), padding=(1, 1), bias=False)\n",
              "        (bn1): BatchNorm2d(256, eps=1e-05, momentum=0.1, affine=True, track_running_stats=True)\n",
              "        (conv2): Conv2d(256, 256, kernel_size=(3, 3), stride=(1, 1), padding=(1, 1), bias=False)\n",
              "        (bn2): BatchNorm2d(256, eps=1e-05, momentum=0.1, affine=True, track_running_stats=True)\n",
              "        (shortcut): Sequential(\n",
              "          (0): Conv2d(128, 256, kernel_size=(1, 1), stride=(2, 2), bias=False)\n",
              "          (1): BatchNorm2d(256, eps=1e-05, momentum=0.1, affine=True, track_running_stats=True)\n",
              "        )\n",
              "      )\n",
              "      (1): BasicBlock(\n",
              "        (conv1): Conv2d(256, 256, kernel_size=(3, 3), stride=(1, 1), padding=(1, 1), bias=False)\n",
              "        (bn1): BatchNorm2d(256, eps=1e-05, momentum=0.1, affine=True, track_running_stats=True)\n",
              "        (conv2): Conv2d(256, 256, kernel_size=(3, 3), stride=(1, 1), padding=(1, 1), bias=False)\n",
              "        (bn2): BatchNorm2d(256, eps=1e-05, momentum=0.1, affine=True, track_running_stats=True)\n",
              "        (shortcut): Sequential()\n",
              "      )\n",
              "    )\n",
              "    (layer4): Sequential(\n",
              "      (0): BasicBlock(\n",
              "        (conv1): Conv2d(256, 512, kernel_size=(3, 3), stride=(2, 2), padding=(1, 1), bias=False)\n",
              "        (bn1): BatchNorm2d(512, eps=1e-05, momentum=0.1, affine=True, track_running_stats=True)\n",
              "        (conv2): Conv2d(512, 512, kernel_size=(3, 3), stride=(1, 1), padding=(1, 1), bias=False)\n",
              "        (bn2): BatchNorm2d(512, eps=1e-05, momentum=0.1, affine=True, track_running_stats=True)\n",
              "        (shortcut): Sequential(\n",
              "          (0): Conv2d(256, 512, kernel_size=(1, 1), stride=(2, 2), bias=False)\n",
              "          (1): BatchNorm2d(512, eps=1e-05, momentum=0.1, affine=True, track_running_stats=True)\n",
              "        )\n",
              "      )\n",
              "      (1): BasicBlock(\n",
              "        (conv1): Conv2d(512, 512, kernel_size=(3, 3), stride=(1, 1), padding=(1, 1), bias=False)\n",
              "        (bn1): BatchNorm2d(512, eps=1e-05, momentum=0.1, affine=True, track_running_stats=True)\n",
              "        (conv2): Conv2d(512, 512, kernel_size=(3, 3), stride=(1, 1), padding=(1, 1), bias=False)\n",
              "        (bn2): BatchNorm2d(512, eps=1e-05, momentum=0.1, affine=True, track_running_stats=True)\n",
              "        (shortcut): Sequential()\n",
              "      )\n",
              "    )\n",
              "    (linear): Linear(in_features=512, out_features=10, bias=True)\n",
              "  )\n",
              ")"
            ]
          },
          "metadata": {},
          "execution_count": 38
        }
      ]
    },
    {
      "cell_type": "code",
      "source": [
        "criterion = nn.CrossEntropyLoss()\n",
        "\n",
        "classifier = PyTorchClassifier(\n",
        "    model=model,\n",
        "    loss=criterion,\n",
        "    input_shape=(3, 32, 32),\n",
        "    nb_classes=10,\n",
        "    device_type='gpu'\n",
        ")"
      ],
      "metadata": {
        "id": "EQkMTv-qxLCU"
      },
      "execution_count": 39,
      "outputs": []
    },
    {
      "cell_type": "code",
      "source": [
        "from tqdm import tqdm\n",
        "import torchvision.transforms as transforms\n",
        "transform = transforms.Compose([transforms.ToTensor(),\n",
        "                                transforms.Normalize((0.4914, 0.4822, 0.4465), (0.2023, 0.1994, 0.2010))])\n",
        "validset = torchvision.datasets.CIFAR10(root='../input/cifar10-python/', train=False,\n",
        "                                       download=True, transform=transform)\n",
        "valid_loader = torch.utils.data.DataLoader(validset, batch_size=16,\n",
        "                                         shuffle=True, num_workers=2)"
      ],
      "metadata": {
        "id": "pC0R4Yt7ybtq",
        "colab": {
          "base_uri": "https://localhost:8080/",
          "height": 85,
          "referenced_widgets": [
            "8f2acec426c64201a1a3c7a09c40017c",
            "7a85d73394654b09a377c7b38f43537c",
            "31642830db2443348b10c52aa3381806",
            "651dd77af7a84166a942874567f65f81",
            "273606ea851a415d8775459fbbd62417",
            "e7f3103ddfdd4eaba6dfbef21a5c4fbe",
            "4ac47bbd820d415fbbb25bcb41a786bc",
            "6408eda30692405baef2ada164281a23",
            "5439213a328e402a8ed90aa85f983aac",
            "b1c70ac245d94eb39f5cd47b1a965f2f",
            "c8ccd5f0e4094c70b82b7aab6c030157"
          ]
        },
        "outputId": "d67ac50e-3a02-45a5-fdd7-9d7bffd8d725"
      },
      "execution_count": 40,
      "outputs": [
        {
          "output_type": "stream",
          "name": "stdout",
          "text": [
            "Downloading https://www.cs.toronto.edu/~kriz/cifar-10-python.tar.gz to ../input/cifar10-python/cifar-10-python.tar.gz\n"
          ]
        },
        {
          "output_type": "display_data",
          "data": {
            "text/plain": [
              "  0%|          | 0/170498071 [00:00<?, ?it/s]"
            ],
            "application/vnd.jupyter.widget-view+json": {
              "version_major": 2,
              "version_minor": 0,
              "model_id": "8f2acec426c64201a1a3c7a09c40017c"
            }
          },
          "metadata": {}
        },
        {
          "output_type": "stream",
          "name": "stdout",
          "text": [
            "Extracting ../input/cifar10-python/cifar-10-python.tar.gz to ../input/cifar10-python/\n"
          ]
        }
      ]
    },
    {
      "cell_type": "code",
      "source": [
        "eps = [0.001, 0.005, 0.01, 0.02, 0.03, 0.05, 0.1, 0.15, 0.20]\n",
        "for e in eps:\n",
        "  fgsm_attack = FastGradientMethod(estimator = classifier, eps = e)\n",
        "  preds = []\n",
        "  ans = []\n",
        "  for batch in tqdm(valid_loader):\n",
        "    imgs = batch[0]\n",
        "    #     plt.imshow(imgs[0].permute(1,2,0))\n",
        "    x_adv = fgsm_attack.generate(x=imgs.numpy())\n",
        "    #     plt.imshow(x_adv[0].transpose(1,2,0))\n",
        "    imgs_adv = torch.from_numpy(x_adv).to(device)\n",
        "    with torch.no_grad():\n",
        "      logits = model(imgs_adv)\n",
        "      #         print(nn.Softmax(dim=1)(logits))\n",
        "      #         break\n",
        "      logits = logits.argmax(dim=-1).cpu().tolist()\n",
        "      preds += logits\n",
        "      ans += batch[1]\n",
        "  cnt = 0\n",
        "  for pred, an in zip(preds, ans):\n",
        "      if pred == an:\n",
        "          cnt += 1\n",
        "  acc = cnt / len(preds)\n",
        "  print(f'ACC for eps = {e} is: {acc}')"
      ],
      "metadata": {
        "id": "w3mk0nETy2oj",
        "colab": {
          "base_uri": "https://localhost:8080/"
        },
        "outputId": "3a089a87-25ad-4e6d-83c5-87f2ce659d67"
      },
      "execution_count": 41,
      "outputs": [
        {
          "output_type": "stream",
          "name": "stderr",
          "text": [
            "100%|██████████| 625/625 [00:25<00:00, 24.42it/s]\n"
          ]
        },
        {
          "output_type": "stream",
          "name": "stdout",
          "text": [
            "ACC for eps = 0.001 is: 0.8927\n"
          ]
        },
        {
          "output_type": "stream",
          "name": "stderr",
          "text": [
            "100%|██████████| 625/625 [00:23<00:00, 26.16it/s]\n"
          ]
        },
        {
          "output_type": "stream",
          "name": "stdout",
          "text": [
            "ACC for eps = 0.005 is: 0.8643\n"
          ]
        },
        {
          "output_type": "stream",
          "name": "stderr",
          "text": [
            "100%|██████████| 625/625 [00:24<00:00, 25.00it/s]\n"
          ]
        },
        {
          "output_type": "stream",
          "name": "stdout",
          "text": [
            "ACC for eps = 0.01 is: 0.8093\n"
          ]
        },
        {
          "output_type": "stream",
          "name": "stderr",
          "text": [
            "100%|██████████| 625/625 [00:24<00:00, 25.92it/s]\n"
          ]
        },
        {
          "output_type": "stream",
          "name": "stdout",
          "text": [
            "ACC for eps = 0.02 is: 0.6418\n"
          ]
        },
        {
          "output_type": "stream",
          "name": "stderr",
          "text": [
            "100%|██████████| 625/625 [00:23<00:00, 26.15it/s]\n"
          ]
        },
        {
          "output_type": "stream",
          "name": "stdout",
          "text": [
            "ACC for eps = 0.03 is: 0.5032\n"
          ]
        },
        {
          "output_type": "stream",
          "name": "stderr",
          "text": [
            "100%|██████████| 625/625 [00:23<00:00, 26.26it/s]\n"
          ]
        },
        {
          "output_type": "stream",
          "name": "stdout",
          "text": [
            "ACC for eps = 0.05 is: 0.3126\n"
          ]
        },
        {
          "output_type": "stream",
          "name": "stderr",
          "text": [
            "100%|██████████| 625/625 [00:23<00:00, 26.22it/s]\n"
          ]
        },
        {
          "output_type": "stream",
          "name": "stdout",
          "text": [
            "ACC for eps = 0.1 is: 0.1557\n"
          ]
        },
        {
          "output_type": "stream",
          "name": "stderr",
          "text": [
            "100%|██████████| 625/625 [00:23<00:00, 26.25it/s]\n"
          ]
        },
        {
          "output_type": "stream",
          "name": "stdout",
          "text": [
            "ACC for eps = 0.15 is: 0.1241\n"
          ]
        },
        {
          "output_type": "stream",
          "name": "stderr",
          "text": [
            "100%|██████████| 625/625 [00:23<00:00, 26.28it/s]\n"
          ]
        },
        {
          "output_type": "stream",
          "name": "stdout",
          "text": [
            "ACC for eps = 0.2 is: 0.1147\n"
          ]
        }
      ]
    },
    {
      "cell_type": "code",
      "source": [],
      "metadata": {
        "id": "TLSfUwHJLwt1"
      },
      "execution_count": null,
      "outputs": []
    },
    {
      "cell_type": "code",
      "source": [],
      "metadata": {
        "id": "lrrnlkwsLwwv"
      },
      "execution_count": null,
      "outputs": []
    },
    {
      "cell_type": "code",
      "source": [],
      "metadata": {
        "id": "GNtfCiv2Lwzm"
      },
      "execution_count": null,
      "outputs": []
    },
    {
      "cell_type": "code",
      "source": [],
      "metadata": {
        "id": "Jr1InOCALw2Y"
      },
      "execution_count": null,
      "outputs": []
    },
    {
      "cell_type": "code",
      "source": [],
      "metadata": {
        "id": "gHksgGJRLw5M"
      },
      "execution_count": null,
      "outputs": []
    },
    {
      "cell_type": "code",
      "source": [],
      "metadata": {
        "id": "9r3TOnkVLw70"
      },
      "execution_count": null,
      "outputs": []
    }
  ],
  "metadata": {
    "accelerator": "GPU",
    "colab": {
      "machine_shape": "hm",
      "provenance": [],
      "include_colab_link": true
    },
    "kernel": {
      "display_name": "Python 3",
      "language": "python",
      "name": "python3"
    },
    "kernelspec": {
      "display_name": "Python 3",
      "name": "python3"
    },
    "language_info": {
      "name": "python"
    },
    "gpuClass": "standard",
    "widgets": {
      "application/vnd.jupyter.widget-state+json": {
        "9ff3e35ac852438f9b719011aa500aba": {
          "model_module": "@jupyter-widgets/controls",
          "model_name": "HBoxModel",
          "model_module_version": "1.5.0",
          "state": {
            "_dom_classes": [],
            "_model_module": "@jupyter-widgets/controls",
            "_model_module_version": "1.5.0",
            "_model_name": "HBoxModel",
            "_view_count": null,
            "_view_module": "@jupyter-widgets/controls",
            "_view_module_version": "1.5.0",
            "_view_name": "HBoxView",
            "box_style": "",
            "children": [
              "IPY_MODEL_81658d3d3dbd4954ad6115ba74e13fb1",
              "IPY_MODEL_82a86317ce7a49ef9b269b395ff275c7",
              "IPY_MODEL_1c80528b6c0e43e58b250b2d6fed8ffa"
            ],
            "layout": "IPY_MODEL_7651db91de6442a3952df9abd8fd74a4"
          }
        },
        "81658d3d3dbd4954ad6115ba74e13fb1": {
          "model_module": "@jupyter-widgets/controls",
          "model_name": "HTMLModel",
          "model_module_version": "1.5.0",
          "state": {
            "_dom_classes": [],
            "_model_module": "@jupyter-widgets/controls",
            "_model_module_version": "1.5.0",
            "_model_name": "HTMLModel",
            "_view_count": null,
            "_view_module": "@jupyter-widgets/controls",
            "_view_module_version": "1.5.0",
            "_view_name": "HTMLView",
            "description": "",
            "description_tooltip": null,
            "layout": "IPY_MODEL_d064859e3328425c948bd2a0fd68ffb3",
            "placeholder": "​",
            "style": "IPY_MODEL_1b3915869be4459eadc20ca38da363ca",
            "value": "100%"
          }
        },
        "82a86317ce7a49ef9b269b395ff275c7": {
          "model_module": "@jupyter-widgets/controls",
          "model_name": "FloatProgressModel",
          "model_module_version": "1.5.0",
          "state": {
            "_dom_classes": [],
            "_model_module": "@jupyter-widgets/controls",
            "_model_module_version": "1.5.0",
            "_model_name": "FloatProgressModel",
            "_view_count": null,
            "_view_module": "@jupyter-widgets/controls",
            "_view_module_version": "1.5.0",
            "_view_name": "ProgressView",
            "bar_style": "success",
            "description": "",
            "description_tooltip": null,
            "layout": "IPY_MODEL_3611a6896ec84aff8099b75072e74699",
            "max": 170498071,
            "min": 0,
            "orientation": "horizontal",
            "style": "IPY_MODEL_16a84057f9a54e4d8e043bf7b34ee185",
            "value": 170498071
          }
        },
        "1c80528b6c0e43e58b250b2d6fed8ffa": {
          "model_module": "@jupyter-widgets/controls",
          "model_name": "HTMLModel",
          "model_module_version": "1.5.0",
          "state": {
            "_dom_classes": [],
            "_model_module": "@jupyter-widgets/controls",
            "_model_module_version": "1.5.0",
            "_model_name": "HTMLModel",
            "_view_count": null,
            "_view_module": "@jupyter-widgets/controls",
            "_view_module_version": "1.5.0",
            "_view_name": "HTMLView",
            "description": "",
            "description_tooltip": null,
            "layout": "IPY_MODEL_45c75a2f2fdb423e9cba8f4304345ed1",
            "placeholder": "​",
            "style": "IPY_MODEL_ff1331d2a2ba42e798071e353e085cc1",
            "value": " 170498071/170498071 [00:13&lt;00:00, 14146714.90it/s]"
          }
        },
        "7651db91de6442a3952df9abd8fd74a4": {
          "model_module": "@jupyter-widgets/base",
          "model_name": "LayoutModel",
          "model_module_version": "1.2.0",
          "state": {
            "_model_module": "@jupyter-widgets/base",
            "_model_module_version": "1.2.0",
            "_model_name": "LayoutModel",
            "_view_count": null,
            "_view_module": "@jupyter-widgets/base",
            "_view_module_version": "1.2.0",
            "_view_name": "LayoutView",
            "align_content": null,
            "align_items": null,
            "align_self": null,
            "border": null,
            "bottom": null,
            "display": null,
            "flex": null,
            "flex_flow": null,
            "grid_area": null,
            "grid_auto_columns": null,
            "grid_auto_flow": null,
            "grid_auto_rows": null,
            "grid_column": null,
            "grid_gap": null,
            "grid_row": null,
            "grid_template_areas": null,
            "grid_template_columns": null,
            "grid_template_rows": null,
            "height": null,
            "justify_content": null,
            "justify_items": null,
            "left": null,
            "margin": null,
            "max_height": null,
            "max_width": null,
            "min_height": null,
            "min_width": null,
            "object_fit": null,
            "object_position": null,
            "order": null,
            "overflow": null,
            "overflow_x": null,
            "overflow_y": null,
            "padding": null,
            "right": null,
            "top": null,
            "visibility": null,
            "width": null
          }
        },
        "d064859e3328425c948bd2a0fd68ffb3": {
          "model_module": "@jupyter-widgets/base",
          "model_name": "LayoutModel",
          "model_module_version": "1.2.0",
          "state": {
            "_model_module": "@jupyter-widgets/base",
            "_model_module_version": "1.2.0",
            "_model_name": "LayoutModel",
            "_view_count": null,
            "_view_module": "@jupyter-widgets/base",
            "_view_module_version": "1.2.0",
            "_view_name": "LayoutView",
            "align_content": null,
            "align_items": null,
            "align_self": null,
            "border": null,
            "bottom": null,
            "display": null,
            "flex": null,
            "flex_flow": null,
            "grid_area": null,
            "grid_auto_columns": null,
            "grid_auto_flow": null,
            "grid_auto_rows": null,
            "grid_column": null,
            "grid_gap": null,
            "grid_row": null,
            "grid_template_areas": null,
            "grid_template_columns": null,
            "grid_template_rows": null,
            "height": null,
            "justify_content": null,
            "justify_items": null,
            "left": null,
            "margin": null,
            "max_height": null,
            "max_width": null,
            "min_height": null,
            "min_width": null,
            "object_fit": null,
            "object_position": null,
            "order": null,
            "overflow": null,
            "overflow_x": null,
            "overflow_y": null,
            "padding": null,
            "right": null,
            "top": null,
            "visibility": null,
            "width": null
          }
        },
        "1b3915869be4459eadc20ca38da363ca": {
          "model_module": "@jupyter-widgets/controls",
          "model_name": "DescriptionStyleModel",
          "model_module_version": "1.5.0",
          "state": {
            "_model_module": "@jupyter-widgets/controls",
            "_model_module_version": "1.5.0",
            "_model_name": "DescriptionStyleModel",
            "_view_count": null,
            "_view_module": "@jupyter-widgets/base",
            "_view_module_version": "1.2.0",
            "_view_name": "StyleView",
            "description_width": ""
          }
        },
        "3611a6896ec84aff8099b75072e74699": {
          "model_module": "@jupyter-widgets/base",
          "model_name": "LayoutModel",
          "model_module_version": "1.2.0",
          "state": {
            "_model_module": "@jupyter-widgets/base",
            "_model_module_version": "1.2.0",
            "_model_name": "LayoutModel",
            "_view_count": null,
            "_view_module": "@jupyter-widgets/base",
            "_view_module_version": "1.2.0",
            "_view_name": "LayoutView",
            "align_content": null,
            "align_items": null,
            "align_self": null,
            "border": null,
            "bottom": null,
            "display": null,
            "flex": null,
            "flex_flow": null,
            "grid_area": null,
            "grid_auto_columns": null,
            "grid_auto_flow": null,
            "grid_auto_rows": null,
            "grid_column": null,
            "grid_gap": null,
            "grid_row": null,
            "grid_template_areas": null,
            "grid_template_columns": null,
            "grid_template_rows": null,
            "height": null,
            "justify_content": null,
            "justify_items": null,
            "left": null,
            "margin": null,
            "max_height": null,
            "max_width": null,
            "min_height": null,
            "min_width": null,
            "object_fit": null,
            "object_position": null,
            "order": null,
            "overflow": null,
            "overflow_x": null,
            "overflow_y": null,
            "padding": null,
            "right": null,
            "top": null,
            "visibility": null,
            "width": null
          }
        },
        "16a84057f9a54e4d8e043bf7b34ee185": {
          "model_module": "@jupyter-widgets/controls",
          "model_name": "ProgressStyleModel",
          "model_module_version": "1.5.0",
          "state": {
            "_model_module": "@jupyter-widgets/controls",
            "_model_module_version": "1.5.0",
            "_model_name": "ProgressStyleModel",
            "_view_count": null,
            "_view_module": "@jupyter-widgets/base",
            "_view_module_version": "1.2.0",
            "_view_name": "StyleView",
            "bar_color": null,
            "description_width": ""
          }
        },
        "45c75a2f2fdb423e9cba8f4304345ed1": {
          "model_module": "@jupyter-widgets/base",
          "model_name": "LayoutModel",
          "model_module_version": "1.2.0",
          "state": {
            "_model_module": "@jupyter-widgets/base",
            "_model_module_version": "1.2.0",
            "_model_name": "LayoutModel",
            "_view_count": null,
            "_view_module": "@jupyter-widgets/base",
            "_view_module_version": "1.2.0",
            "_view_name": "LayoutView",
            "align_content": null,
            "align_items": null,
            "align_self": null,
            "border": null,
            "bottom": null,
            "display": null,
            "flex": null,
            "flex_flow": null,
            "grid_area": null,
            "grid_auto_columns": null,
            "grid_auto_flow": null,
            "grid_auto_rows": null,
            "grid_column": null,
            "grid_gap": null,
            "grid_row": null,
            "grid_template_areas": null,
            "grid_template_columns": null,
            "grid_template_rows": null,
            "height": null,
            "justify_content": null,
            "justify_items": null,
            "left": null,
            "margin": null,
            "max_height": null,
            "max_width": null,
            "min_height": null,
            "min_width": null,
            "object_fit": null,
            "object_position": null,
            "order": null,
            "overflow": null,
            "overflow_x": null,
            "overflow_y": null,
            "padding": null,
            "right": null,
            "top": null,
            "visibility": null,
            "width": null
          }
        },
        "ff1331d2a2ba42e798071e353e085cc1": {
          "model_module": "@jupyter-widgets/controls",
          "model_name": "DescriptionStyleModel",
          "model_module_version": "1.5.0",
          "state": {
            "_model_module": "@jupyter-widgets/controls",
            "_model_module_version": "1.5.0",
            "_model_name": "DescriptionStyleModel",
            "_view_count": null,
            "_view_module": "@jupyter-widgets/base",
            "_view_module_version": "1.2.0",
            "_view_name": "StyleView",
            "description_width": ""
          }
        },
        "8f2acec426c64201a1a3c7a09c40017c": {
          "model_module": "@jupyter-widgets/controls",
          "model_name": "HBoxModel",
          "model_module_version": "1.5.0",
          "state": {
            "_dom_classes": [],
            "_model_module": "@jupyter-widgets/controls",
            "_model_module_version": "1.5.0",
            "_model_name": "HBoxModel",
            "_view_count": null,
            "_view_module": "@jupyter-widgets/controls",
            "_view_module_version": "1.5.0",
            "_view_name": "HBoxView",
            "box_style": "",
            "children": [
              "IPY_MODEL_7a85d73394654b09a377c7b38f43537c",
              "IPY_MODEL_31642830db2443348b10c52aa3381806",
              "IPY_MODEL_651dd77af7a84166a942874567f65f81"
            ],
            "layout": "IPY_MODEL_273606ea851a415d8775459fbbd62417"
          }
        },
        "7a85d73394654b09a377c7b38f43537c": {
          "model_module": "@jupyter-widgets/controls",
          "model_name": "HTMLModel",
          "model_module_version": "1.5.0",
          "state": {
            "_dom_classes": [],
            "_model_module": "@jupyter-widgets/controls",
            "_model_module_version": "1.5.0",
            "_model_name": "HTMLModel",
            "_view_count": null,
            "_view_module": "@jupyter-widgets/controls",
            "_view_module_version": "1.5.0",
            "_view_name": "HTMLView",
            "description": "",
            "description_tooltip": null,
            "layout": "IPY_MODEL_e7f3103ddfdd4eaba6dfbef21a5c4fbe",
            "placeholder": "​",
            "style": "IPY_MODEL_4ac47bbd820d415fbbb25bcb41a786bc",
            "value": "100%"
          }
        },
        "31642830db2443348b10c52aa3381806": {
          "model_module": "@jupyter-widgets/controls",
          "model_name": "FloatProgressModel",
          "model_module_version": "1.5.0",
          "state": {
            "_dom_classes": [],
            "_model_module": "@jupyter-widgets/controls",
            "_model_module_version": "1.5.0",
            "_model_name": "FloatProgressModel",
            "_view_count": null,
            "_view_module": "@jupyter-widgets/controls",
            "_view_module_version": "1.5.0",
            "_view_name": "ProgressView",
            "bar_style": "success",
            "description": "",
            "description_tooltip": null,
            "layout": "IPY_MODEL_6408eda30692405baef2ada164281a23",
            "max": 170498071,
            "min": 0,
            "orientation": "horizontal",
            "style": "IPY_MODEL_5439213a328e402a8ed90aa85f983aac",
            "value": 170498071
          }
        },
        "651dd77af7a84166a942874567f65f81": {
          "model_module": "@jupyter-widgets/controls",
          "model_name": "HTMLModel",
          "model_module_version": "1.5.0",
          "state": {
            "_dom_classes": [],
            "_model_module": "@jupyter-widgets/controls",
            "_model_module_version": "1.5.0",
            "_model_name": "HTMLModel",
            "_view_count": null,
            "_view_module": "@jupyter-widgets/controls",
            "_view_module_version": "1.5.0",
            "_view_name": "HTMLView",
            "description": "",
            "description_tooltip": null,
            "layout": "IPY_MODEL_b1c70ac245d94eb39f5cd47b1a965f2f",
            "placeholder": "​",
            "style": "IPY_MODEL_c8ccd5f0e4094c70b82b7aab6c030157",
            "value": " 170498071/170498071 [00:13&lt;00:00, 14228363.09it/s]"
          }
        },
        "273606ea851a415d8775459fbbd62417": {
          "model_module": "@jupyter-widgets/base",
          "model_name": "LayoutModel",
          "model_module_version": "1.2.0",
          "state": {
            "_model_module": "@jupyter-widgets/base",
            "_model_module_version": "1.2.0",
            "_model_name": "LayoutModel",
            "_view_count": null,
            "_view_module": "@jupyter-widgets/base",
            "_view_module_version": "1.2.0",
            "_view_name": "LayoutView",
            "align_content": null,
            "align_items": null,
            "align_self": null,
            "border": null,
            "bottom": null,
            "display": null,
            "flex": null,
            "flex_flow": null,
            "grid_area": null,
            "grid_auto_columns": null,
            "grid_auto_flow": null,
            "grid_auto_rows": null,
            "grid_column": null,
            "grid_gap": null,
            "grid_row": null,
            "grid_template_areas": null,
            "grid_template_columns": null,
            "grid_template_rows": null,
            "height": null,
            "justify_content": null,
            "justify_items": null,
            "left": null,
            "margin": null,
            "max_height": null,
            "max_width": null,
            "min_height": null,
            "min_width": null,
            "object_fit": null,
            "object_position": null,
            "order": null,
            "overflow": null,
            "overflow_x": null,
            "overflow_y": null,
            "padding": null,
            "right": null,
            "top": null,
            "visibility": null,
            "width": null
          }
        },
        "e7f3103ddfdd4eaba6dfbef21a5c4fbe": {
          "model_module": "@jupyter-widgets/base",
          "model_name": "LayoutModel",
          "model_module_version": "1.2.0",
          "state": {
            "_model_module": "@jupyter-widgets/base",
            "_model_module_version": "1.2.0",
            "_model_name": "LayoutModel",
            "_view_count": null,
            "_view_module": "@jupyter-widgets/base",
            "_view_module_version": "1.2.0",
            "_view_name": "LayoutView",
            "align_content": null,
            "align_items": null,
            "align_self": null,
            "border": null,
            "bottom": null,
            "display": null,
            "flex": null,
            "flex_flow": null,
            "grid_area": null,
            "grid_auto_columns": null,
            "grid_auto_flow": null,
            "grid_auto_rows": null,
            "grid_column": null,
            "grid_gap": null,
            "grid_row": null,
            "grid_template_areas": null,
            "grid_template_columns": null,
            "grid_template_rows": null,
            "height": null,
            "justify_content": null,
            "justify_items": null,
            "left": null,
            "margin": null,
            "max_height": null,
            "max_width": null,
            "min_height": null,
            "min_width": null,
            "object_fit": null,
            "object_position": null,
            "order": null,
            "overflow": null,
            "overflow_x": null,
            "overflow_y": null,
            "padding": null,
            "right": null,
            "top": null,
            "visibility": null,
            "width": null
          }
        },
        "4ac47bbd820d415fbbb25bcb41a786bc": {
          "model_module": "@jupyter-widgets/controls",
          "model_name": "DescriptionStyleModel",
          "model_module_version": "1.5.0",
          "state": {
            "_model_module": "@jupyter-widgets/controls",
            "_model_module_version": "1.5.0",
            "_model_name": "DescriptionStyleModel",
            "_view_count": null,
            "_view_module": "@jupyter-widgets/base",
            "_view_module_version": "1.2.0",
            "_view_name": "StyleView",
            "description_width": ""
          }
        },
        "6408eda30692405baef2ada164281a23": {
          "model_module": "@jupyter-widgets/base",
          "model_name": "LayoutModel",
          "model_module_version": "1.2.0",
          "state": {
            "_model_module": "@jupyter-widgets/base",
            "_model_module_version": "1.2.0",
            "_model_name": "LayoutModel",
            "_view_count": null,
            "_view_module": "@jupyter-widgets/base",
            "_view_module_version": "1.2.0",
            "_view_name": "LayoutView",
            "align_content": null,
            "align_items": null,
            "align_self": null,
            "border": null,
            "bottom": null,
            "display": null,
            "flex": null,
            "flex_flow": null,
            "grid_area": null,
            "grid_auto_columns": null,
            "grid_auto_flow": null,
            "grid_auto_rows": null,
            "grid_column": null,
            "grid_gap": null,
            "grid_row": null,
            "grid_template_areas": null,
            "grid_template_columns": null,
            "grid_template_rows": null,
            "height": null,
            "justify_content": null,
            "justify_items": null,
            "left": null,
            "margin": null,
            "max_height": null,
            "max_width": null,
            "min_height": null,
            "min_width": null,
            "object_fit": null,
            "object_position": null,
            "order": null,
            "overflow": null,
            "overflow_x": null,
            "overflow_y": null,
            "padding": null,
            "right": null,
            "top": null,
            "visibility": null,
            "width": null
          }
        },
        "5439213a328e402a8ed90aa85f983aac": {
          "model_module": "@jupyter-widgets/controls",
          "model_name": "ProgressStyleModel",
          "model_module_version": "1.5.0",
          "state": {
            "_model_module": "@jupyter-widgets/controls",
            "_model_module_version": "1.5.0",
            "_model_name": "ProgressStyleModel",
            "_view_count": null,
            "_view_module": "@jupyter-widgets/base",
            "_view_module_version": "1.2.0",
            "_view_name": "StyleView",
            "bar_color": null,
            "description_width": ""
          }
        },
        "b1c70ac245d94eb39f5cd47b1a965f2f": {
          "model_module": "@jupyter-widgets/base",
          "model_name": "LayoutModel",
          "model_module_version": "1.2.0",
          "state": {
            "_model_module": "@jupyter-widgets/base",
            "_model_module_version": "1.2.0",
            "_model_name": "LayoutModel",
            "_view_count": null,
            "_view_module": "@jupyter-widgets/base",
            "_view_module_version": "1.2.0",
            "_view_name": "LayoutView",
            "align_content": null,
            "align_items": null,
            "align_self": null,
            "border": null,
            "bottom": null,
            "display": null,
            "flex": null,
            "flex_flow": null,
            "grid_area": null,
            "grid_auto_columns": null,
            "grid_auto_flow": null,
            "grid_auto_rows": null,
            "grid_column": null,
            "grid_gap": null,
            "grid_row": null,
            "grid_template_areas": null,
            "grid_template_columns": null,
            "grid_template_rows": null,
            "height": null,
            "justify_content": null,
            "justify_items": null,
            "left": null,
            "margin": null,
            "max_height": null,
            "max_width": null,
            "min_height": null,
            "min_width": null,
            "object_fit": null,
            "object_position": null,
            "order": null,
            "overflow": null,
            "overflow_x": null,
            "overflow_y": null,
            "padding": null,
            "right": null,
            "top": null,
            "visibility": null,
            "width": null
          }
        },
        "c8ccd5f0e4094c70b82b7aab6c030157": {
          "model_module": "@jupyter-widgets/controls",
          "model_name": "DescriptionStyleModel",
          "model_module_version": "1.5.0",
          "state": {
            "_model_module": "@jupyter-widgets/controls",
            "_model_module_version": "1.5.0",
            "_model_name": "DescriptionStyleModel",
            "_view_count": null,
            "_view_module": "@jupyter-widgets/base",
            "_view_module_version": "1.2.0",
            "_view_name": "StyleView",
            "description_width": ""
          }
        }
      }
    }
  },
  "nbformat": 4,
  "nbformat_minor": 0
}