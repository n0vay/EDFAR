{
  "cells": [
    {
      "cell_type": "markdown",
      "metadata": {
        "id": "view-in-github",
        "colab_type": "text"
      },
      "source": [
        "<a href=\"https://colab.research.google.com/github/n0vay/EDFAR/blob/master/load_baseline_pcf_glassblur.ipynb\" target=\"_parent\"><img src=\"https://colab.research.google.com/assets/colab-badge.svg\" alt=\"Open In Colab\"/></a>"
      ]
    },
    {
      "cell_type": "markdown",
      "metadata": {
        "execution": {},
        "id": "GNKXCLinURdf"
      },
      "source": [
        "----\n",
        "# Objective\n",
        "\n",
        "Data augmentation refers to synthetically increasing the amount of training data by transforming the existing training examples. Data augmentation has been shown to be a very useful technique, especially in computer vision applications. However, there are multiple ways of performing data augmentation and it is yet to be understood which transformations are more effective and why, and how data augmentation interacts with other techniques. In fact, it is common to see different augmentation schemes and setups in different papers. For example, there are perceptually possible image transformations (related to human visual perception), simple synthetic transformations such as cutout, more artificial transformations such as mixup that even transform the class labels, among many others.  \n",
        "\n",
        "In this notebook, we will show how to train deep neural networks for image classification with data augmentation and analyse the results."
      ]
    },
    {
      "cell_type": "markdown",
      "metadata": {
        "execution": {},
        "id": "FhcK8oA3URdf"
      },
      "source": [
        "---\n",
        "# Setup\n"
      ]
    },
    {
      "cell_type": "code",
      "execution_count": 1,
      "metadata": {
        "execution": {},
        "id": "Gn823Bu7URdf"
      },
      "outputs": [],
      "source": [
        "# @title Install dependencies\n",
        "!pip install pandas --quiet"
      ]
    },
    {
      "cell_type": "code",
      "execution_count": 2,
      "metadata": {
        "execution": {},
        "id": "Vx8p24iVURdg"
      },
      "outputs": [],
      "source": [
        "# imports\n",
        "import os\n",
        "import csv\n",
        "import multiprocessing\n",
        "\n",
        "import numpy as np\n",
        "import pandas as pd\n",
        "import matplotlib.pyplot as plt\n",
        "\n",
        "import torch\n",
        "import torch.nn as nn\n",
        "import torch.optim as optim\n",
        "import torch.nn.functional as F\n",
        "import torch.backends.cudnn as cudnn\n",
        "from torch.autograd import Variable\n",
        "from torch.utils.data import Dataset, DataLoader\n",
        "\n",
        "import torchvision\n",
        "import torchvision.transforms as transforms"
      ]
    },
    {
      "cell_type": "code",
      "execution_count": 3,
      "metadata": {
        "cellView": "form",
        "execution": {},
        "id": "RmTxDJAzURdg"
      },
      "outputs": [],
      "source": [
        "# @title Set random seed\n",
        "\n",
        "# @markdown Executing `set_seed(seed=seed)` you are setting the seed\n",
        "\n",
        "# for DL its critical to set the random seed so that students can have a\n",
        "# baseline to compare their results to expected results.\n",
        "# Read more here: https://pytorch.org/docs/stable/notes/randomness.html\n",
        "\n",
        "# Call `set_seed` function in the exercises to ensure reproducibility.\n",
        "import random\n",
        "import torch\n",
        "\n",
        "def set_seed(seed=None, seed_torch=True):\n",
        "  if seed is None:\n",
        "    seed = np.random.choice(2 ** 32)\n",
        "  random.seed(seed)\n",
        "  np.random.seed(seed)\n",
        "  if seed_torch:\n",
        "    torch.manual_seed(seed)\n",
        "    torch.cuda.manual_seed_all(seed)\n",
        "    torch.cuda.manual_seed(seed)\n",
        "    torch.backends.cudnn.benchmark = False\n",
        "    torch.backends.cudnn.deterministic = True\n",
        "\n",
        "  print(f'Random seed {seed} has been set.')\n",
        "\n",
        "# In case that `DataLoader` is used\n",
        "def seed_worker(worker_id):\n",
        "  worker_seed = torch.initial_seed() % 2**32\n",
        "  np.random.seed(worker_seed)\n",
        "  random.seed(worker_seed)"
      ]
    },
    {
      "cell_type": "code",
      "execution_count": 4,
      "metadata": {
        "cellView": "form",
        "execution": {},
        "id": "GtSiItY6URdh"
      },
      "outputs": [],
      "source": [
        "# @title Set device (GPU or CPU)\n",
        "\n",
        "# inform the user if the notebook uses GPU or CPU.\n",
        "\n",
        "def set_device():\n",
        "  device = \"cuda\" if torch.cuda.is_available() else \"cpu\"\n",
        "  if device != \"cuda\":\n",
        "    print(\"WARNING: For this notebook to perform best, \"\n",
        "        \"if possible, in the menu under `Runtime` -> \"\n",
        "        \"`Change runtime type.`  select `GPU` \")\n",
        "  else:\n",
        "    print(\"GPU is enabled in this notebook.\")\n",
        "\n",
        "  return device"
      ]
    },
    {
      "cell_type": "code",
      "execution_count": 5,
      "metadata": {
        "execution": {},
        "id": "AVhp7kTdURdh",
        "outputId": "94f4edf5-0772-4a55-bbe4-784b1ec13335",
        "colab": {
          "base_uri": "https://localhost:8080/",
          "height": 71
        }
      },
      "outputs": [
        {
          "output_type": "stream",
          "name": "stdout",
          "text": [
            "Random seed 2021 has been set.\n",
            "GPU is enabled in this notebook.\n"
          ]
        },
        {
          "output_type": "execute_result",
          "data": {
            "text/plain": [
              "'cuda'"
            ],
            "application/vnd.google.colaboratory.intrinsic+json": {
              "type": "string"
            }
          },
          "metadata": {},
          "execution_count": 5
        }
      ],
      "source": [
        "set_seed(seed=2021)\n",
        "set_device()"
      ]
    },
    {
      "cell_type": "markdown",
      "metadata": {
        "execution": {},
        "id": "CYMv-0ayURdi"
      },
      "source": [
        "### Training hyperparameters\n",
        "\n",
        "**Note:** We have reduced the number of epochs, `end_epochs`. The value was set to 200. Please, change it back and run the code."
      ]
    },
    {
      "cell_type": "code",
      "execution_count": 6,
      "metadata": {
        "execution": {},
        "id": "oD3TTcyJURdi"
      },
      "outputs": [],
      "source": [
        "# hyper-parameters\n",
        "use_cuda = torch.cuda.is_available()\n",
        "alpha = 1  # alpha for mixup augmentation\n",
        "best_acc = 0  # best test accuracy\n",
        "start_epoch = 0  # start from epoch 0 or last checkpoint epoch\n",
        "batch_size = 128\n",
        "end_apochs = 25  # Please change this to 200\n",
        "base_learning_rate = 0.1\n",
        "n_holes = 1  # number of holes to cut out from image for cutout\n",
        "length = 16  # length of the holes for cutout augmentation"
      ]
    },
    {
      "cell_type": "markdown",
      "metadata": {
        "execution": {},
        "id": "DmpEXgLnURdk"
      },
      "source": [
        "---\n",
        "# Data"
      ]
    },
    {
      "cell_type": "markdown",
      "metadata": {
        "execution": {},
        "id": "85E5z7O7URdk"
      },
      "source": [
        "## Datasets\n",
        "\n",
        "We will start using CIFAR-10 data set from PyTorch, but with small tweaks we can get any other data we are interested in. "
      ]
    },
    {
      "cell_type": "code",
      "execution_count": 7,
      "metadata": {
        "execution": {},
        "id": "wDchup0qURdk",
        "outputId": "baf46c11-95ed-4359-d330-e69b6c104f6b",
        "colab": {
          "base_uri": "https://localhost:8080/",
          "height": 120,
          "referenced_widgets": [
            "6263df8e545046af9e4f9d9997a1352e",
            "45fe483eb41546c1ba91a22035f62f47",
            "9eb2ddcd9a48467287b8850016f836e1",
            "a2b812fd1ef7484bb145ce8f35832a6b",
            "1d7a7b8b924e459b8fb3d37a5b5eebb3",
            "891fddf668124f6e8155c1b4cc48e1cd",
            "43c7a481226443f48a4893cd686bb313",
            "4ce49d7a57f743a991d8a89312222d11",
            "258832def71d420e8aa97c7f0ff43442",
            "d284e5449c5942a59a1158446b8a948f",
            "f1b03401d3c04ffebc92c28a7e6ce9a9"
          ]
        }
      },
      "outputs": [
        {
          "output_type": "stream",
          "name": "stdout",
          "text": [
            "==> Preparing data...\n",
            "Downloading https://www.cs.toronto.edu/~kriz/cifar-10-python.tar.gz to ./CIFAR10/cifar-10-python.tar.gz\n"
          ]
        },
        {
          "output_type": "display_data",
          "data": {
            "text/plain": [
              "  0%|          | 0/170498071 [00:00<?, ?it/s]"
            ],
            "application/vnd.jupyter.widget-view+json": {
              "version_major": 2,
              "version_minor": 0,
              "model_id": "6263df8e545046af9e4f9d9997a1352e"
            }
          },
          "metadata": {}
        },
        {
          "output_type": "stream",
          "name": "stdout",
          "text": [
            "Extracting ./CIFAR10/cifar-10-python.tar.gz to ./CIFAR10\n",
            "Files already downloaded and verified\n"
          ]
        }
      ],
      "source": [
        "# @markdown Download and prepare Data\n",
        "print('==> Preparing data...')\n",
        "def percentageSplit(full_dataset, percent=0.0):\n",
        "  set1_size = int(percent * len(full_dataset))\n",
        "  set2_size = len(full_dataset) - set1_size\n",
        "  final_dataset, _ = torch.utils.data.random_split(full_dataset,\n",
        "                                                   [set1_size, set2_size])\n",
        "  return final_dataset\n",
        "\n",
        "# CIFAR100 normalizing\n",
        "# mean = [0.5071, 0.4866, 0.4409]\n",
        "# std = [0.2673, 0.2564, 0.2762]\n",
        "\n",
        "# CIFAR10 normalizing\n",
        "mean = (0.4914, 0.4822, 0.4465)\n",
        "std = (0.2023, 0.1994, 0.2010)\n",
        "\n",
        "# torchvision transforms\n",
        "transform_train = transforms.Compose([])\n",
        "transform_train.transforms.append(transforms.ToTensor())\n",
        "transform_train.transforms.append(transforms.Normalize(mean, std))\n",
        "transform_train.transforms.append(transforms.RandomCrop(32, padding=4))\n",
        "transform_train.transforms.append(transforms.RandomHorizontalFlip())\n",
        "\n",
        "transform_test = transforms.Compose([\n",
        "    transforms.ToTensor(),\n",
        "    transforms.Normalize(mean, std),\n",
        "])\n",
        "\n",
        "trainset = torchvision.datasets.CIFAR10(\n",
        "    root='./CIFAR10', train=True, download=True,\n",
        "    transform=transform_train)\n",
        "\n",
        "testset = torchvision.datasets.CIFAR10(\n",
        "    root='./CIFAR10', train=False, download=True,\n",
        "    transform=transform_test)"
      ]
    },
    {
      "cell_type": "markdown",
      "metadata": {
        "execution": {},
        "id": "ZItQGvYBURdk"
      },
      "source": [
        "#### CIFAR-10\n",
        "\n",
        "CIFAR-10 is a data set of 50,000 colour (RGB) training images and 10,000 test images, of size 32 x 32 pixels. Each image is labelled as 1 of 10 possible classes: \n",
        "```\n",
        "'plane', 'car', 'bird', 'cat', 'deer', 'dog', 'frog', 'horse', 'ship', 'truck'\n",
        "```\n",
        "The data set is stored as a custom `torchvision.datasets.cifar.CIFAR` object. You can check some of its properties with the following code:"
      ]
    },
    {
      "cell_type": "code",
      "execution_count": 8,
      "metadata": {
        "execution": {},
        "id": "cGkVTyNfURdk",
        "outputId": "e0e74a69-d9a2-4bc3-82f3-cb25b635f23c",
        "colab": {
          "base_uri": "https://localhost:8080/"
        }
      },
      "outputs": [
        {
          "output_type": "stream",
          "name": "stdout",
          "text": [
            "Object type: <class 'torchvision.datasets.cifar.CIFAR10'>\n",
            "Training data shape: (50000, 32, 32, 3)\n",
            "Test data shape: (10000, 32, 32, 3)\n",
            "Number of classes: 10\n"
          ]
        }
      ],
      "source": [
        "print(f\"Object type: {type(trainset)}\")\n",
        "print(f\"Training data shape: {trainset.data.shape}\")\n",
        "print(f\"Test data shape: {testset.data.shape}\")\n",
        "print(f\"Number of classes: {np.unique(trainset.targets).shape[0]}\")"
      ]
    },
    {
      "cell_type": "code",
      "execution_count": 9,
      "metadata": {
        "execution": {},
        "id": "1XRIk7aFURdl",
        "outputId": "4a1817db-86ca-4f8c-c66b-7c3215515637",
        "colab": {
          "base_uri": "https://localhost:8080/"
        }
      },
      "outputs": [
        {
          "output_type": "stream",
          "name": "stdout",
          "text": [
            "size of the new trainset: 50000\n"
          ]
        }
      ],
      "source": [
        "# choose percentage from the trainset. set percent = 1.0 to use the whole train data\n",
        "percent = 1.0\n",
        "trainset = percentageSplit(trainset, percent = percent)\n",
        "print(f\"size of the new trainset: {len(trainset)}\")"
      ]
    },
    {
      "cell_type": "markdown",
      "metadata": {
        "execution": {},
        "id": "EE86ghpOURdl"
      },
      "source": [
        "## Data loaders\n",
        "\n",
        "A dataloader is an optimized data iterator that provides functionality for efficient shuffling, transformation and batching of the data."
      ]
    },
    {
      "cell_type": "code",
      "execution_count": 10,
      "metadata": {
        "execution": {},
        "id": "hLJfLMLDURdl",
        "outputId": "ee331c70-676e-4e91-e003-e8b6f296e655",
        "colab": {
          "base_uri": "https://localhost:8080/"
        }
      },
      "outputs": [
        {
          "output_type": "stream",
          "name": "stdout",
          "text": [
            "----> number of workers: 2\n"
          ]
        }
      ],
      "source": [
        "# Dataloader\n",
        "num_workers = multiprocessing.cpu_count()\n",
        "\n",
        "print(f'----> number of workers: {num_workers}')\n",
        "\n",
        "trainloader = torch.utils.data.DataLoader(\n",
        "    trainset, batch_size=batch_size, shuffle=True, num_workers=num_workers)\n",
        "testloader = torch.utils.data.DataLoader(\n",
        "    testset, batch_size=batch_size, shuffle=False, num_workers=num_workers)"
      ]
    },
    {
      "cell_type": "markdown",
      "metadata": {
        "execution": {},
        "id": "lm0GkJGTURdl"
      },
      "source": [
        "## Visualization\n",
        "\n",
        "To visualize some of the augmentations, make sure you set to ```True``` their corresponding flags in the hyperparameters section"
      ]
    },
    {
      "cell_type": "code",
      "execution_count": 11,
      "metadata": {
        "execution": {},
        "id": "AbEW1I-aURdl"
      },
      "outputs": [],
      "source": [
        "# get batch of data\n",
        "batch_X, batch_Y =  next(iter(trainloader))"
      ]
    },
    {
      "cell_type": "code",
      "execution_count": 12,
      "metadata": {
        "execution": {},
        "id": "H1teXq0wURdl"
      },
      "outputs": [],
      "source": [
        "def plot_mixed_images(images):\n",
        "  inv_normalize = transforms.Normalize(\n",
        "                      mean= [-m/s for m, s in zip(mean, std)],\n",
        "                      std= [1/s for s in std]\n",
        "                      )\n",
        "  inv_PIL = transforms.ToPILImage()\n",
        "  fig = plt.figure(figsize=(10, 8))\n",
        "  for i in range(1, len(images) + 1):\n",
        "    image = images[i-1]\n",
        "    ax = fig.add_subplot(1, 4, i)\n",
        "    inv_tensor = inv_normalize(image).cpu()\n",
        "    ax.imshow(inv_PIL(inv_tensor))\n",
        "  plt.show()"
      ]
    },
    {
      "cell_type": "code",
      "source": [
        "plot_mixed_images(batch_X[:4])"
      ],
      "metadata": {
        "colab": {
          "base_uri": "https://localhost:8080/",
          "height": 171
        },
        "id": "HFJJL-E2tgu4",
        "outputId": "5bb18297-4ba8-451c-c597-079d09e56d13"
      },
      "execution_count": 13,
      "outputs": [
        {
          "output_type": "display_data",
          "data": {
            "text/plain": [
              "<Figure size 720x576 with 4 Axes>"
            ],
            "image/png": "[encoded data removed]"
          },
          "metadata": {
            "needs_background": "light"
          }
        }
      ]
    },
    {
      "cell_type": "markdown",
      "metadata": {
        "execution": {},
        "id": "DR7kr7CfURdm"
      },
      "source": [
        "---\n",
        "# Model"
      ]
    },
    {
      "cell_type": "markdown",
      "metadata": {
        "execution": {},
        "id": "KshELBukURdm"
      },
      "source": [
        "## Architecture: ResNet\n",
        "\n",
        "ResNet is a family of network architectures whose main property is that the network is organised as a stack of _residual blocks_. Residual blocks consist of a stack of layers whose output is added the input, making a _shortcut connection_.\n",
        "\n",
        "See the [original paper](https://arxiv.org/abs/1512.03385) for more details.\n",
        "\n",
        "ResNet is just a popular choice out of many others, but data augmentation works well in general. We just picked ResNet for illustration purposes."
      ]
    },
    {
      "cell_type": "code",
      "execution_count": 14,
      "metadata": {
        "execution": {},
        "id": "luQpkUklURdm"
      },
      "outputs": [],
      "source": [
        "# @markdown ResNet model in PyTorch\n",
        "\n",
        "class BasicBlock(nn.Module):\n",
        "  \"\"\"ResNet in PyTorch.\n",
        "        Reference:\n",
        "        [1] Kaiming He, Xiangyu Zhang, Shaoqing Ren, Jian Sun\n",
        "        Deep Residual Learning for Image Recognition.\n",
        "        arXiv:1512.03385\n",
        "  \"\"\"\n",
        "  expansion = 1\n",
        "\n",
        "  def __init__(self, in_planes, planes, stride=1):\n",
        "    super(BasicBlock, self).__init__()\n",
        "    self.conv1 = nn.Conv2d(in_planes, planes, kernel_size=3, stride=stride, padding=1, bias=False)\n",
        "    self.bn1 = nn.BatchNorm2d(planes)\n",
        "    self.conv2 = nn.Conv2d(planes, planes, kernel_size=3, stride=1, padding=1, bias=False)\n",
        "    self.bn2 = nn.BatchNorm2d(planes)\n",
        "\n",
        "    self.shortcut = nn.Sequential()\n",
        "    if stride != 1 or in_planes != self.expansion*planes:\n",
        "        self.shortcut = nn.Sequential(\n",
        "            nn.Conv2d(in_planes, self.expansion*planes, kernel_size=1, stride=stride, bias=False),\n",
        "            nn.BatchNorm2d(self.expansion*planes)\n",
        "        )\n",
        "\n",
        "  def forward(self, x):\n",
        "    out = F.relu(self.bn1(self.conv1(x)))\n",
        "    out = self.bn2(self.conv2(out))\n",
        "    out += self.shortcut(x)\n",
        "    out = F.relu(out)\n",
        "    return out\n",
        "\n",
        "class Bottleneck(nn.Module):\n",
        "  expansion = 4\n",
        "\n",
        "  def __init__(self, in_planes, planes, stride=1):\n",
        "    super(Bottleneck, self).__init__()\n",
        "    self.conv1 = nn.Conv2d(in_planes, planes, kernel_size=1, bias=False)\n",
        "    self.bn1 = nn.BatchNorm2d(planes)\n",
        "    self.conv2 = nn.Conv2d(planes, planes, kernel_size=3, stride=stride, padding=1, bias=False)\n",
        "    self.bn2 = nn.BatchNorm2d(planes)\n",
        "    self.conv3 = nn.Conv2d(planes, self.expansion*planes, kernel_size=1, bias=False)\n",
        "    self.bn3 = nn.BatchNorm2d(self.expansion*planes)\n",
        "\n",
        "    self.shortcut = nn.Sequential()\n",
        "    if stride != 1 or in_planes != self.expansion*planes:\n",
        "      self.shortcut = nn.Sequential(\n",
        "          nn.Conv2d(in_planes, self.expansion*planes, kernel_size=1, stride=stride, bias=False),\n",
        "          nn.BatchNorm2d(self.expansion*planes)\n",
        "      )\n",
        "\n",
        "  def forward(self, x):\n",
        "    out = F.relu(self.bn1(self.conv1(x)))\n",
        "    out = F.relu(self.bn2(self.conv2(out)))\n",
        "    out = self.bn3(self.conv3(out))\n",
        "    out += self.shortcut(x)\n",
        "    out = F.relu(out)\n",
        "    return out\n",
        "\n",
        "\n",
        "class ResNet(nn.Module):\n",
        "  def __init__(self, block, num_blocks, num_classes=10):\n",
        "    super(ResNet, self).__init__()\n",
        "    self.in_planes = 64\n",
        "\n",
        "    self.conv1 = nn.Conv2d(3, 64, kernel_size=3, stride=1, padding=1, bias=False)\n",
        "    self.bn1 = nn.BatchNorm2d(64)\n",
        "    self.layer1 = self._make_layer(block, 64, num_blocks[0], stride=1)\n",
        "    self.layer2 = self._make_layer(block, 128, num_blocks[1], stride=2)\n",
        "    self.layer3 = self._make_layer(block, 256, num_blocks[2], stride=2)\n",
        "    self.layer4 = self._make_layer(block, 512, num_blocks[3], stride=2)\n",
        "    self.linear = nn.Linear(512*block.expansion, num_classes)\n",
        "\n",
        "  def _make_layer(self, block, planes, num_blocks, stride):\n",
        "    strides = [stride] + [1]*(num_blocks-1)\n",
        "    layers = []\n",
        "    for stride in strides:\n",
        "      layers.append(block(self.in_planes, planes, stride))\n",
        "      self.in_planes = planes * block.expansion\n",
        "    return nn.Sequential(*layers)\n",
        "\n",
        "  def forward(self, x):\n",
        "    out = F.relu(self.bn1(self.conv1(x)))\n",
        "    out = self.layer1(out)\n",
        "    out = self.layer2(out)\n",
        "    out = self.layer3(out)\n",
        "    out = self.layer4(out)\n",
        "    out = F.avg_pool2d(out, 4)\n",
        "    out = out.view(out.size(0), -1)\n",
        "    out = self.linear(out)\n",
        "    return out\n",
        "\n",
        "\n",
        "def ResNet18():\n",
        "  return ResNet(BasicBlock, [2, 2, 2, 2])\n",
        "\n",
        "\n",
        "def ResNet34():\n",
        "  return ResNet(BasicBlock, [3, 4, 6, 3])\n",
        "\n",
        "\n",
        "def ResNet50():\n",
        "  return ResNet(Bottleneck, [3, 4, 6, 3])"
      ]
    },
    {
      "cell_type": "markdown",
      "metadata": {
        "execution": {},
        "id": "nMfpns3wURdn"
      },
      "source": [
        "## Model setup and test"
      ]
    },
    {
      "cell_type": "code",
      "execution_count": 15,
      "metadata": {
        "execution": {},
        "id": "d77oMyG-URdn",
        "outputId": "a47ee323-5655-4c06-c870-01693e80dcd8",
        "colab": {
          "base_uri": "https://localhost:8080/"
        }
      },
      "outputs": [
        {
          "output_type": "stream",
          "name": "stdout",
          "text": [
            "-----> verify if model is run on random data\n",
            "model loaded\n",
            "Using 1 GPUs.\n",
            "Using CUDA..\n"
          ]
        }
      ],
      "source": [
        "# load the Model\n",
        "net = ResNet18()\n",
        "print('-----> verify if model is run on random data')\n",
        "y = net(Variable(torch.randn(1,3,32,32)))\n",
        "print('model loaded')\n",
        "\n",
        "result_folder = './results/'\n",
        "if not os.path.exists(result_folder):\n",
        "    os.makedirs(result_folder)\n",
        "\n",
        "logname = result_folder + net.__class__.__name__ + '_' + '.csv'\n",
        "\n",
        "if use_cuda:\n",
        "  net.cuda()\n",
        "  net = torch.nn.DataParallel(net)\n",
        "  print('Using', torch.cuda.device_count(), 'GPUs.')\n",
        "  cudnn.benchmark = True\n",
        "  print('Using CUDA..')"
      ]
    },
    {
      "cell_type": "code",
      "source": [
        "# model = ResNet18()\n",
        "# model.load_state_dict(torch.load('model'))\n",
        "# model.eval()"
      ],
      "metadata": {
        "id": "xV6kQ-AVDRRk"
      },
      "execution_count": null,
      "outputs": []
    },
    {
      "cell_type": "markdown",
      "metadata": {
        "execution": {},
        "id": "Uv1NJjqJURdn"
      },
      "source": [
        "---\n",
        "# Training"
      ]
    },
    {
      "cell_type": "markdown",
      "metadata": {
        "execution": {},
        "id": "dI6G2zw5URdn"
      },
      "source": [
        "## Loss function and Optimizer\n",
        "\n",
        "We use the cross entropy loss, commonly used for classification, and stochastic gradient descent (SGD) as optimizer, with momentum and weight decay."
      ]
    },
    {
      "cell_type": "code",
      "execution_count": 16,
      "metadata": {
        "execution": {},
        "id": "OpJqp9kgURdn"
      },
      "outputs": [],
      "source": [
        "# optimizer and criterion\n",
        "\n",
        "criterion = nn.CrossEntropyLoss()  # only for test data\n",
        "optimizer = optim.SGD(net.parameters(), lr=base_learning_rate, momentum=0.9, weight_decay=1e-4)"
      ]
    },
    {
      "cell_type": "markdown",
      "metadata": {
        "execution": {},
        "id": "PTS3E3_eURdn"
      },
      "source": [
        "## Train and test loops"
      ]
    },
    {
      "cell_type": "code",
      "execution_count": 17,
      "metadata": {
        "execution": {},
        "id": "33Ju5_gvURdn"
      },
      "outputs": [],
      "source": [
        "# Training & Test functions\n",
        "def train(epoch, alpha, use_cuda=False):\n",
        "  print('\\nEpoch: %d' % epoch)\n",
        "  net.train()\n",
        "  train_loss = 0\n",
        "  correct = 0\n",
        "  total = 0\n",
        "  for batch_idx, (inputs, targets) in enumerate(trainloader):\n",
        "    if use_cuda:\n",
        "      inputs, targets = inputs.cuda(), targets.cuda()\n",
        "      optimizer.zero_grad()\n",
        "      inputs, targets = Variable(inputs), Variable(targets)\n",
        "      outputs = net(inputs)\n",
        "      loss = criterion(outputs, targets)\n",
        "\n",
        "    loss.backward()\n",
        "    optimizer.step()\n",
        "\n",
        "    train_loss += loss.item()\n",
        "    _, predicted = torch.max(outputs.data, 1)\n",
        "    total += targets.size(0)\n",
        "    correct += predicted.eq(targets.data).cpu().sum()\n",
        "\n",
        "    if batch_idx % 500 == 0:\n",
        "      print(batch_idx, len(trainloader), 'Loss: %.3f | Acc: %.3f%% (%d/%d)'\n",
        "          % (train_loss/(batch_idx+1), 100.*correct/total, correct, total))\n",
        "  return (train_loss/batch_idx, 100.*correct/total)\n",
        "\n",
        "\n",
        "def test(epoch, use_cuda=False):\n",
        "  global best_acc\n",
        "  net.eval()\n",
        "  test_loss = 0\n",
        "  correct = 0\n",
        "  total = 0\n",
        "  with torch.no_grad():\n",
        "    for batch_idx, (inputs, targets) in enumerate(testloader):\n",
        "      if use_cuda:\n",
        "        inputs, targets = inputs.cuda(), targets.cuda()\n",
        "      # inputs, targets = Variable(inputs, volatile=True), Variable(targets)\n",
        "      outputs = net(inputs)\n",
        "      loss = criterion(outputs, targets)\n",
        "\n",
        "      test_loss += loss.item()\n",
        "      _, predicted = torch.max(outputs.data, 1)\n",
        "      total += targets.size(0)\n",
        "      correct += predicted.eq(targets.data).cpu().sum()\n",
        "\n",
        "      if batch_idx % 200 == 0:\n",
        "        print(batch_idx, len(testloader), 'Loss: %.3f | Acc: %.3f%% (%d/%d)'\n",
        "            % (test_loss/(batch_idx+1), 100.*correct/total, correct, total))\n",
        "\n",
        "  # Save checkpoint.\n",
        "  acc = 100.*correct/total\n",
        "  if acc > best_acc:\n",
        "    best_acc = acc\n",
        "    checkpoint(acc, epoch)\n",
        "  return (test_loss/batch_idx, 100.*correct/total)"
      ]
    },
    {
      "cell_type": "markdown",
      "metadata": {
        "execution": {},
        "id": "TyGR3I-LURdn"
      },
      "source": [
        "### Auxiliary functions\n",
        "\n",
        "* `checkpoint()`: Store checkpoints of the model\n",
        "* `adjust_learning_rate()`: Decreases the learning rate (learning rate decay) at certain epochs of training."
      ]
    },
    {
      "cell_type": "code",
      "execution_count": 18,
      "metadata": {
        "execution": {},
        "id": "kd_YpvRGURdo"
      },
      "outputs": [],
      "source": [
        "# @markdown `checkpoint` and `adjust_learning_rate` functions\n",
        "def checkpoint(acc, epoch):\n",
        "  # Save checkpoint.\n",
        "  print('Saving..')\n",
        "  state = {\n",
        "      'net': net.state_dict(),\n",
        "      'acc': acc,\n",
        "      'epoch': epoch,\n",
        "      'rng_state': torch.get_rng_state()\n",
        "      }\n",
        "  if not os.path.isdir('checkpoint'):\n",
        "    os.mkdir('checkpoint')\n",
        "  torch.save(state, './checkpoint/ckpt.t7')\n",
        "\n",
        "\n",
        "def adjust_learning_rate(optimizer, epoch):\n",
        "  \"\"\"decrease the learning rate at 100 and 150 epoch\"\"\"\n",
        "  lr = base_learning_rate\n",
        "  if epoch <= 9 and lr > 0.1:\n",
        "    # warm-up training for large minibatch\n",
        "    lr = 0.1 + (base_learning_rate - 0.1) * epoch / 10.\n",
        "  if epoch >= 100:\n",
        "    lr /= 10\n",
        "  if epoch >= 150:\n",
        "    lr /= 10\n",
        "  for param_group in optimizer.param_groups:\n",
        "    param_group['lr'] = lr"
      ]
    },
    {
      "cell_type": "code",
      "execution_count": 19,
      "metadata": {
        "execution": {},
        "id": "I9ZH3gW2URdo",
        "outputId": "83934ba5-c77f-483d-9e1d-b1d92cdb5fcb",
        "colab": {
          "base_uri": "https://localhost:8080/"
        }
      },
      "outputs": [
        {
          "output_type": "stream",
          "name": "stdout",
          "text": [
            "\n",
            "Epoch: 0\n",
            "0 391 Loss: 2.422 | Acc: 14.062% (18/128)\n",
            "0 79 Loss: 1.469 | Acc: 52.344% (67/128)\n",
            "Saving..\n",
            "Epoch: 0 | train acc: 32.290000915527344 | test acc: 43.709999084472656\n",
            "\n",
            "Epoch: 1\n",
            "0 391 Loss: 1.637 | Acc: 42.969% (55/128)\n",
            "0 79 Loss: 1.167 | Acc: 59.375% (76/128)\n",
            "Saving..\n",
            "Epoch: 1 | train acc: 49.130001068115234 | test acc: 55.220001220703125\n",
            "\n",
            "Epoch: 2\n",
            "0 391 Loss: 1.236 | Acc: 50.000% (64/128)\n",
            "0 79 Loss: 0.911 | Acc: 70.312% (90/128)\n",
            "Saving..\n",
            "Epoch: 2 | train acc: 60.58599853515625 | test acc: 64.43000030517578\n",
            "\n",
            "Epoch: 3\n",
            "0 391 Loss: 0.969 | Acc: 64.844% (83/128)\n",
            "0 79 Loss: 0.757 | Acc: 71.875% (92/128)\n",
            "Saving..\n",
            "Epoch: 3 | train acc: 67.22599792480469 | test acc: 69.3499984741211\n",
            "\n",
            "Epoch: 4\n",
            "0 391 Loss: 0.774 | Acc: 72.656% (93/128)\n",
            "0 79 Loss: 0.653 | Acc: 76.562% (98/128)\n",
            "Saving..\n",
            "Epoch: 4 | train acc: 71.73799896240234 | test acc: 72.68000030517578\n",
            "\n",
            "Epoch: 5\n",
            "0 391 Loss: 0.629 | Acc: 75.781% (97/128)\n",
            "0 79 Loss: 0.633 | Acc: 76.562% (98/128)\n",
            "Saving..\n",
            "Epoch: 5 | train acc: 75.84600067138672 | test acc: 75.37000274658203\n",
            "\n",
            "Epoch: 6\n",
            "0 391 Loss: 0.678 | Acc: 72.656% (93/128)\n",
            "0 79 Loss: 0.589 | Acc: 79.688% (102/128)\n",
            "Saving..\n",
            "Epoch: 6 | train acc: 79.22000122070312 | test acc: 77.33999633789062\n",
            "\n",
            "Epoch: 7\n",
            "0 391 Loss: 0.545 | Acc: 81.250% (104/128)\n",
            "0 79 Loss: 0.539 | Acc: 79.688% (102/128)\n",
            "Saving..\n",
            "Epoch: 7 | train acc: 81.4800033569336 | test acc: 80.77999877929688\n",
            "\n",
            "Epoch: 8\n",
            "0 391 Loss: 0.463 | Acc: 83.594% (107/128)\n",
            "0 79 Loss: 0.478 | Acc: 82.031% (105/128)\n",
            "Saving..\n",
            "Epoch: 8 | train acc: 82.98200225830078 | test acc: 81.87000274658203\n",
            "\n",
            "Epoch: 9\n",
            "0 391 Loss: 0.383 | Acc: 84.375% (108/128)\n",
            "0 79 Loss: 0.472 | Acc: 82.812% (106/128)\n",
            "Saving..\n",
            "Epoch: 9 | train acc: 84.66200256347656 | test acc: 82.47000122070312\n",
            "\n",
            "Epoch: 10\n",
            "0 391 Loss: 0.467 | Acc: 82.031% (105/128)\n",
            "0 79 Loss: 0.380 | Acc: 86.719% (111/128)\n",
            "Saving..\n",
            "Epoch: 10 | train acc: 85.77200317382812 | test acc: 84.5\n",
            "\n",
            "Epoch: 11\n",
            "0 391 Loss: 0.238 | Acc: 91.406% (117/128)\n",
            "0 79 Loss: 0.485 | Acc: 82.031% (105/128)\n",
            "Epoch: 11 | train acc: 86.69400024414062 | test acc: 81.58000183105469\n",
            "\n",
            "Epoch: 12\n",
            "0 391 Loss: 0.266 | Acc: 91.406% (117/128)\n",
            "0 79 Loss: 0.257 | Acc: 90.625% (116/128)\n",
            "Saving..\n",
            "Epoch: 12 | train acc: 87.59400177001953 | test acc: 85.61000061035156\n",
            "\n",
            "Epoch: 13\n",
            "0 391 Loss: 0.231 | Acc: 90.625% (116/128)\n",
            "0 79 Loss: 0.466 | Acc: 84.375% (108/128)\n",
            "Epoch: 13 | train acc: 88.47000122070312 | test acc: 83.80000305175781\n",
            "\n",
            "Epoch: 14\n",
            "0 391 Loss: 0.303 | Acc: 88.281% (113/128)\n",
            "0 79 Loss: 0.405 | Acc: 86.719% (111/128)\n",
            "Epoch: 14 | train acc: 88.88600158691406 | test acc: 85.44000244140625\n",
            "\n",
            "Epoch: 15\n",
            "0 391 Loss: 0.273 | Acc: 92.188% (118/128)\n",
            "0 79 Loss: 0.331 | Acc: 86.719% (111/128)\n",
            "Saving..\n",
            "Epoch: 15 | train acc: 89.67400360107422 | test acc: 85.62999725341797\n",
            "\n",
            "Epoch: 16\n",
            "0 391 Loss: 0.300 | Acc: 89.062% (114/128)\n",
            "0 79 Loss: 0.351 | Acc: 87.500% (112/128)\n",
            "Saving..\n",
            "Epoch: 16 | train acc: 90.20800018310547 | test acc: 86.22000122070312\n",
            "\n",
            "Epoch: 17\n",
            "0 391 Loss: 0.277 | Acc: 85.938% (110/128)\n",
            "0 79 Loss: 0.292 | Acc: 86.719% (111/128)\n",
            "Saving..\n",
            "Epoch: 17 | train acc: 90.49600219726562 | test acc: 86.52999877929688\n",
            "\n",
            "Epoch: 18\n",
            "0 391 Loss: 0.214 | Acc: 91.406% (117/128)\n",
            "0 79 Loss: 0.470 | Acc: 85.938% (110/128)\n",
            "Epoch: 18 | train acc: 91.03800201416016 | test acc: 85.91000366210938\n",
            "\n",
            "Epoch: 19\n",
            "0 391 Loss: 0.362 | Acc: 88.281% (113/128)\n",
            "0 79 Loss: 0.357 | Acc: 85.938% (110/128)\n",
            "Saving..\n",
            "Epoch: 19 | train acc: 91.42400360107422 | test acc: 87.16000366210938\n",
            "\n",
            "Epoch: 20\n",
            "0 391 Loss: 0.159 | Acc: 93.750% (120/128)\n",
            "0 79 Loss: 0.263 | Acc: 89.844% (115/128)\n",
            "Saving..\n",
            "Epoch: 20 | train acc: 91.83799743652344 | test acc: 88.19999694824219\n",
            "\n",
            "Epoch: 21\n",
            "0 391 Loss: 0.293 | Acc: 85.938% (110/128)\n",
            "0 79 Loss: 0.317 | Acc: 92.188% (118/128)\n",
            "Epoch: 21 | train acc: 92.16000366210938 | test acc: 87.80000305175781\n",
            "\n",
            "Epoch: 22\n",
            "0 391 Loss: 0.231 | Acc: 92.969% (119/128)\n",
            "0 79 Loss: 0.336 | Acc: 89.062% (114/128)\n",
            "Epoch: 22 | train acc: 92.46399688720703 | test acc: 87.22000122070312\n",
            "\n",
            "Epoch: 23\n",
            "0 391 Loss: 0.184 | Acc: 93.750% (120/128)\n",
            "0 79 Loss: 0.265 | Acc: 87.500% (112/128)\n",
            "Epoch: 23 | train acc: 92.81800079345703 | test acc: 88.0999984741211\n",
            "\n",
            "Epoch: 24\n",
            "0 391 Loss: 0.095 | Acc: 98.438% (126/128)\n",
            "0 79 Loss: 0.330 | Acc: 88.281% (113/128)\n",
            "Saving..\n",
            "Epoch: 24 | train acc: 92.90799713134766 | test acc: 88.55000305175781\n"
          ]
        }
      ],
      "source": [
        "# start training\n",
        "if not os.path.exists(logname):\n",
        "  with open(logname, 'w') as logfile:\n",
        "    logwriter = csv.writer(logfile, delimiter=',')\n",
        "    logwriter.writerow(['epoch', 'train loss', 'train acc',\n",
        "                        'test loss', 'test acc'])\n",
        "\n",
        "for epoch in range(start_epoch, end_apochs):\n",
        "  adjust_learning_rate(optimizer, epoch)\n",
        "  train_loss, train_acc = train(epoch, alpha, use_cuda=use_cuda)\n",
        "  test_loss, test_acc = test(epoch, use_cuda=use_cuda)\n",
        "  with open(logname, 'a') as logfile:\n",
        "    logwriter = csv.writer(logfile, delimiter=',')\n",
        "    logwriter.writerow([epoch, train_loss, train_acc.item(),\n",
        "                        test_loss, test_acc.item()])\n",
        "  print(f'Epoch: {epoch} | train acc: {train_acc} | test acc: {test_acc}')"
      ]
    },
    {
      "cell_type": "code",
      "execution_count": 20,
      "metadata": {
        "execution": {},
        "id": "owclwlevURdo",
        "outputId": "a744f5f0-b7fc-4e0c-db4d-0ddfd7854828",
        "colab": {
          "base_uri": "https://localhost:8080/",
          "height": 206
        }
      },
      "outputs": [
        {
          "output_type": "execute_result",
          "data": {
            "text/plain": [
              "   epoch  train loss  train acc  test loss   test acc\n",
              "0      0    1.888565  32.290001   1.547163  43.709999\n",
              "1      1    1.392759  49.130001   1.263295  55.220001\n",
              "2      2    1.110010  60.585999   0.995586  64.430000\n",
              "3      3    0.927114  67.225998   0.887689  69.349998\n",
              "4      4    0.793640  71.737999   0.799196  72.680000"
            ],
            "text/html": [
              "\n",
              "  <div id=\"df-a85cf6e5-1bdf-493a-8eca-869a19786b9b\">\n",
              "    <div class=\"colab-df-container\">\n",
              "      <div>\n",
              "<style scoped>\n",
              "    .dataframe tbody tr th:only-of-type {\n",
              "        vertical-align: middle;\n",
              "    }\n",
              "\n",
              "    .dataframe tbody tr th {\n",
              "        vertical-align: top;\n",
              "    }\n",
              "\n",
              "    .dataframe thead th {\n",
              "        text-align: right;\n",
              "    }\n",
              "</style>\n",
              "<table border=\"1\" class=\"dataframe\">\n",
              "  <thead>\n",
              "    <tr style=\"text-align: right;\">\n",
              "      <th></th>\n",
              "      <th>epoch</th>\n",
              "      <th>train loss</th>\n",
              "      <th>train acc</th>\n",
              "      <th>test loss</th>\n",
              "      <th>test acc</th>\n",
              "    </tr>\n",
              "  </thead>\n",
              "  <tbody>\n",
              "    <tr>\n",
              "      <th>0</th>\n",
              "      <td>0</td>\n",
              "      <td>1.888565</td>\n",
              "      <td>32.290001</td>\n",
              "      <td>1.547163</td>\n",
              "      <td>43.709999</td>\n",
              "    </tr>\n",
              "    <tr>\n",
              "      <th>1</th>\n",
              "      <td>1</td>\n",
              "      <td>1.392759</td>\n",
              "      <td>49.130001</td>\n",
              "      <td>1.263295</td>\n",
              "      <td>55.220001</td>\n",
              "    </tr>\n",
              "    <tr>\n",
              "      <th>2</th>\n",
              "      <td>2</td>\n",
              "      <td>1.110010</td>\n",
              "      <td>60.585999</td>\n",
              "      <td>0.995586</td>\n",
              "      <td>64.430000</td>\n",
              "    </tr>\n",
              "    <tr>\n",
              "      <th>3</th>\n",
              "      <td>3</td>\n",
              "      <td>0.927114</td>\n",
              "      <td>67.225998</td>\n",
              "      <td>0.887689</td>\n",
              "      <td>69.349998</td>\n",
              "    </tr>\n",
              "    <tr>\n",
              "      <th>4</th>\n",
              "      <td>4</td>\n",
              "      <td>0.793640</td>\n",
              "      <td>71.737999</td>\n",
              "      <td>0.799196</td>\n",
              "      <td>72.680000</td>\n",
              "    </tr>\n",
              "  </tbody>\n",
              "</table>\n",
              "</div>\n",
              "      <button class=\"colab-df-convert\" onclick=\"convertToInteractive('df-a85cf6e5-1bdf-493a-8eca-869a19786b9b')\"\n",
              "              title=\"Convert this dataframe to an interactive table.\"\n",
              "              style=\"display:none;\">\n",
              "        \n",
              "  <svg xmlns=\"http://www.w3.org/2000/svg\" height=\"24px\"viewBox=\"0 0 24 24\"\n",
              "       width=\"24px\">\n",
              "    <path d=\"M0 0h24v24H0V0z\" fill=\"none\"/>\n",
              "    <path d=\"M18.56 5.44l.94 2.06.94-2.06 2.06-.94-2.06-.94-.94-2.06-.94 2.06-2.06.94zm-11 1L8.5 8.5l.94-2.06 2.06-.94-2.06-.94L8.5 2.5l-.94 2.06-2.06.94zm10 10l.94 2.06.94-2.06 2.06-.94-2.06-.94-.94-2.06-.94 2.06-2.06.94z\"/><path d=\"M17.41 7.96l-1.37-1.37c-.4-.4-.92-.59-1.43-.59-.52 0-1.04.2-1.43.59L10.3 9.45l-7.72 7.72c-.78.78-.78 2.05 0 2.83L4 21.41c.39.39.9.59 1.41.59.51 0 1.02-.2 1.41-.59l7.78-7.78 2.81-2.81c.8-.78.8-2.07 0-2.86zM5.41 20L4 18.59l7.72-7.72 1.47 1.35L5.41 20z\"/>\n",
              "  </svg>\n",
              "      </button>\n",
              "      \n",
              "  <style>\n",
              "    .colab-df-container {\n",
              "      display:flex;\n",
              "      flex-wrap:wrap;\n",
              "      gap: 12px;\n",
              "    }\n",
              "\n",
              "    .colab-df-convert {\n",
              "      background-color: #E8F0FE;\n",
              "      border: none;\n",
              "      border-radius: 50%;\n",
              "      cursor: pointer;\n",
              "      display: none;\n",
              "      fill: #1967D2;\n",
              "      height: 32px;\n",
              "      padding: 0 0 0 0;\n",
              "      width: 32px;\n",
              "    }\n",
              "\n",
              "    .colab-df-convert:hover {\n",
              "      background-color: #E2EBFA;\n",
              "      box-shadow: 0px 1px 2px rgba(60, 64, 67, 0.3), 0px 1px 3px 1px rgba(60, 64, 67, 0.15);\n",
              "      fill: #174EA6;\n",
              "    }\n",
              "\n",
              "    [theme=dark] .colab-df-convert {\n",
              "      background-color: #3B4455;\n",
              "      fill: #D2E3FC;\n",
              "    }\n",
              "\n",
              "    [theme=dark] .colab-df-convert:hover {\n",
              "      background-color: #434B5C;\n",
              "      box-shadow: 0px 1px 3px 1px rgba(0, 0, 0, 0.15);\n",
              "      filter: drop-shadow(0px 1px 2px rgba(0, 0, 0, 0.3));\n",
              "      fill: #FFFFFF;\n",
              "    }\n",
              "  </style>\n",
              "\n",
              "      <script>\n",
              "        const buttonEl =\n",
              "          document.querySelector('#df-a85cf6e5-1bdf-493a-8eca-869a19786b9b button.colab-df-convert');\n",
              "        buttonEl.style.display =\n",
              "          google.colab.kernel.accessAllowed ? 'block' : 'none';\n",
              "\n",
              "        async function convertToInteractive(key) {\n",
              "          const element = document.querySelector('#df-a85cf6e5-1bdf-493a-8eca-869a19786b9b');\n",
              "          const dataTable =\n",
              "            await google.colab.kernel.invokeFunction('convertToInteractive',\n",
              "                                                     [key], {});\n",
              "          if (!dataTable) return;\n",
              "\n",
              "          const docLinkHtml = 'Like what you see? Visit the ' +\n",
              "            '<a target=\"_blank\" href=https://colab.research.google.com/notebooks/data_table.ipynb>data table notebook</a>'\n",
              "            + ' to learn more about interactive tables.';\n",
              "          element.innerHTML = '';\n",
              "          dataTable['output_type'] = 'display_data';\n",
              "          await google.colab.output.renderOutput(dataTable, element);\n",
              "          const docLink = document.createElement('div');\n",
              "          docLink.innerHTML = docLinkHtml;\n",
              "          element.appendChild(docLink);\n",
              "        }\n",
              "      </script>\n",
              "    </div>\n",
              "  </div>\n",
              "  "
            ]
          },
          "metadata": {},
          "execution_count": 20
        }
      ],
      "source": [
        "# plot results\n",
        "results = pd.read_csv('/content/results/ResNet_.csv', sep=',')\n",
        "results.head()"
      ]
    },
    {
      "cell_type": "code",
      "execution_count": 21,
      "metadata": {
        "execution": {},
        "id": "Xt5nJPPWURdo",
        "outputId": "1599bc9d-8048-4da5-ffac-7e4100efb1de",
        "colab": {
          "base_uri": "https://localhost:8080/"
        }
      },
      "outputs": [
        {
          "output_type": "stream",
          "name": "stdout",
          "text": [
            "Average test Accuracy over 25 epochs: 79.0\n",
            "best test accuraccy over 25 epochs: 88.55000305175781\n"
          ]
        }
      ],
      "source": [
        "train_accuracy = results['train acc'].values\n",
        "test_accuracy = results['test acc'].values\n",
        "\n",
        "print(f\"Average test Accuracy over {end_apochs} epochs: {sum(test_accuracy)//len(test_accuracy)}\")\n",
        "print(f\"best test accuraccy over {end_apochs} epochs: {max(test_accuracy)}\")"
      ]
    },
    {
      "cell_type": "code",
      "execution_count": 22,
      "metadata": {
        "execution": {},
        "id": "KX_QFkduURdo",
        "outputId": "72efd188-60aa-4379-cd84-05bf324fc3ce",
        "colab": {
          "base_uri": "https://localhost:8080/",
          "height": 404
        }
      },
      "outputs": [
        {
          "output_type": "display_data",
          "data": {
            "text/plain": [
              "<Figure size 648x432 with 1 Axes>"
            ],
            "image/png": "[encoded data removed]"
          },
          "metadata": {
            "needs_background": "light"
          }
        }
      ],
      "source": [
        "figureName = 'WithMixUp' # change figure name\n",
        "\n",
        "plt.figure(figsize=(9, 6))\n",
        "plt.plot(results['epoch'].values, train_accuracy, label='train')\n",
        "plt.plot(results['epoch'].values, test_accuracy, label='test')\n",
        "plt.xlabel('Number of epochs')\n",
        "plt.ylabel('Accuracy')\n",
        "plt.title(f'Train/Test Accuracy curve for {end_apochs} epochs')\n",
        "plt.savefig(f'/content/results/{figureName}.png')\n",
        "plt.legend()\n",
        "plt.show()"
      ]
    },
    {
      "cell_type": "code",
      "source": [],
      "metadata": {
        "id": "WBKrRwPZwcO_"
      },
      "execution_count": null,
      "outputs": []
    },
    {
      "cell_type": "markdown",
      "source": [
        "# Training with Corrupt Data"
      ],
      "metadata": {
        "id": "jgDf54YPITJU"
      }
    },
    {
      "cell_type": "code",
      "source": [
        "data = np.load('glass_blur.npy')\n",
        "label = (np.load('labels.npy'))"
      ],
      "metadata": {
        "id": "nvfqPYrARcAv"
      },
      "execution_count": 23,
      "outputs": []
    },
    {
      "cell_type": "code",
      "source": [
        "data.shape"
      ],
      "metadata": {
        "colab": {
          "base_uri": "https://localhost:8080/"
        },
        "id": "n8fO1af4d6Nh",
        "outputId": "f17b5760-035d-4af9-8616-a8088fbd525d"
      },
      "execution_count": 24,
      "outputs": [
        {
          "output_type": "execute_result",
          "data": {
            "text/plain": [
              "(50000, 32, 32, 3)"
            ]
          },
          "metadata": {},
          "execution_count": 24
        }
      ]
    },
    {
      "cell_type": "code",
      "source": [
        "label.shape"
      ],
      "metadata": {
        "colab": {
          "base_uri": "https://localhost:8080/"
        },
        "id": "ITRgs9Yvd4i0",
        "outputId": "c5f96fdd-e587-419d-f2c6-d93aff17c16e"
      },
      "execution_count": 25,
      "outputs": [
        {
          "output_type": "execute_result",
          "data": {
            "text/plain": [
              "(50000,)"
            ]
          },
          "metadata": {},
          "execution_count": 25
        }
      ]
    },
    {
      "cell_type": "code",
      "source": [
        "ctrain = data[:40000]\n",
        "ctrainlabel = label[:40000]\n",
        "ctest = data[40000:50000]\n",
        "ctestlabel = label[40000:50000]"
      ],
      "metadata": {
        "id": "DXVMjxIVRmlF"
      },
      "execution_count": 26,
      "outputs": []
    },
    {
      "cell_type": "code",
      "source": [
        "plt.imshow(data[0])"
      ],
      "metadata": {
        "colab": {
          "base_uri": "https://localhost:8080/",
          "height": 284
        },
        "id": "ODrZTkUbSQlo",
        "outputId": "f0331b51-926d-4c5c-8518-31a4d12ae997"
      },
      "execution_count": 27,
      "outputs": [
        {
          "output_type": "execute_result",
          "data": {
            "text/plain": [
              "<matplotlib.image.AxesImage at 0x7f74ba8db580>"
            ]
          },
          "metadata": {},
          "execution_count": 27
        },
        {
          "output_type": "display_data",
          "data": {
            "text/plain": [
              "<Figure size 432x288 with 1 Axes>"
            ],
            "image/png": "[encoded data removed]"
          },
          "metadata": {
            "needs_background": "light"
          }
        }
      ]
    },
    {
      "cell_type": "code",
      "source": [
        "class CustomDataset(Dataset):\n",
        "  def __init__(self):\n",
        "    self.data = ctrain\n",
        "    self.labels = ctrainlabel\n",
        "    self.transform = transforms.Compose([\n",
        "      transforms.ToTensor(),\n",
        "      transforms.Normalize(mean, std),\n",
        "      transforms.RandomHorizontalFlip(),\n",
        "      transforms.RandomCrop(32, padding=4)\n",
        "    ])\n",
        "  \n",
        "  def __getitem__(self,index):\n",
        "    return (self.transform(self.data[index]), torch.tensor(self.labels[index],dtype=torch.long))\n",
        "  \n",
        "  def __len__(self):\n",
        "    return len(self.labels)"
      ],
      "metadata": {
        "id": "dqgGeHoDSXcI"
      },
      "execution_count": 28,
      "outputs": []
    },
    {
      "cell_type": "code",
      "source": [
        "trainset = CustomDataset()"
      ],
      "metadata": {
        "id": "xWb6epyfyRx1"
      },
      "execution_count": 29,
      "outputs": []
    },
    {
      "cell_type": "code",
      "source": [
        "testset.data = ctest\n",
        "testset.targets = torch.LongTensor(ctestlabel)"
      ],
      "metadata": {
        "id": "-QnFWnTkfzXq"
      },
      "execution_count": 30,
      "outputs": []
    },
    {
      "cell_type": "code",
      "source": [
        "print(f\"Object type: {type(trainset)}\")\n",
        "print(f\"Training data shape: {trainset.data.shape}\")\n",
        "print(f\"Test data shape: {testset.data.shape}\")\n",
        "print(f\"Number of classes: {np.unique(testset.targets).shape[0]}\")"
      ],
      "metadata": {
        "colab": {
          "base_uri": "https://localhost:8080/"
        },
        "id": "qJ8rncaBIM7s",
        "outputId": "b0467697-6677-4e18-b6a3-ca7d8311e0fe"
      },
      "execution_count": 31,
      "outputs": [
        {
          "output_type": "stream",
          "name": "stdout",
          "text": [
            "Object type: <class '__main__.CustomDataset'>\n",
            "Training data shape: (40000, 32, 32, 3)\n",
            "Test data shape: (10000, 32, 32, 3)\n",
            "Number of classes: 10\n"
          ]
        }
      ]
    },
    {
      "cell_type": "code",
      "source": [
        "# Dataloader\n",
        "num_workers = multiprocessing.cpu_count()\n",
        "\n",
        "print(f'----> number of workers: {num_workers}')\n",
        "\n",
        "trainloader = torch.utils.data.DataLoader(trainset, batch_size=batch_size, shuffle=True, num_workers=num_workers)\n",
        "testloader = torch.utils.data.DataLoader(testset, batch_size=batch_size, shuffle=False, num_workers=num_workers)"
      ],
      "metadata": {
        "colab": {
          "base_uri": "https://localhost:8080/"
        },
        "id": "_UZ4LZqcJaJ0",
        "outputId": "cb22da41-0c08-46d6-affa-b7e04bb7980d"
      },
      "execution_count": 32,
      "outputs": [
        {
          "output_type": "stream",
          "name": "stdout",
          "text": [
            "----> number of workers: 2\n"
          ]
        }
      ]
    },
    {
      "cell_type": "markdown",
      "source": [
        "## Visualization\n",
        "\n",
        "To visualize some of the augmentations, make sure you set to ```True``` their corresponding flags in the hyperparameters section"
      ],
      "metadata": {
        "id": "okberFfZImk7"
      }
    },
    {
      "cell_type": "code",
      "source": [
        "# get batch of data\n",
        "itr = iter(trainloader)\n",
        "batch_X, batch_Y =  next(itr)"
      ],
      "metadata": {
        "id": "l4Qp4OmOIpAi"
      },
      "execution_count": 33,
      "outputs": []
    },
    {
      "cell_type": "code",
      "source": [
        "plot_mixed_images(batch_X[:4])"
      ],
      "metadata": {
        "colab": {
          "base_uri": "https://localhost:8080/",
          "height": 171
        },
        "id": "7R9A52uUIpDP",
        "outputId": "6ab703d1-7851-4712-d4cc-4e9cd98dd301"
      },
      "execution_count": 34,
      "outputs": [
        {
          "output_type": "display_data",
          "data": {
            "text/plain": [
              "<Figure size 720x576 with 4 Axes>"
            ],
            "image/png": "[encoded data removed]"
          },
          "metadata": {
            "needs_background": "light"
          }
        }
      ]
    },
    {
      "cell_type": "code",
      "source": [
        "batch_X.type"
      ],
      "metadata": {
        "colab": {
          "base_uri": "https://localhost:8080/"
        },
        "id": "O4lJka2QM0JJ",
        "outputId": "65d2d065-b476-47df-84ee-b567b7cb6371"
      },
      "execution_count": 35,
      "outputs": [
        {
          "output_type": "execute_result",
          "data": {
            "text/plain": [
              "<function Tensor.type>"
            ]
          },
          "metadata": {},
          "execution_count": 35
        }
      ]
    },
    {
      "cell_type": "markdown",
      "source": [
        "# Training"
      ],
      "metadata": {
        "id": "M6cqu4_CI2Ne"
      }
    },
    {
      "cell_type": "code",
      "source": [
        "# start training\n",
        "if not os.path.exists(logname):\n",
        "  with open(logname, 'w') as logfile:\n",
        "    logwriter = csv.writer(logfile, delimiter=',')\n",
        "    logwriter.writerow(['epoch', 'train loss', 'train acc',\n",
        "                        'test loss', 'test acc'])\n",
        "\n",
        "for epoch in range(start_epoch, end_apochs):\n",
        "  adjust_learning_rate(optimizer, epoch)\n",
        "  train_loss, train_acc = train(epoch, alpha, use_cuda=use_cuda)\n",
        "  test_loss, test_acc = test(epoch, use_cuda=use_cuda)\n",
        "  with open(logname, 'a') as logfile:\n",
        "    logwriter = csv.writer(logfile, delimiter=',')\n",
        "    logwriter.writerow([epoch, train_loss, train_acc.item(),\n",
        "                        test_loss, test_acc.item()])\n",
        "  print(f'Epoch: {epoch} | train acc: {train_acc} | test acc: {test_acc}')"
      ],
      "metadata": {
        "colab": {
          "base_uri": "https://localhost:8080/"
        },
        "id": "2KFC0hKKIpFz",
        "outputId": "ba857f97-a6be-4a1f-f4e4-f20c86bc780c"
      },
      "execution_count": 36,
      "outputs": [
        {
          "output_type": "stream",
          "name": "stdout",
          "text": [
            "\n",
            "Epoch: 0\n",
            "0 313 Loss: 1.228 | Acc: 66.406% (85/128)\n",
            "0 79 Loss: 0.451 | Acc: 83.594% (107/128)\n",
            "Epoch: 0 | train acc: 79.84500122070312 | test acc: 81.4000015258789\n",
            "\n",
            "Epoch: 1\n",
            "0 313 Loss: 0.375 | Acc: 91.406% (117/128)\n",
            "0 79 Loss: 0.482 | Acc: 85.156% (109/128)\n",
            "Epoch: 1 | train acc: 86.01249694824219 | test acc: 81.36000061035156\n",
            "\n",
            "Epoch: 2\n",
            "0 313 Loss: 0.346 | Acc: 85.938% (110/128)\n",
            "0 79 Loss: 0.316 | Acc: 89.062% (114/128)\n",
            "Epoch: 2 | train acc: 88.5374984741211 | test acc: 85.88999938964844\n",
            "\n",
            "Epoch: 3\n",
            "0 313 Loss: 0.367 | Acc: 86.719% (111/128)\n",
            "0 79 Loss: 0.402 | Acc: 83.594% (107/128)\n",
            "Epoch: 3 | train acc: 90.7074966430664 | test acc: 85.12000274658203\n",
            "\n",
            "Epoch: 4\n",
            "0 313 Loss: 0.208 | Acc: 92.188% (118/128)\n",
            "0 79 Loss: 0.302 | Acc: 91.406% (117/128)\n",
            "Saving..\n",
            "Epoch: 4 | train acc: 92.03500366210938 | test acc: 89.1500015258789\n",
            "\n",
            "Epoch: 5\n",
            "0 313 Loss: 0.167 | Acc: 92.969% (119/128)\n",
            "0 79 Loss: 0.176 | Acc: 93.750% (120/128)\n",
            "Epoch: 5 | train acc: 93.21499633789062 | test acc: 88.30000305175781\n",
            "\n",
            "Epoch: 6\n",
            "0 313 Loss: 0.274 | Acc: 92.969% (119/128)\n",
            "0 79 Loss: 0.155 | Acc: 95.312% (122/128)\n",
            "Saving..\n",
            "Epoch: 6 | train acc: 94.0374984741211 | test acc: 91.73999786376953\n",
            "\n",
            "Epoch: 7\n",
            "0 313 Loss: 0.144 | Acc: 94.531% (121/128)\n",
            "0 79 Loss: 0.236 | Acc: 88.281% (113/128)\n",
            "Epoch: 7 | train acc: 94.4375 | test acc: 91.5999984741211\n",
            "\n",
            "Epoch: 8\n",
            "0 313 Loss: 0.079 | Acc: 98.438% (126/128)\n",
            "0 79 Loss: 0.223 | Acc: 92.188% (118/128)\n",
            "Epoch: 8 | train acc: 95.48249816894531 | test acc: 91.5\n",
            "\n",
            "Epoch: 9\n",
            "0 313 Loss: 0.066 | Acc: 96.875% (124/128)\n",
            "0 79 Loss: 0.209 | Acc: 92.188% (118/128)\n",
            "Saving..\n",
            "Epoch: 9 | train acc: 95.5199966430664 | test acc: 92.66000366210938\n",
            "\n",
            "Epoch: 10\n",
            "0 313 Loss: 0.156 | Acc: 94.531% (121/128)\n",
            "0 79 Loss: 0.099 | Acc: 96.094% (123/128)\n",
            "Saving..\n",
            "Epoch: 10 | train acc: 95.66500091552734 | test acc: 92.79000091552734\n",
            "\n",
            "Epoch: 11\n",
            "0 313 Loss: 0.107 | Acc: 98.438% (126/128)\n",
            "0 79 Loss: 0.139 | Acc: 94.531% (121/128)\n",
            "Epoch: 11 | train acc: 96.33000183105469 | test acc: 91.2699966430664\n",
            "\n",
            "Epoch: 12\n",
            "0 313 Loss: 0.084 | Acc: 97.656% (125/128)\n",
            "0 79 Loss: 0.114 | Acc: 94.531% (121/128)\n",
            "Epoch: 12 | train acc: 96.43000030517578 | test acc: 91.68000030517578\n",
            "\n",
            "Epoch: 13\n",
            "0 313 Loss: 0.123 | Acc: 96.875% (124/128)\n",
            "0 79 Loss: 0.185 | Acc: 91.406% (117/128)\n",
            "Epoch: 13 | train acc: 96.47000122070312 | test acc: 92.26000213623047\n",
            "\n",
            "Epoch: 14\n",
            "0 313 Loss: 0.078 | Acc: 97.656% (125/128)\n",
            "0 79 Loss: 0.121 | Acc: 95.312% (122/128)\n",
            "Saving..\n",
            "Epoch: 14 | train acc: 96.8499984741211 | test acc: 93.0999984741211\n",
            "\n",
            "Epoch: 15\n",
            "0 313 Loss: 0.082 | Acc: 97.656% (125/128)\n",
            "0 79 Loss: 0.097 | Acc: 96.094% (123/128)\n",
            "Epoch: 15 | train acc: 97.17749786376953 | test acc: 92.83999633789062\n",
            "\n",
            "Epoch: 16\n",
            "0 313 Loss: 0.157 | Acc: 95.312% (122/128)\n",
            "0 79 Loss: 0.119 | Acc: 96.094% (123/128)\n",
            "Saving..\n",
            "Epoch: 16 | train acc: 96.9625015258789 | test acc: 93.37999725341797\n",
            "\n",
            "Epoch: 17\n",
            "0 313 Loss: 0.065 | Acc: 96.875% (124/128)\n",
            "0 79 Loss: 0.125 | Acc: 94.531% (121/128)\n",
            "Saving..\n",
            "Epoch: 17 | train acc: 97.1875 | test acc: 94.83999633789062\n",
            "\n",
            "Epoch: 18\n",
            "0 313 Loss: 0.086 | Acc: 95.312% (122/128)\n",
            "0 79 Loss: 0.172 | Acc: 94.531% (121/128)\n",
            "Saving..\n",
            "Epoch: 18 | train acc: 97.24250030517578 | test acc: 95.0\n",
            "\n",
            "Epoch: 19\n",
            "0 313 Loss: 0.071 | Acc: 96.094% (123/128)\n",
            "0 79 Loss: 0.139 | Acc: 96.094% (123/128)\n",
            "Epoch: 19 | train acc: 97.15249633789062 | test acc: 94.08000183105469\n",
            "\n",
            "Epoch: 20\n",
            "0 313 Loss: 0.089 | Acc: 95.312% (122/128)\n",
            "0 79 Loss: 0.131 | Acc: 94.531% (121/128)\n",
            "Epoch: 20 | train acc: 97.5625 | test acc: 93.54000091552734\n",
            "\n",
            "Epoch: 21\n",
            "0 313 Loss: 0.054 | Acc: 97.656% (125/128)\n",
            "0 79 Loss: 0.120 | Acc: 96.094% (123/128)\n",
            "Epoch: 21 | train acc: 97.5 | test acc: 94.97000122070312\n",
            "\n",
            "Epoch: 22\n",
            "0 313 Loss: 0.082 | Acc: 96.094% (123/128)\n",
            "0 79 Loss: 0.103 | Acc: 96.094% (123/128)\n",
            "Saving..\n",
            "Epoch: 22 | train acc: 97.72000122070312 | test acc: 95.30999755859375\n",
            "\n",
            "Epoch: 23\n",
            "0 313 Loss: 0.019 | Acc: 100.000% (128/128)\n",
            "0 79 Loss: 0.078 | Acc: 96.875% (124/128)\n",
            "Saving..\n",
            "Epoch: 23 | train acc: 97.4749984741211 | test acc: 95.66000366210938\n",
            "\n",
            "Epoch: 24\n",
            "0 313 Loss: 0.056 | Acc: 98.438% (126/128)\n",
            "0 79 Loss: 0.137 | Acc: 94.531% (121/128)\n",
            "Epoch: 24 | train acc: 97.69000244140625 | test acc: 94.01000213623047\n"
          ]
        }
      ]
    },
    {
      "cell_type": "code",
      "source": [
        "# plot results\n",
        "results = pd.read_csv('/content/results/ResNet_.csv', sep=',')\n",
        "results.head()"
      ],
      "metadata": {
        "id": "XwwN7vFNIpIv",
        "colab": {
          "base_uri": "https://localhost:8080/",
          "height": 206
        },
        "outputId": "6a6c6474-f4c8-4445-c89c-7c814e6b17e7"
      },
      "execution_count": 37,
      "outputs": [
        {
          "output_type": "execute_result",
          "data": {
            "text/plain": [
              "   epoch  train loss  train acc  test loss   test acc\n",
              "0      0    1.888565  32.290001   1.547163  43.709999\n",
              "1      1    1.392759  49.130001   1.263295  55.220001\n",
              "2      2    1.110010  60.585999   0.995586  64.430000\n",
              "3      3    0.927114  67.225998   0.887689  69.349998\n",
              "4      4    0.793640  71.737999   0.799196  72.680000"
            ],
            "text/html": [
              "\n",
              "  <div id=\"df-14da2cab-a1ac-4e8f-9a03-09ae20b764f9\">\n",
              "    <div class=\"colab-df-container\">\n",
              "      <div>\n",
              "<style scoped>\n",
              "    .dataframe tbody tr th:only-of-type {\n",
              "        vertical-align: middle;\n",
              "    }\n",
              "\n",
              "    .dataframe tbody tr th {\n",
              "        vertical-align: top;\n",
              "    }\n",
              "\n",
              "    .dataframe thead th {\n",
              "        text-align: right;\n",
              "    }\n",
              "</style>\n",
              "<table border=\"1\" class=\"dataframe\">\n",
              "  <thead>\n",
              "    <tr style=\"text-align: right;\">\n",
              "      <th></th>\n",
              "      <th>epoch</th>\n",
              "      <th>train loss</th>\n",
              "      <th>train acc</th>\n",
              "      <th>test loss</th>\n",
              "      <th>test acc</th>\n",
              "    </tr>\n",
              "  </thead>\n",
              "  <tbody>\n",
              "    <tr>\n",
              "      <th>0</th>\n",
              "      <td>0</td>\n",
              "      <td>1.888565</td>\n",
              "      <td>32.290001</td>\n",
              "      <td>1.547163</td>\n",
              "      <td>43.709999</td>\n",
              "    </tr>\n",
              "    <tr>\n",
              "      <th>1</th>\n",
              "      <td>1</td>\n",
              "      <td>1.392759</td>\n",
              "      <td>49.130001</td>\n",
              "      <td>1.263295</td>\n",
              "      <td>55.220001</td>\n",
              "    </tr>\n",
              "    <tr>\n",
              "      <th>2</th>\n",
              "      <td>2</td>\n",
              "      <td>1.110010</td>\n",
              "      <td>60.585999</td>\n",
              "      <td>0.995586</td>\n",
              "      <td>64.430000</td>\n",
              "    </tr>\n",
              "    <tr>\n",
              "      <th>3</th>\n",
              "      <td>3</td>\n",
              "      <td>0.927114</td>\n",
              "      <td>67.225998</td>\n",
              "      <td>0.887689</td>\n",
              "      <td>69.349998</td>\n",
              "    </tr>\n",
              "    <tr>\n",
              "      <th>4</th>\n",
              "      <td>4</td>\n",
              "      <td>0.793640</td>\n",
              "      <td>71.737999</td>\n",
              "      <td>0.799196</td>\n",
              "      <td>72.680000</td>\n",
              "    </tr>\n",
              "  </tbody>\n",
              "</table>\n",
              "</div>\n",
              "      <button class=\"colab-df-convert\" onclick=\"convertToInteractive('df-14da2cab-a1ac-4e8f-9a03-09ae20b764f9')\"\n",
              "              title=\"Convert this dataframe to an interactive table.\"\n",
              "              style=\"display:none;\">\n",
              "        \n",
              "  <svg xmlns=\"http://www.w3.org/2000/svg\" height=\"24px\"viewBox=\"0 0 24 24\"\n",
              "       width=\"24px\">\n",
              "    <path d=\"M0 0h24v24H0V0z\" fill=\"none\"/>\n",
              "    <path d=\"M18.56 5.44l.94 2.06.94-2.06 2.06-.94-2.06-.94-.94-2.06-.94 2.06-2.06.94zm-11 1L8.5 8.5l.94-2.06 2.06-.94-2.06-.94L8.5 2.5l-.94 2.06-2.06.94zm10 10l.94 2.06.94-2.06 2.06-.94-2.06-.94-.94-2.06-.94 2.06-2.06.94z\"/><path d=\"M17.41 7.96l-1.37-1.37c-.4-.4-.92-.59-1.43-.59-.52 0-1.04.2-1.43.59L10.3 9.45l-7.72 7.72c-.78.78-.78 2.05 0 2.83L4 21.41c.39.39.9.59 1.41.59.51 0 1.02-.2 1.41-.59l7.78-7.78 2.81-2.81c.8-.78.8-2.07 0-2.86zM5.41 20L4 18.59l7.72-7.72 1.47 1.35L5.41 20z\"/>\n",
              "  </svg>\n",
              "      </button>\n",
              "      \n",
              "  <style>\n",
              "    .colab-df-container {\n",
              "      display:flex;\n",
              "      flex-wrap:wrap;\n",
              "      gap: 12px;\n",
              "    }\n",
              "\n",
              "    .colab-df-convert {\n",
              "      background-color: #E8F0FE;\n",
              "      border: none;\n",
              "      border-radius: 50%;\n",
              "      cursor: pointer;\n",
              "      display: none;\n",
              "      fill: #1967D2;\n",
              "      height: 32px;\n",
              "      padding: 0 0 0 0;\n",
              "      width: 32px;\n",
              "    }\n",
              "\n",
              "    .colab-df-convert:hover {\n",
              "      background-color: #E2EBFA;\n",
              "      box-shadow: 0px 1px 2px rgba(60, 64, 67, 0.3), 0px 1px 3px 1px rgba(60, 64, 67, 0.15);\n",
              "      fill: #174EA6;\n",
              "    }\n",
              "\n",
              "    [theme=dark] .colab-df-convert {\n",
              "      background-color: #3B4455;\n",
              "      fill: #D2E3FC;\n",
              "    }\n",
              "\n",
              "    [theme=dark] .colab-df-convert:hover {\n",
              "      background-color: #434B5C;\n",
              "      box-shadow: 0px 1px 3px 1px rgba(0, 0, 0, 0.15);\n",
              "      filter: drop-shadow(0px 1px 2px rgba(0, 0, 0, 0.3));\n",
              "      fill: #FFFFFF;\n",
              "    }\n",
              "  </style>\n",
              "\n",
              "      <script>\n",
              "        const buttonEl =\n",
              "          document.querySelector('#df-14da2cab-a1ac-4e8f-9a03-09ae20b764f9 button.colab-df-convert');\n",
              "        buttonEl.style.display =\n",
              "          google.colab.kernel.accessAllowed ? 'block' : 'none';\n",
              "\n",
              "        async function convertToInteractive(key) {\n",
              "          const element = document.querySelector('#df-14da2cab-a1ac-4e8f-9a03-09ae20b764f9');\n",
              "          const dataTable =\n",
              "            await google.colab.kernel.invokeFunction('convertToInteractive',\n",
              "                                                     [key], {});\n",
              "          if (!dataTable) return;\n",
              "\n",
              "          const docLinkHtml = 'Like what you see? Visit the ' +\n",
              "            '<a target=\"_blank\" href=https://colab.research.google.com/notebooks/data_table.ipynb>data table notebook</a>'\n",
              "            + ' to learn more about interactive tables.';\n",
              "          element.innerHTML = '';\n",
              "          dataTable['output_type'] = 'display_data';\n",
              "          await google.colab.output.renderOutput(dataTable, element);\n",
              "          const docLink = document.createElement('div');\n",
              "          docLink.innerHTML = docLinkHtml;\n",
              "          element.appendChild(docLink);\n",
              "        }\n",
              "      </script>\n",
              "    </div>\n",
              "  </div>\n",
              "  "
            ]
          },
          "metadata": {},
          "execution_count": 37
        }
      ]
    },
    {
      "cell_type": "code",
      "source": [
        "train_accuracy = results['train acc'].values\n",
        "test_accuracy = results['test acc'].values\n",
        "\n",
        "print(f\"Average test Accuracy over {end_apochs} epochs: {sum(test_accuracy)//len(test_accuracy)}\")\n",
        "print(f\"best test accuraccy over {end_apochs} epochs: {max(test_accuracy)}\")"
      ],
      "metadata": {
        "id": "Y9Q7MCiNIpLZ",
        "colab": {
          "base_uri": "https://localhost:8080/"
        },
        "outputId": "7e963fed-f87c-4f32-b825-a2a41c7edefe"
      },
      "execution_count": 38,
      "outputs": [
        {
          "output_type": "stream",
          "name": "stdout",
          "text": [
            "Average test Accuracy over 25 epochs: 85.0\n",
            "best test accuraccy over 25 epochs: 95.66000366210938\n"
          ]
        }
      ]
    },
    {
      "cell_type": "code",
      "source": [
        "figureName = 'WithCorruptdata' # change figure name\n",
        "\n",
        "plt.figure(figsize=(9, 6))\n",
        "plt.plot(results['epoch'].values, train_accuracy, label='train')\n",
        "plt.plot(results['epoch'].values, test_accuracy, label='test')\n",
        "plt.xlabel('Number of epochs')\n",
        "plt.ylabel('Accuracy')\n",
        "plt.title(f'Train/Test Accuracy curve for {end_apochs} epochs')\n",
        "plt.savefig(f'/content/results/{figureName}.png')\n",
        "plt.legend()\n",
        "plt.show()"
      ],
      "metadata": {
        "id": "iDqRPh4QoOcf",
        "colab": {
          "base_uri": "https://localhost:8080/",
          "height": 404
        },
        "outputId": "36a98cd0-0192-4563-fdd9-597d4a9ff5d6"
      },
      "execution_count": 39,
      "outputs": [
        {
          "output_type": "display_data",
          "data": {
            "text/plain": [
              "<Figure size 648x432 with 1 Axes>"
            ],
            "image/png": "[encoded data removed]"
          },
          "metadata": {
            "needs_background": "light"
          }
        }
      ]
    },
    {
      "cell_type": "markdown",
      "source": [
        "# FGSM Attack\n"
      ],
      "metadata": {
        "id": "krAj5b2kH2j2"
      }
    },
    {
      "cell_type": "code",
      "source": [
        "import tqdm\n",
        "!pip install adversarial-robustness-toolbox"
      ],
      "metadata": {
        "colab": {
          "base_uri": "https://localhost:8080/"
        },
        "id": "sv0OzUlOw5ae",
        "outputId": "be04a190-0f6f-4360-be93-5fbd19ca98e2"
      },
      "execution_count": 40,
      "outputs": [
        {
          "output_type": "stream",
          "name": "stdout",
          "text": [
            "Looking in indexes: https://pypi.org/simple, https://us-python.pkg.dev/colab-wheels/public/simple/\n",
            "Collecting adversarial-robustness-toolbox\n",
            "  Downloading adversarial_robustness_toolbox-1.13.0-py3-none-any.whl (1.4 MB)\n",
            "\u001b[K     |████████████████████████████████| 1.4 MB 14.3 MB/s \n",
            "\u001b[?25hRequirement already satisfied: six in /usr/local/lib/python3.8/dist-packages (from adversarial-robustness-toolbox) (1.15.0)\n",
            "Requirement already satisfied: numpy>=1.18.0 in /usr/local/lib/python3.8/dist-packages (from adversarial-robustness-toolbox) (1.21.6)\n",
            "Requirement already satisfied: scipy>=1.4.1 in /usr/local/lib/python3.8/dist-packages (from adversarial-robustness-toolbox) (1.7.3)\n",
            "Requirement already satisfied: scikit-learn<1.2.0,>=0.22.2 in /usr/local/lib/python3.8/dist-packages (from adversarial-robustness-toolbox) (1.0.2)\n",
            "Requirement already satisfied: tqdm in /usr/local/lib/python3.8/dist-packages (from adversarial-robustness-toolbox) (4.64.1)\n",
            "Requirement already satisfied: setuptools in /usr/local/lib/python3.8/dist-packages (from adversarial-robustness-toolbox) (57.4.0)\n",
            "Requirement already satisfied: threadpoolctl>=2.0.0 in /usr/local/lib/python3.8/dist-packages (from scikit-learn<1.2.0,>=0.22.2->adversarial-robustness-toolbox) (3.1.0)\n",
            "Requirement already satisfied: joblib>=0.11 in /usr/local/lib/python3.8/dist-packages (from scikit-learn<1.2.0,>=0.22.2->adversarial-robustness-toolbox) (1.2.0)\n",
            "Installing collected packages: adversarial-robustness-toolbox\n",
            "Successfully installed adversarial-robustness-toolbox-1.13.0\n"
          ]
        }
      ]
    },
    {
      "cell_type": "code",
      "source": [
        "from art.estimators.classification import PyTorchClassifier\n",
        "from skimage.metrics import structural_similarity as ssim\n",
        "\n",
        "from art.attacks.evasion import ProjectedGradientDescent\n",
        "from art.attacks.evasion import FastGradientMethod"
      ],
      "metadata": {
        "id": "5GQTZxmuw9nS"
      },
      "execution_count": 41,
      "outputs": []
    },
    {
      "cell_type": "code",
      "source": [
        "def softmax_activation(inputs): \n",
        "    inputs = inputs.tolist()\n",
        "    exp_values = np.exp(inputs - np.max(inputs)) \n",
        "    \n",
        "    # Normalize \n",
        "    probabilities = exp_values / np.sum(exp_values)\n",
        "    return probabilities "
      ],
      "metadata": {
        "id": "alN7__TixCN-"
      },
      "execution_count": 42,
      "outputs": []
    },
    {
      "cell_type": "code",
      "source": [
        "def compare_images(imageA, imageB):\n",
        "    return 1 - ssim(imageA, imageB, multichannel=True) "
      ],
      "metadata": {
        "id": "MujZNJ0KxCqk"
      },
      "execution_count": 43,
      "outputs": []
    },
    {
      "cell_type": "code",
      "source": [
        "def get_default_device():\n",
        "    \"\"\"Pick GPU if available, else CPU\"\"\"\n",
        "    if torch.cuda.is_available():\n",
        "        return torch.device('cuda')\n",
        "    else:\n",
        "        return torch.device('cpu')\n",
        "    \n",
        "def to_device(data, device):\n",
        "    \"\"\"Move tensor(s) to chosen device\"\"\"\n",
        "    if isinstance(data, (list,tuple)):\n",
        "        return [to_device(x, device) for x in data]\n",
        "    return data.to(device, non_blocking=True)\n",
        "\n",
        "class DeviceDataLoader():\n",
        "    \"\"\"Wrap a dataloader to move data to a device\"\"\"\n",
        "    def __init__(self, dl, device):\n",
        "        self.dl = dl\n",
        "        self.device = device\n",
        "        \n",
        "    def __iter__(self):\n",
        "        \"\"\"Yield a batch of data after moving it to device\"\"\"\n",
        "        for b in self.dl: \n",
        "            yield to_device(b, self.device)\n",
        "\n",
        "    def __len__(self):\n",
        "        \"\"\"Number of batches\"\"\"\n",
        "        return len(self.dl)"
      ],
      "metadata": {
        "id": "zX91NG8XyLhm"
      },
      "execution_count": 44,
      "outputs": []
    },
    {
      "cell_type": "code",
      "source": [
        "device = get_default_device()\n",
        "device"
      ],
      "metadata": {
        "colab": {
          "base_uri": "https://localhost:8080/"
        },
        "id": "2gF622Oqx6bJ",
        "outputId": "fc9a149d-56db-483f-f6a9-790929c2a22f"
      },
      "execution_count": 45,
      "outputs": [
        {
          "output_type": "execute_result",
          "data": {
            "text/plain": [
              "device(type='cuda')"
            ]
          },
          "metadata": {},
          "execution_count": 45
        }
      ]
    },
    {
      "cell_type": "code",
      "source": [
        "model = net\n",
        "model.to(device)"
      ],
      "metadata": {
        "id": "oP-IyGcVxEsr",
        "colab": {
          "base_uri": "https://localhost:8080/"
        },
        "outputId": "be2e4d79-ba14-4838-b91f-8bb69eacd459"
      },
      "execution_count": 46,
      "outputs": [
        {
          "output_type": "execute_result",
          "data": {
            "text/plain": [
              "DataParallel(\n",
              "  (module): ResNet(\n",
              "    (conv1): Conv2d(3, 64, kernel_size=(3, 3), stride=(1, 1), padding=(1, 1), bias=False)\n",
              "    (bn1): BatchNorm2d(64, eps=1e-05, momentum=0.1, affine=True, track_running_stats=True)\n",
              "    (layer1): Sequential(\n",
              "      (0): BasicBlock(\n",
              "        (conv1): Conv2d(64, 64, kernel_size=(3, 3), stride=(1, 1), padding=(1, 1), bias=False)\n",
              "        (bn1): BatchNorm2d(64, eps=1e-05, momentum=0.1, affine=True, track_running_stats=True)\n",
              "        (conv2): Conv2d(64, 64, kernel_size=(3, 3), stride=(1, 1), padding=(1, 1), bias=False)\n",
              "        (bn2): BatchNorm2d(64, eps=1e-05, momentum=0.1, affine=True, track_running_stats=True)\n",
              "        (shortcut): Sequential()\n",
              "      )\n",
              "      (1): BasicBlock(\n",
              "        (conv1): Conv2d(64, 64, kernel_size=(3, 3), stride=(1, 1), padding=(1, 1), bias=False)\n",
              "        (bn1): BatchNorm2d(64, eps=1e-05, momentum=0.1, affine=True, track_running_stats=True)\n",
              "        (conv2): Conv2d(64, 64, kernel_size=(3, 3), stride=(1, 1), padding=(1, 1), bias=False)\n",
              "        (bn2): BatchNorm2d(64, eps=1e-05, momentum=0.1, affine=True, track_running_stats=True)\n",
              "        (shortcut): Sequential()\n",
              "      )\n",
              "    )\n",
              "    (layer2): Sequential(\n",
              "      (0): BasicBlock(\n",
              "        (conv1): Conv2d(64, 128, kernel_size=(3, 3), stride=(2, 2), padding=(1, 1), bias=False)\n",
              "        (bn1): BatchNorm2d(128, eps=1e-05, momentum=0.1, affine=True, track_running_stats=True)\n",
              "        (conv2): Conv2d(128, 128, kernel_size=(3, 3), stride=(1, 1), padding=(1, 1), bias=False)\n",
              "        (bn2): BatchNorm2d(128, eps=1e-05, momentum=0.1, affine=True, track_running_stats=True)\n",
              "        (shortcut): Sequential(\n",
              "          (0): Conv2d(64, 128, kernel_size=(1, 1), stride=(2, 2), bias=False)\n",
              "          (1): BatchNorm2d(128, eps=1e-05, momentum=0.1, affine=True, track_running_stats=True)\n",
              "        )\n",
              "      )\n",
              "      (1): BasicBlock(\n",
              "        (conv1): Conv2d(128, 128, kernel_size=(3, 3), stride=(1, 1), padding=(1, 1), bias=False)\n",
              "        (bn1): BatchNorm2d(128, eps=1e-05, momentum=0.1, affine=True, track_running_stats=True)\n",
              "        (conv2): Conv2d(128, 128, kernel_size=(3, 3), stride=(1, 1), padding=(1, 1), bias=False)\n",
              "        (bn2): BatchNorm2d(128, eps=1e-05, momentum=0.1, affine=True, track_running_stats=True)\n",
              "        (shortcut): Sequential()\n",
              "      )\n",
              "    )\n",
              "    (layer3): Sequential(\n",
              "      (0): BasicBlock(\n",
              "        (conv1): Conv2d(128, 256, kernel_size=(3, 3), stride=(2, 2), padding=(1, 1), bias=False)\n",
              "        (bn1): BatchNorm2d(256, eps=1e-05, momentum=0.1, affine=True, track_running_stats=True)\n",
              "        (conv2): Conv2d(256, 256, kernel_size=(3, 3), stride=(1, 1), padding=(1, 1), bias=False)\n",
              "        (bn2): BatchNorm2d(256, eps=1e-05, momentum=0.1, affine=True, track_running_stats=True)\n",
              "        (shortcut): Sequential(\n",
              "          (0): Conv2d(128, 256, kernel_size=(1, 1), stride=(2, 2), bias=False)\n",
              "          (1): BatchNorm2d(256, eps=1e-05, momentum=0.1, affine=True, track_running_stats=True)\n",
              "        )\n",
              "      )\n",
              "      (1): BasicBlock(\n",
              "        (conv1): Conv2d(256, 256, kernel_size=(3, 3), stride=(1, 1), padding=(1, 1), bias=False)\n",
              "        (bn1): BatchNorm2d(256, eps=1e-05, momentum=0.1, affine=True, track_running_stats=True)\n",
              "        (conv2): Conv2d(256, 256, kernel_size=(3, 3), stride=(1, 1), padding=(1, 1), bias=False)\n",
              "        (bn2): BatchNorm2d(256, eps=1e-05, momentum=0.1, affine=True, track_running_stats=True)\n",
              "        (shortcut): Sequential()\n",
              "      )\n",
              "    )\n",
              "    (layer4): Sequential(\n",
              "      (0): BasicBlock(\n",
              "        (conv1): Conv2d(256, 512, kernel_size=(3, 3), stride=(2, 2), padding=(1, 1), bias=False)\n",
              "        (bn1): BatchNorm2d(512, eps=1e-05, momentum=0.1, affine=True, track_running_stats=True)\n",
              "        (conv2): Conv2d(512, 512, kernel_size=(3, 3), stride=(1, 1), padding=(1, 1), bias=False)\n",
              "        (bn2): BatchNorm2d(512, eps=1e-05, momentum=0.1, affine=True, track_running_stats=True)\n",
              "        (shortcut): Sequential(\n",
              "          (0): Conv2d(256, 512, kernel_size=(1, 1), stride=(2, 2), bias=False)\n",
              "          (1): BatchNorm2d(512, eps=1e-05, momentum=0.1, affine=True, track_running_stats=True)\n",
              "        )\n",
              "      )\n",
              "      (1): BasicBlock(\n",
              "        (conv1): Conv2d(512, 512, kernel_size=(3, 3), stride=(1, 1), padding=(1, 1), bias=False)\n",
              "        (bn1): BatchNorm2d(512, eps=1e-05, momentum=0.1, affine=True, track_running_stats=True)\n",
              "        (conv2): Conv2d(512, 512, kernel_size=(3, 3), stride=(1, 1), padding=(1, 1), bias=False)\n",
              "        (bn2): BatchNorm2d(512, eps=1e-05, momentum=0.1, affine=True, track_running_stats=True)\n",
              "        (shortcut): Sequential()\n",
              "      )\n",
              "    )\n",
              "    (linear): Linear(in_features=512, out_features=10, bias=True)\n",
              "  )\n",
              ")"
            ]
          },
          "metadata": {},
          "execution_count": 46
        }
      ]
    },
    {
      "cell_type": "code",
      "source": [
        "criterion = nn.CrossEntropyLoss()\n",
        "\n",
        "classifier = PyTorchClassifier(\n",
        "    model=model,\n",
        "    loss=criterion,\n",
        "    input_shape=(3, 32, 32),\n",
        "    nb_classes=10,\n",
        "    device_type='gpu'\n",
        ")"
      ],
      "metadata": {
        "id": "EQkMTv-qxLCU"
      },
      "execution_count": 47,
      "outputs": []
    },
    {
      "cell_type": "code",
      "source": [
        "fgsm_attack = FastGradientMethod(estimator = classifier, eps=0.15)"
      ],
      "metadata": {
        "id": "wGm-YceYxfdq"
      },
      "execution_count": 48,
      "outputs": []
    },
    {
      "cell_type": "code",
      "source": [
        "from tqdm import tqdm\n",
        "import torchvision.transforms as transforms\n",
        "transform = transforms.Compose([transforms.ToTensor(),\n",
        "                                transforms.Normalize((0.4914, 0.4822, 0.4465), (0.2023, 0.1994, 0.2010))])\n",
        "validset = torchvision.datasets.CIFAR10(root='../input/cifar10-python/', train=False,\n",
        "                                       download=True, transform=transform)\n",
        "valid_loader = torch.utils.data.DataLoader(validset, batch_size=16,\n",
        "                                         shuffle=True, num_workers=2)"
      ],
      "metadata": {
        "colab": {
          "base_uri": "https://localhost:8080/",
          "height": 85,
          "referenced_widgets": [
            "ccc1770cfc5f41c090949ab715221948",
            "1f5798be691a4d7298a0e19723c910f6",
            "27fccb5dc9cb40cc9bd3e9b7f4028d23",
            "72e8b76fa9e440159166b2ab1b53be7c",
            "81c3943bdb7846129fc2a9a2fd13edaf",
            "288314084d234cbeaacf338a9be4adf2",
            "a95309db4a834802aecc44f3c1e3cfdb",
            "d21a65b3d0294d9aa61deef72e671490",
            "aeafbe83e03e448c86db470b2fba900f",
            "6f5b6179096340b3a976b4f27fab8d5e",
            "1f91a0878a1743699abed456f38dca4e"
          ]
        },
        "id": "pC0R4Yt7ybtq",
        "outputId": "15f2b88f-5454-46ca-9fcb-6e66971858a0"
      },
      "execution_count": 49,
      "outputs": [
        {
          "output_type": "stream",
          "name": "stdout",
          "text": [
            "Downloading https://www.cs.toronto.edu/~kriz/cifar-10-python.tar.gz to ../input/cifar10-python/cifar-10-python.tar.gz\n"
          ]
        },
        {
          "output_type": "display_data",
          "data": {
            "text/plain": [
              "  0%|          | 0/170498071 [00:00<?, ?it/s]"
            ],
            "application/vnd.jupyter.widget-view+json": {
              "version_major": 2,
              "version_minor": 0,
              "model_id": "ccc1770cfc5f41c090949ab715221948"
            }
          },
          "metadata": {}
        },
        {
          "output_type": "stream",
          "name": "stdout",
          "text": [
            "Extracting ../input/cifar10-python/cifar-10-python.tar.gz to ../input/cifar10-python/\n"
          ]
        }
      ]
    },
    {
      "cell_type": "code",
      "source": [
        "eps = [0.001, 0.005, 0.01, 0.02, 0.03, 0.05, 0.1, 0.15, 0.20]\n",
        "for e in eps:\n",
        "  fgsm_attack = FastGradientMethod(estimator = classifier, eps = e)\n",
        "  preds = []\n",
        "  ans = []\n",
        "  for batch in tqdm(valid_loader):\n",
        "    imgs = batch[0]\n",
        "    #     plt.imshow(imgs[0].permute(1,2,0))\n",
        "    x_adv = fgsm_attack.generate(x=imgs.numpy())\n",
        "    #     plt.imshow(x_adv[0].transpose(1,2,0))\n",
        "    imgs_adv = torch.from_numpy(x_adv).to(device)\n",
        "    with torch.no_grad():\n",
        "      logits = model(imgs_adv)\n",
        "      #         print(nn.Softmax(dim=1)(logits))\n",
        "      #         break\n",
        "      logits = logits.argmax(dim=-1).cpu().tolist()\n",
        "      preds += logits\n",
        "      ans += batch[1]\n",
        "  cnt = 0\n",
        "  for pred, an in zip(preds, ans):\n",
        "      if pred == an:\n",
        "          cnt += 1\n",
        "  acc = cnt / len(preds)\n",
        "  print(f'ACC for eps = {eps} is: {acc}')"
      ],
      "metadata": {
        "colab": {
          "base_uri": "https://localhost:8080/"
        },
        "id": "w3mk0nETy2oj",
        "outputId": "42a9e892-a1a9-4974-cf8f-c761cb41bb5a"
      },
      "execution_count": 50,
      "outputs": [
        {
          "output_type": "stream",
          "name": "stderr",
          "text": [
            "100%|██████████| 625/625 [00:23<00:00, 26.27it/s]\n"
          ]
        },
        {
          "output_type": "stream",
          "name": "stdout",
          "text": [
            "ACC for eps = [0.001, 0.005, 0.01, 0.02, 0.03, 0.05, 0.1, 0.15, 0.2] is: 0.9767\n"
          ]
        },
        {
          "output_type": "stream",
          "name": "stderr",
          "text": [
            "100%|██████████| 625/625 [00:24<00:00, 25.21it/s]\n"
          ]
        },
        {
          "output_type": "stream",
          "name": "stdout",
          "text": [
            "ACC for eps = [0.001, 0.005, 0.01, 0.02, 0.03, 0.05, 0.1, 0.15, 0.2] is: 0.9587\n"
          ]
        },
        {
          "output_type": "stream",
          "name": "stderr",
          "text": [
            "100%|██████████| 625/625 [00:24<00:00, 25.98it/s]\n"
          ]
        },
        {
          "output_type": "stream",
          "name": "stdout",
          "text": [
            "ACC for eps = [0.001, 0.005, 0.01, 0.02, 0.03, 0.05, 0.1, 0.15, 0.2] is: 0.9077\n"
          ]
        },
        {
          "output_type": "stream",
          "name": "stderr",
          "text": [
            "100%|██████████| 625/625 [00:23<00:00, 26.30it/s]\n"
          ]
        },
        {
          "output_type": "stream",
          "name": "stdout",
          "text": [
            "ACC for eps = [0.001, 0.005, 0.01, 0.02, 0.03, 0.05, 0.1, 0.15, 0.2] is: 0.7455\n"
          ]
        },
        {
          "output_type": "stream",
          "name": "stderr",
          "text": [
            "100%|██████████| 625/625 [00:23<00:00, 26.25it/s]\n"
          ]
        },
        {
          "output_type": "stream",
          "name": "stdout",
          "text": [
            "ACC for eps = [0.001, 0.005, 0.01, 0.02, 0.03, 0.05, 0.1, 0.15, 0.2] is: 0.5842\n"
          ]
        },
        {
          "output_type": "stream",
          "name": "stderr",
          "text": [
            "100%|██████████| 625/625 [00:23<00:00, 26.24it/s]\n"
          ]
        },
        {
          "output_type": "stream",
          "name": "stdout",
          "text": [
            "ACC for eps = [0.001, 0.005, 0.01, 0.02, 0.03, 0.05, 0.1, 0.15, 0.2] is: 0.3591\n"
          ]
        },
        {
          "output_type": "stream",
          "name": "stderr",
          "text": [
            "100%|██████████| 625/625 [00:24<00:00, 25.68it/s]\n"
          ]
        },
        {
          "output_type": "stream",
          "name": "stdout",
          "text": [
            "ACC for eps = [0.001, 0.005, 0.01, 0.02, 0.03, 0.05, 0.1, 0.15, 0.2] is: 0.1799\n"
          ]
        },
        {
          "output_type": "stream",
          "name": "stderr",
          "text": [
            "100%|██████████| 625/625 [00:23<00:00, 26.05it/s]\n"
          ]
        },
        {
          "output_type": "stream",
          "name": "stdout",
          "text": [
            "ACC for eps = [0.001, 0.005, 0.01, 0.02, 0.03, 0.05, 0.1, 0.15, 0.2] is: 0.1332\n"
          ]
        },
        {
          "output_type": "stream",
          "name": "stderr",
          "text": [
            "100%|██████████| 625/625 [00:24<00:00, 26.04it/s]"
          ]
        },
        {
          "output_type": "stream",
          "name": "stdout",
          "text": [
            "ACC for eps = [0.001, 0.005, 0.01, 0.02, 0.03, 0.05, 0.1, 0.15, 0.2] is: 0.1198\n"
          ]
        },
        {
          "output_type": "stream",
          "name": "stderr",
          "text": [
            "\n"
          ]
        }
      ]
    },
    {
      "cell_type": "code",
      "source": [],
      "metadata": {
        "id": "acg0f_QXAakV"
      },
      "execution_count": null,
      "outputs": []
    }
  ],
  "metadata": {
    "accelerator": "GPU",
    "colab": {
      "machine_shape": "hm",
      "provenance": [],
      "include_colab_link": true
    },
    "kernel": {
      "display_name": "Python 3",
      "language": "python",
      "name": "python3"
    },
    "kernelspec": {
      "display_name": "Python 3",
      "name": "python3"
    },
    "language_info": {
      "name": "python"
    },
    "widgets": {
      "application/vnd.jupyter.widget-state+json": {
        "6263df8e545046af9e4f9d9997a1352e": {
          "model_module": "@jupyter-widgets/controls",
          "model_name": "HBoxModel",
          "model_module_version": "1.5.0",
          "state": {
            "_dom_classes": [],
            "_model_module": "@jupyter-widgets/controls",
            "_model_module_version": "1.5.0",
            "_model_name": "HBoxModel",
            "_view_count": null,
            "_view_module": "@jupyter-widgets/controls",
            "_view_module_version": "1.5.0",
            "_view_name": "HBoxView",
            "box_style": "",
            "children": [
              "IPY_MODEL_45fe483eb41546c1ba91a22035f62f47",
              "IPY_MODEL_9eb2ddcd9a48467287b8850016f836e1",
              "IPY_MODEL_a2b812fd1ef7484bb145ce8f35832a6b"
            ],
            "layout": "IPY_MODEL_1d7a7b8b924e459b8fb3d37a5b5eebb3"
          }
        },
        "45fe483eb41546c1ba91a22035f62f47": {
          "model_module": "@jupyter-widgets/controls",
          "model_name": "HTMLModel",
          "model_module_version": "1.5.0",
          "state": {
            "_dom_classes": [],
            "_model_module": "@jupyter-widgets/controls",
            "_model_module_version": "1.5.0",
            "_model_name": "HTMLModel",
            "_view_count": null,
            "_view_module": "@jupyter-widgets/controls",
            "_view_module_version": "1.5.0",
            "_view_name": "HTMLView",
            "description": "",
            "description_tooltip": null,
            "layout": "IPY_MODEL_891fddf668124f6e8155c1b4cc48e1cd",
            "placeholder": "​",
            "style": "IPY_MODEL_43c7a481226443f48a4893cd686bb313",
            "value": "100%"
          }
        },
        "9eb2ddcd9a48467287b8850016f836e1": {
          "model_module": "@jupyter-widgets/controls",
          "model_name": "FloatProgressModel",
          "model_module_version": "1.5.0",
          "state": {
            "_dom_classes": [],
            "_model_module": "@jupyter-widgets/controls",
            "_model_module_version": "1.5.0",
            "_model_name": "FloatProgressModel",
            "_view_count": null,
            "_view_module": "@jupyter-widgets/controls",
            "_view_module_version": "1.5.0",
            "_view_name": "ProgressView",
            "bar_style": "success",
            "description": "",
            "description_tooltip": null,
            "layout": "IPY_MODEL_4ce49d7a57f743a991d8a89312222d11",
            "max": 170498071,
            "min": 0,
            "orientation": "horizontal",
            "style": "IPY_MODEL_258832def71d420e8aa97c7f0ff43442",
            "value": 170498071
          }
        },
        "a2b812fd1ef7484bb145ce8f35832a6b": {
          "model_module": "@jupyter-widgets/controls",
          "model_name": "HTMLModel",
          "model_module_version": "1.5.0",
          "state": {
            "_dom_classes": [],
            "_model_module": "@jupyter-widgets/controls",
            "_model_module_version": "1.5.0",
            "_model_name": "HTMLModel",
            "_view_count": null,
            "_view_module": "@jupyter-widgets/controls",
            "_view_module_version": "1.5.0",
            "_view_name": "HTMLView",
            "description": "",
            "description_tooltip": null,
            "layout": "IPY_MODEL_d284e5449c5942a59a1158446b8a948f",
            "placeholder": "​",
            "style": "IPY_MODEL_f1b03401d3c04ffebc92c28a7e6ce9a9",
            "value": " 170498071/170498071 [00:05&lt;00:00, 33666311.26it/s]"
          }
        },
        "1d7a7b8b924e459b8fb3d37a5b5eebb3": {
          "model_module": "@jupyter-widgets/base",
          "model_name": "LayoutModel",
          "model_module_version": "1.2.0",
          "state": {
            "_model_module": "@jupyter-widgets/base",
            "_model_module_version": "1.2.0",
            "_model_name": "LayoutModel",
            "_view_count": null,
            "_view_module": "@jupyter-widgets/base",
            "_view_module_version": "1.2.0",
            "_view_name": "LayoutView",
            "align_content": null,
            "align_items": null,
            "align_self": null,
            "border": null,
            "bottom": null,
            "display": null,
            "flex": null,
            "flex_flow": null,
            "grid_area": null,
            "grid_auto_columns": null,
            "grid_auto_flow": null,
            "grid_auto_rows": null,
            "grid_column": null,
            "grid_gap": null,
            "grid_row": null,
            "grid_template_areas": null,
            "grid_template_columns": null,
            "grid_template_rows": null,
            "height": null,
            "justify_content": null,
            "justify_items": null,
            "left": null,
            "margin": null,
            "max_height": null,
            "max_width": null,
            "min_height": null,
            "min_width": null,
            "object_fit": null,
            "object_position": null,
            "order": null,
            "overflow": null,
            "overflow_x": null,
            "overflow_y": null,
            "padding": null,
            "right": null,
            "top": null,
            "visibility": null,
            "width": null
          }
        },
        "891fddf668124f6e8155c1b4cc48e1cd": {
          "model_module": "@jupyter-widgets/base",
          "model_name": "LayoutModel",
          "model_module_version": "1.2.0",
          "state": {
            "_model_module": "@jupyter-widgets/base",
            "_model_module_version": "1.2.0",
            "_model_name": "LayoutModel",
            "_view_count": null,
            "_view_module": "@jupyter-widgets/base",
            "_view_module_version": "1.2.0",
            "_view_name": "LayoutView",
            "align_content": null,
            "align_items": null,
            "align_self": null,
            "border": null,
            "bottom": null,
            "display": null,
            "flex": null,
            "flex_flow": null,
            "grid_area": null,
            "grid_auto_columns": null,
            "grid_auto_flow": null,
            "grid_auto_rows": null,
            "grid_column": null,
            "grid_gap": null,
            "grid_row": null,
            "grid_template_areas": null,
            "grid_template_columns": null,
            "grid_template_rows": null,
            "height": null,
            "justify_content": null,
            "justify_items": null,
            "left": null,
            "margin": null,
            "max_height": null,
            "max_width": null,
            "min_height": null,
            "min_width": null,
            "object_fit": null,
            "object_position": null,
            "order": null,
            "overflow": null,
            "overflow_x": null,
            "overflow_y": null,
            "padding": null,
            "right": null,
            "top": null,
            "visibility": null,
            "width": null
          }
        },
        "43c7a481226443f48a4893cd686bb313": {
          "model_module": "@jupyter-widgets/controls",
          "model_name": "DescriptionStyleModel",
          "model_module_version": "1.5.0",
          "state": {
            "_model_module": "@jupyter-widgets/controls",
            "_model_module_version": "1.5.0",
            "_model_name": "DescriptionStyleModel",
            "_view_count": null,
            "_view_module": "@jupyter-widgets/base",
            "_view_module_version": "1.2.0",
            "_view_name": "StyleView",
            "description_width": ""
          }
        },
        "4ce49d7a57f743a991d8a89312222d11": {
          "model_module": "@jupyter-widgets/base",
          "model_name": "LayoutModel",
          "model_module_version": "1.2.0",
          "state": {
            "_model_module": "@jupyter-widgets/base",
            "_model_module_version": "1.2.0",
            "_model_name": "LayoutModel",
            "_view_count": null,
            "_view_module": "@jupyter-widgets/base",
            "_view_module_version": "1.2.0",
            "_view_name": "LayoutView",
            "align_content": null,
            "align_items": null,
            "align_self": null,
            "border": null,
            "bottom": null,
            "display": null,
            "flex": null,
            "flex_flow": null,
            "grid_area": null,
            "grid_auto_columns": null,
            "grid_auto_flow": null,
            "grid_auto_rows": null,
            "grid_column": null,
            "grid_gap": null,
            "grid_row": null,
            "grid_template_areas": null,
            "grid_template_columns": null,
            "grid_template_rows": null,
            "height": null,
            "justify_content": null,
            "justify_items": null,
            "left": null,
            "margin": null,
            "max_height": null,
            "max_width": null,
            "min_height": null,
            "min_width": null,
            "object_fit": null,
            "object_position": null,
            "order": null,
            "overflow": null,
            "overflow_x": null,
            "overflow_y": null,
            "padding": null,
            "right": null,
            "top": null,
            "visibility": null,
            "width": null
          }
        },
        "258832def71d420e8aa97c7f0ff43442": {
          "model_module": "@jupyter-widgets/controls",
          "model_name": "ProgressStyleModel",
          "model_module_version": "1.5.0",
          "state": {
            "_model_module": "@jupyter-widgets/controls",
            "_model_module_version": "1.5.0",
            "_model_name": "ProgressStyleModel",
            "_view_count": null,
            "_view_module": "@jupyter-widgets/base",
            "_view_module_version": "1.2.0",
            "_view_name": "StyleView",
            "bar_color": null,
            "description_width": ""
          }
        },
        "d284e5449c5942a59a1158446b8a948f": {
          "model_module": "@jupyter-widgets/base",
          "model_name": "LayoutModel",
          "model_module_version": "1.2.0",
          "state": {
            "_model_module": "@jupyter-widgets/base",
            "_model_module_version": "1.2.0",
            "_model_name": "LayoutModel",
            "_view_count": null,
            "_view_module": "@jupyter-widgets/base",
            "_view_module_version": "1.2.0",
            "_view_name": "LayoutView",
            "align_content": null,
            "align_items": null,
            "align_self": null,
            "border": null,
            "bottom": null,
            "display": null,
            "flex": null,
            "flex_flow": null,
            "grid_area": null,
            "grid_auto_columns": null,
            "grid_auto_flow": null,
            "grid_auto_rows": null,
            "grid_column": null,
            "grid_gap": null,
            "grid_row": null,
            "grid_template_areas": null,
            "grid_template_columns": null,
            "grid_template_rows": null,
            "height": null,
            "justify_content": null,
            "justify_items": null,
            "left": null,
            "margin": null,
            "max_height": null,
            "max_width": null,
            "min_height": null,
            "min_width": null,
            "object_fit": null,
            "object_position": null,
            "order": null,
            "overflow": null,
            "overflow_x": null,
            "overflow_y": null,
            "padding": null,
            "right": null,
            "top": null,
            "visibility": null,
            "width": null
          }
        },
        "f1b03401d3c04ffebc92c28a7e6ce9a9": {
          "model_module": "@jupyter-widgets/controls",
          "model_name": "DescriptionStyleModel",
          "model_module_version": "1.5.0",
          "state": {
            "_model_module": "@jupyter-widgets/controls",
            "_model_module_version": "1.5.0",
            "_model_name": "DescriptionStyleModel",
            "_view_count": null,
            "_view_module": "@jupyter-widgets/base",
            "_view_module_version": "1.2.0",
            "_view_name": "StyleView",
            "description_width": ""
          }
        },
        "ccc1770cfc5f41c090949ab715221948": {
          "model_module": "@jupyter-widgets/controls",
          "model_name": "HBoxModel",
          "model_module_version": "1.5.0",
          "state": {
            "_dom_classes": [],
            "_model_module": "@jupyter-widgets/controls",
            "_model_module_version": "1.5.0",
            "_model_name": "HBoxModel",
            "_view_count": null,
            "_view_module": "@jupyter-widgets/controls",
            "_view_module_version": "1.5.0",
            "_view_name": "HBoxView",
            "box_style": "",
            "children": [
              "IPY_MODEL_1f5798be691a4d7298a0e19723c910f6",
              "IPY_MODEL_27fccb5dc9cb40cc9bd3e9b7f4028d23",
              "IPY_MODEL_72e8b76fa9e440159166b2ab1b53be7c"
            ],
            "layout": "IPY_MODEL_81c3943bdb7846129fc2a9a2fd13edaf"
          }
        },
        "1f5798be691a4d7298a0e19723c910f6": {
          "model_module": "@jupyter-widgets/controls",
          "model_name": "HTMLModel",
          "model_module_version": "1.5.0",
          "state": {
            "_dom_classes": [],
            "_model_module": "@jupyter-widgets/controls",
            "_model_module_version": "1.5.0",
            "_model_name": "HTMLModel",
            "_view_count": null,
            "_view_module": "@jupyter-widgets/controls",
            "_view_module_version": "1.5.0",
            "_view_name": "HTMLView",
            "description": "",
            "description_tooltip": null,
            "layout": "IPY_MODEL_288314084d234cbeaacf338a9be4adf2",
            "placeholder": "​",
            "style": "IPY_MODEL_a95309db4a834802aecc44f3c1e3cfdb",
            "value": "100%"
          }
        },
        "27fccb5dc9cb40cc9bd3e9b7f4028d23": {
          "model_module": "@jupyter-widgets/controls",
          "model_name": "FloatProgressModel",
          "model_module_version": "1.5.0",
          "state": {
            "_dom_classes": [],
            "_model_module": "@jupyter-widgets/controls",
            "_model_module_version": "1.5.0",
            "_model_name": "FloatProgressModel",
            "_view_count": null,
            "_view_module": "@jupyter-widgets/controls",
            "_view_module_version": "1.5.0",
            "_view_name": "ProgressView",
            "bar_style": "success",
            "description": "",
            "description_tooltip": null,
            "layout": "IPY_MODEL_d21a65b3d0294d9aa61deef72e671490",
            "max": 170498071,
            "min": 0,
            "orientation": "horizontal",
            "style": "IPY_MODEL_aeafbe83e03e448c86db470b2fba900f",
            "value": 170498071
          }
        },
        "72e8b76fa9e440159166b2ab1b53be7c": {
          "model_module": "@jupyter-widgets/controls",
          "model_name": "HTMLModel",
          "model_module_version": "1.5.0",
          "state": {
            "_dom_classes": [],
            "_model_module": "@jupyter-widgets/controls",
            "_model_module_version": "1.5.0",
            "_model_name": "HTMLModel",
            "_view_count": null,
            "_view_module": "@jupyter-widgets/controls",
            "_view_module_version": "1.5.0",
            "_view_name": "HTMLView",
            "description": "",
            "description_tooltip": null,
            "layout": "IPY_MODEL_6f5b6179096340b3a976b4f27fab8d5e",
            "placeholder": "​",
            "style": "IPY_MODEL_1f91a0878a1743699abed456f38dca4e",
            "value": " 170498071/170498071 [00:05&lt;00:00, 32681490.27it/s]"
          }
        },
        "81c3943bdb7846129fc2a9a2fd13edaf": {
          "model_module": "@jupyter-widgets/base",
          "model_name": "LayoutModel",
          "model_module_version": "1.2.0",
          "state": {
            "_model_module": "@jupyter-widgets/base",
            "_model_module_version": "1.2.0",
            "_model_name": "LayoutModel",
            "_view_count": null,
            "_view_module": "@jupyter-widgets/base",
            "_view_module_version": "1.2.0",
            "_view_name": "LayoutView",
            "align_content": null,
            "align_items": null,
            "align_self": null,
            "border": null,
            "bottom": null,
            "display": null,
            "flex": null,
            "flex_flow": null,
            "grid_area": null,
            "grid_auto_columns": null,
            "grid_auto_flow": null,
            "grid_auto_rows": null,
            "grid_column": null,
            "grid_gap": null,
            "grid_row": null,
            "grid_template_areas": null,
            "grid_template_columns": null,
            "grid_template_rows": null,
            "height": null,
            "justify_content": null,
            "justify_items": null,
            "left": null,
            "margin": null,
            "max_height": null,
            "max_width": null,
            "min_height": null,
            "min_width": null,
            "object_fit": null,
            "object_position": null,
            "order": null,
            "overflow": null,
            "overflow_x": null,
            "overflow_y": null,
            "padding": null,
            "right": null,
            "top": null,
            "visibility": null,
            "width": null
          }
        },
        "288314084d234cbeaacf338a9be4adf2": {
          "model_module": "@jupyter-widgets/base",
          "model_name": "LayoutModel",
          "model_module_version": "1.2.0",
          "state": {
            "_model_module": "@jupyter-widgets/base",
            "_model_module_version": "1.2.0",
            "_model_name": "LayoutModel",
            "_view_count": null,
            "_view_module": "@jupyter-widgets/base",
            "_view_module_version": "1.2.0",
            "_view_name": "LayoutView",
            "align_content": null,
            "align_items": null,
            "align_self": null,
            "border": null,
            "bottom": null,
            "display": null,
            "flex": null,
            "flex_flow": null,
            "grid_area": null,
            "grid_auto_columns": null,
            "grid_auto_flow": null,
            "grid_auto_rows": null,
            "grid_column": null,
            "grid_gap": null,
            "grid_row": null,
            "grid_template_areas": null,
            "grid_template_columns": null,
            "grid_template_rows": null,
            "height": null,
            "justify_content": null,
            "justify_items": null,
            "left": null,
            "margin": null,
            "max_height": null,
            "max_width": null,
            "min_height": null,
            "min_width": null,
            "object_fit": null,
            "object_position": null,
            "order": null,
            "overflow": null,
            "overflow_x": null,
            "overflow_y": null,
            "padding": null,
            "right": null,
            "top": null,
            "visibility": null,
            "width": null
          }
        },
        "a95309db4a834802aecc44f3c1e3cfdb": {
          "model_module": "@jupyter-widgets/controls",
          "model_name": "DescriptionStyleModel",
          "model_module_version": "1.5.0",
          "state": {
            "_model_module": "@jupyter-widgets/controls",
            "_model_module_version": "1.5.0",
            "_model_name": "DescriptionStyleModel",
            "_view_count": null,
            "_view_module": "@jupyter-widgets/base",
            "_view_module_version": "1.2.0",
            "_view_name": "StyleView",
            "description_width": ""
          }
        },
        "d21a65b3d0294d9aa61deef72e671490": {
          "model_module": "@jupyter-widgets/base",
          "model_name": "LayoutModel",
          "model_module_version": "1.2.0",
          "state": {
            "_model_module": "@jupyter-widgets/base",
            "_model_module_version": "1.2.0",
            "_model_name": "LayoutModel",
            "_view_count": null,
            "_view_module": "@jupyter-widgets/base",
            "_view_module_version": "1.2.0",
            "_view_name": "LayoutView",
            "align_content": null,
            "align_items": null,
            "align_self": null,
            "border": null,
            "bottom": null,
            "display": null,
            "flex": null,
            "flex_flow": null,
            "grid_area": null,
            "grid_auto_columns": null,
            "grid_auto_flow": null,
            "grid_auto_rows": null,
            "grid_column": null,
            "grid_gap": null,
            "grid_row": null,
            "grid_template_areas": null,
            "grid_template_columns": null,
            "grid_template_rows": null,
            "height": null,
            "justify_content": null,
            "justify_items": null,
            "left": null,
            "margin": null,
            "max_height": null,
            "max_width": null,
            "min_height": null,
            "min_width": null,
            "object_fit": null,
            "object_position": null,
            "order": null,
            "overflow": null,
            "overflow_x": null,
            "overflow_y": null,
            "padding": null,
            "right": null,
            "top": null,
            "visibility": null,
            "width": null
          }
        },
        "aeafbe83e03e448c86db470b2fba900f": {
          "model_module": "@jupyter-widgets/controls",
          "model_name": "ProgressStyleModel",
          "model_module_version": "1.5.0",
          "state": {
            "_model_module": "@jupyter-widgets/controls",
            "_model_module_version": "1.5.0",
            "_model_name": "ProgressStyleModel",
            "_view_count": null,
            "_view_module": "@jupyter-widgets/base",
            "_view_module_version": "1.2.0",
            "_view_name": "StyleView",
            "bar_color": null,
            "description_width": ""
          }
        },
        "6f5b6179096340b3a976b4f27fab8d5e": {
          "model_module": "@jupyter-widgets/base",
          "model_name": "LayoutModel",
          "model_module_version": "1.2.0",
          "state": {
            "_model_module": "@jupyter-widgets/base",
            "_model_module_version": "1.2.0",
            "_model_name": "LayoutModel",
            "_view_count": null,
            "_view_module": "@jupyter-widgets/base",
            "_view_module_version": "1.2.0",
            "_view_name": "LayoutView",
            "align_content": null,
            "align_items": null,
            "align_self": null,
            "border": null,
            "bottom": null,
            "display": null,
            "flex": null,
            "flex_flow": null,
            "grid_area": null,
            "grid_auto_columns": null,
            "grid_auto_flow": null,
            "grid_auto_rows": null,
            "grid_column": null,
            "grid_gap": null,
            "grid_row": null,
            "grid_template_areas": null,
            "grid_template_columns": null,
            "grid_template_rows": null,
            "height": null,
            "justify_content": null,
            "justify_items": null,
            "left": null,
            "margin": null,
            "max_height": null,
            "max_width": null,
            "min_height": null,
            "min_width": null,
            "object_fit": null,
            "object_position": null,
            "order": null,
            "overflow": null,
            "overflow_x": null,
            "overflow_y": null,
            "padding": null,
            "right": null,
            "top": null,
            "visibility": null,
            "width": null
          }
        },
        "1f91a0878a1743699abed456f38dca4e": {
          "model_module": "@jupyter-widgets/controls",
          "model_name": "DescriptionStyleModel",
          "model_module_version": "1.5.0",
          "state": {
            "_model_module": "@jupyter-widgets/controls",
            "_model_module_version": "1.5.0",
            "_model_name": "DescriptionStyleModel",
            "_view_count": null,
            "_view_module": "@jupyter-widgets/base",
            "_view_module_version": "1.2.0",
            "_view_name": "StyleView",
            "description_width": ""
          }
        }
      }
    }
  },
  "nbformat": 4,
  "nbformat_minor": 0
}